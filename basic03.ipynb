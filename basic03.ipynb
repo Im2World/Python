{
 "cells": [
  {
   "cell_type": "code",
   "execution_count": 50,
   "id": "b073cc49",
   "metadata": {},
   "outputs": [],
   "source": [
    "#파이썬기초3강\n",
    "#자료형\n",
    "a=10 #변수 a에 값 10 지정"
   ]
  },
  {
   "cell_type": "code",
   "execution_count": 51,
   "id": "cbdf657c",
   "metadata": {},
   "outputs": [],
   "source": [
    "b=1200 #변수 b에 값 1200 지정"
   ]
  },
  {
   "cell_type": "code",
   "execution_count": 52,
   "id": "51cf0fa1",
   "metadata": {},
   "outputs": [],
   "source": [
    "c=+1200 #변수 c 선언 후(=), 값 1200 더함(+)"
   ]
  },
  {
   "cell_type": "code",
   "execution_count": 53,
   "id": "ad8d8284",
   "metadata": {},
   "outputs": [],
   "source": [
    "d=-1234 #변수 d 선언 후(=) 값 1234 빼기(-)"
   ]
  },
  {
   "cell_type": "code",
   "execution_count": 54,
   "id": "7bba3d22",
   "metadata": {},
   "outputs": [
    {
     "name": "stdout",
     "output_type": "stream",
     "text": [
      "a= 10  b= 1200  c= 1200  d= -1234\n"
     ]
    }
   ],
   "source": [
    " print(\"a=\",a ,\" b=\",b ,\" c=\",c, \" d=\",d) #문자형 메세지와 변수들 출력."
   ]
  },
  {
   "cell_type": "code",
   "execution_count": 55,
   "id": "1a2fc6f2",
   "metadata": {},
   "outputs": [],
   "source": [
    "#자료형 - 정수형\n",
    "#파이썬은 자바, C와 달리 큰 숫자 계산도 가능\n",
    "a = 123456789123456789123456789123456789123456789123456789123456789"
   ]
  },
  {
   "cell_type": "code",
   "execution_count": 56,
   "id": "060b5615",
   "metadata": {},
   "outputs": [],
   "source": [
    "b = 985612348923478916348912348945648923489312316574984565"
   ]
  },
  {
   "cell_type": "code",
   "execution_count": 57,
   "id": "8f7f5652",
   "metadata": {},
   "outputs": [
    {
     "name": "stdout",
     "output_type": "stream",
     "text": [
      "a+b= 123456790109069138046935705472369138069105712612769105698441354\n"
     ]
    }
   ],
   "source": [
    "print(\"a+b=\", a+b)   #문자형 메세지와 변수의 합 출력"
   ]
  },
  {
   "cell_type": "code",
   "execution_count": 58,
   "id": "187fd5eb",
   "metadata": {},
   "outputs": [
    {
     "name": "stdout",
     "output_type": "stream",
     "text": [
      "a*b= 121680535918520849640157171883434523498731697921230770040692554919012019122171705400535383157258031541960857119461785\n"
     ]
    }
   ],
   "source": [
    "print(\"a*b=\",a*b)   #문자형 메세지와 변수의 곱 출력"
   ]
  },
  {
   "cell_type": "code",
   "execution_count": 59,
   "id": "e8c98adf",
   "metadata": {},
   "outputs": [
    {
     "data": {
      "text/plain": [
       "10"
      ]
     },
     "execution_count": 59,
     "metadata": {},
     "output_type": "execute_result"
    }
   ],
   "source": [
    "#정수형 - 진수변환 _ 2진수\n",
    "#파이썬 기본형은 10진수\n",
    "0b1010  #2진수 접두사 0b => 1010은 2진수 => 2진수를 10진수로 => 8 + 2"
   ]
  },
  {
   "cell_type": "code",
   "execution_count": 60,
   "id": "6e584586",
   "metadata": {},
   "outputs": [
    {
     "data": {
      "text/plain": [
       "15"
      ]
     },
     "execution_count": 60,
     "metadata": {},
     "output_type": "execute_result"
    }
   ],
   "source": [
    "0b1111 #2진수 접두사 0b => 8+4+2+1"
   ]
  },
  {
   "cell_type": "code",
   "execution_count": 61,
   "id": "fc6aaeb2",
   "metadata": {},
   "outputs": [
    {
     "data": {
      "text/plain": [
       "1"
      ]
     },
     "execution_count": 61,
     "metadata": {},
     "output_type": "execute_result"
    }
   ],
   "source": [
    "0b0001 #2진수 접두사 0b => 1"
   ]
  },
  {
   "cell_type": "code",
   "execution_count": 62,
   "id": "340c65bc",
   "metadata": {},
   "outputs": [
    {
     "ename": "SyntaxError",
     "evalue": "invalid digit '2' in binary literal (2159012819.py, line 1)",
     "output_type": "error",
     "traceback": [
      "\u001b[1;36m  Input \u001b[1;32mIn [62]\u001b[1;36m\u001b[0m\n\u001b[1;33m    0b0201 #2진수 접두사 0b => 2진수는 0,1로만 구성\u001b[0m\n\u001b[1;37m       ^\u001b[0m\n\u001b[1;31mSyntaxError\u001b[0m\u001b[1;31m:\u001b[0m invalid digit '2' in binary literal\n"
     ]
    }
   ],
   "source": [
    "0b0201 #2진수 접두사 0b => 2진수는 0,1로만 구성"
   ]
  },
  {
   "cell_type": "code",
   "execution_count": 63,
   "id": "9c4e78cd",
   "metadata": {},
   "outputs": [
    {
     "data": {
      "text/plain": [
       "16"
      ]
     },
     "execution_count": 63,
     "metadata": {},
     "output_type": "execute_result"
    }
   ],
   "source": [
    "#정수형 - 진수변환 _ 16진수\n",
    "0x10  #16진수 접두사 0x => 16"
   ]
  },
  {
   "cell_type": "code",
   "execution_count": 64,
   "id": "879eb8fb",
   "metadata": {},
   "outputs": [
    {
     "data": {
      "text/plain": [
       "26"
      ]
     },
     "execution_count": 64,
     "metadata": {},
     "output_type": "execute_result"
    }
   ],
   "source": [
    "0x1a  #16진수 접두사 0x => 16 + 10"
   ]
  },
  {
   "cell_type": "code",
   "execution_count": 65,
   "id": "dbf45728",
   "metadata": {},
   "outputs": [
    {
     "data": {
      "text/plain": [
       "47"
      ]
     },
     "execution_count": 65,
     "metadata": {},
     "output_type": "execute_result"
    }
   ],
   "source": [
    "0x2f #16진수 접두사 0x => (2*16) + 15"
   ]
  },
  {
   "cell_type": "code",
   "execution_count": 66,
   "id": "59274faf",
   "metadata": {},
   "outputs": [
    {
     "ename": "SyntaxError",
     "evalue": "invalid syntax (3241121968.py, line 1)",
     "output_type": "error",
     "traceback": [
      "\u001b[1;36m  Input \u001b[1;32mIn [66]\u001b[1;36m\u001b[0m\n\u001b[1;33m    0x3z #16진수 접두사 0x => 16진수는 0~9, a~f로 구성\u001b[0m\n\u001b[1;37m       ^\u001b[0m\n\u001b[1;31mSyntaxError\u001b[0m\u001b[1;31m:\u001b[0m invalid syntax\n"
     ]
    }
   ],
   "source": [
    "0x3z #16진수 접두사 0x => 16진수는 0~9, a~f로 구성"
   ]
  },
  {
   "cell_type": "code",
   "execution_count": 67,
   "id": "46c29023",
   "metadata": {},
   "outputs": [
    {
     "name": "stdout",
     "output_type": "stream",
     "text": [
      "0xc\n",
      "0o26\n",
      "0b100001\n"
     ]
    }
   ],
   "source": [
    "#함수 사용해 10진수에서 다른 진수로 변환\n",
    "print(hex(12));print(oct(22));print(bin(33)) #12를 16진수로(c), 22를 8진수로, 33을 2진수(100001)로 변환"
   ]
  },
  {
   "cell_type": "code",
   "execution_count": 68,
   "id": "fe949207",
   "metadata": {},
   "outputs": [
    {
     "data": {
      "text/plain": [
       "9460000000000.0"
      ]
     },
     "execution_count": 68,
     "metadata": {},
     "output_type": "execute_result"
    }
   ],
   "source": [
    "#수치형 - 실수형\n",
    "#소수점이하 정밀한 값 표현\n",
    "9.46e12 #e12는 10^12를 의미 => 9.46*10^12"
   ]
  },
  {
   "cell_type": "code",
   "execution_count": 69,
   "id": "2a99c55e",
   "metadata": {},
   "outputs": [
    {
     "data": {
      "text/plain": [
       "1.234567891234568e+43"
      ]
     },
     "execution_count": 69,
     "metadata": {},
     "output_type": "execute_result"
    }
   ],
   "source": [
    "#실수형과 정수형의 연산시 유효숫자만큼만 표현됨\n",
    "9.46e12 + 12345678912345678912345678912345679812345679"
   ]
  },
  {
   "cell_type": "code",
   "execution_count": 70,
   "id": "d96a3ce0",
   "metadata": {},
   "outputs": [
    {
     "ename": "SyntaxError",
     "evalue": "invalid syntax (4158614421.py, line 3)",
     "output_type": "error",
     "traceback": [
      "\u001b[1;36m  Input \u001b[1;32mIn [70]\u001b[1;36m\u001b[0m\n\u001b[1;33m    a=1+2i #파이썬은 j 사용!\u001b[0m\n\u001b[1;37m         ^\u001b[0m\n\u001b[1;31mSyntaxError\u001b[0m\u001b[1;31m:\u001b[0m invalid syntax\n"
     ]
    }
   ],
   "source": [
    "#복소수형\n",
    "#실제 복소수는 허수부를 i로 표현하지만, 파이썬에서는 j로 표현\n",
    "a=1+2i #파이썬은 j 사용!"
   ]
  },
  {
   "cell_type": "code",
   "execution_count": 71,
   "id": "f7994bd6",
   "metadata": {},
   "outputs": [],
   "source": [
    "a=1+2j #변수에 값 대입 => 변수 a 자료형은 복소수형이 된다."
   ]
  },
  {
   "cell_type": "code",
   "execution_count": 72,
   "id": "cdd0182f",
   "metadata": {},
   "outputs": [],
   "source": [
    "b=1-2j #변수에 값 대입 => 변수 b 자료형은 복소수형이 된다."
   ]
  },
  {
   "cell_type": "code",
   "execution_count": 73,
   "id": "1b7a84b8",
   "metadata": {},
   "outputs": [
    {
     "name": "stdout",
     "output_type": "stream",
     "text": [
      "(2+0j) (5+0j)\n"
     ]
    }
   ],
   "source": [
    "print(a+b, a*b) #연산시행 => a+b는 2 + 0j, a*b는 (1-(-4)) + (-2 + 2)j => 5 + 0j"
   ]
  },
  {
   "cell_type": "code",
   "execution_count": 74,
   "id": "47af2597",
   "metadata": {},
   "outputs": [],
   "source": [
    "#파이썬 자료형 - 문자형\n",
    "a=\"aaa\" #변수 a는 \"aaa\"대입되서 문자형"
   ]
  },
  {
   "cell_type": "code",
   "execution_count": 75,
   "id": "4ecec011",
   "metadata": {},
   "outputs": [],
   "source": [
    "b=\"bbb\" #변수 b는 \"bbb\"대입되서 문자형"
   ]
  },
  {
   "cell_type": "code",
   "execution_count": 76,
   "id": "7e1cd3f9",
   "metadata": {},
   "outputs": [
    {
     "data": {
      "text/plain": [
       "'aaabbb'"
      ]
     },
     "execution_count": 76,
     "metadata": {},
     "output_type": "execute_result"
    }
   ],
   "source": [
    "a+b #문자형의 덧셈은 그냥 문자를 잇는다."
   ]
  },
  {
   "cell_type": "code",
   "execution_count": 77,
   "id": "23a070c4",
   "metadata": {},
   "outputs": [
    {
     "ename": "TypeError",
     "evalue": "can't multiply sequence by non-int of type 'str'",
     "output_type": "error",
     "traceback": [
      "\u001b[1;31m---------------------------------------------------------------------------\u001b[0m",
      "\u001b[1;31mTypeError\u001b[0m                                 Traceback (most recent call last)",
      "Input \u001b[1;32mIn [77]\u001b[0m, in \u001b[0;36m<cell line: 1>\u001b[1;34m()\u001b[0m\n\u001b[1;32m----> 1\u001b[0m \u001b[43ma\u001b[49m\u001b[38;5;241;43m*\u001b[39;49m\u001b[43mb\u001b[49m\n",
      "\u001b[1;31mTypeError\u001b[0m: can't multiply sequence by non-int of type 'str'"
     ]
    }
   ],
   "source": [
    "a*b #문자형 끼리의 곱은 불가"
   ]
  },
  {
   "cell_type": "code",
   "execution_count": 78,
   "id": "89e088e2",
   "metadata": {},
   "outputs": [
    {
     "data": {
      "text/plain": [
       "'aaaaaaaaa'"
      ]
     },
     "execution_count": 78,
     "metadata": {},
     "output_type": "execute_result"
    }
   ],
   "source": [
    "a*3 #한 문자를 곱셈만큼 반복하는 형태는 가능"
   ]
  },
  {
   "cell_type": "code",
   "execution_count": 79,
   "id": "1ead6427",
   "metadata": {},
   "outputs": [
    {
     "data": {
      "text/plain": [
       "'bbbbbbbbbbbbbbb'"
      ]
     },
     "execution_count": 79,
     "metadata": {},
     "output_type": "execute_result"
    }
   ],
   "source": [
    "b*5#한 문자를 곱셈만큼 반복하는 형태는 가능"
   ]
  },
  {
   "cell_type": "code",
   "execution_count": 80,
   "id": "73debe69",
   "metadata": {},
   "outputs": [
    {
     "name": "stdout",
     "output_type": "stream",
     "text": [
      "호랑이가 \"떡하나 주면 안잡아 먹지\" 라고 말했습니다.\n"
     ]
    }
   ],
   "source": [
    "#파이썬 자료형 - 문자형 - 확장문자\n",
    "#파이썬은 문자형을 \"\" 나 ''로 감싼다.\n",
    "print('호랑이가 \"떡하나 주면 안잡아 먹지\" 라고 말했습니다.') #'' 안에 \"\" 사용가능"
   ]
  },
  {
   "cell_type": "code",
   "execution_count": 81,
   "id": "855d18f3",
   "metadata": {},
   "outputs": [
    {
     "name": "stdout",
     "output_type": "stream",
     "text": [
      " 호랑이가 \"떡하나 주면 안잡아 먹지\" 라고 말했습니다.\n"
     ]
    }
   ],
   "source": [
    "#escape문자 \\ 사용\n",
    "print (\" 호랑이가 \\\"떡하나 주면 안잡아 먹지\\\" 라고 말했습니다.\") #\"\" 안에서 \\\"로 쌍따옴표 문자그대로 출력"
   ]
  },
  {
   "cell_type": "code",
   "execution_count": 82,
   "id": "85de564e",
   "metadata": {},
   "outputs": [
    {
     "name": "stdout",
     "output_type": "stream",
     "text": [
      "I say \"I Love You\"\n"
     ]
    }
   ],
   "source": [
    "print (\"I say \\\"I Love You\\\"\") #\"\" 안에서 \\\"로 쌍따옴표 문자그대로 출력"
   ]
  },
  {
   "cell_type": "code",
   "execution_count": 83,
   "id": "1bae0c08",
   "metadata": {},
   "outputs": [
    {
     "ename": "SyntaxError",
     "evalue": "invalid syntax (2907072113.py, line 1)",
     "output_type": "error",
     "traceback": [
      "\u001b[1;36m  Input \u001b[1;32mIn [83]\u001b[1;36m\u001b[0m\n\u001b[1;33m    print (\"I say \"I Love You\"\") #문자형을 의미하는 \"\" 안에 쌍따옴표를 escape처리하지않아서 오류발생\u001b[0m\n\u001b[1;37m                   ^\u001b[0m\n\u001b[1;31mSyntaxError\u001b[0m\u001b[1;31m:\u001b[0m invalid syntax\n"
     ]
    }
   ],
   "source": [
    "print (\"I say \"I Love You\"\") #문자형을 의미하는 \"\" 안에 쌍따옴표를 escape처리하지않아서 오류발생"
   ]
  },
  {
   "cell_type": "code",
   "execution_count": 84,
   "id": "baeb62a4",
   "metadata": {},
   "outputs": [
    {
     "name": "stdout",
     "output_type": "stream",
     "text": [
      "오늘 열심히 파이썬을 공부했습니다. \n",
      "내일도 열심히 파이썬을 공부할 것입니다. \n",
      "그래서 1등할 것입니다\n"
     ]
    }
   ],
   "source": [
    "#파이썬 자료형 - 문자형 - 긴문자\n",
    "#문자열 앞 뒤를 \"\"\"으로 묶어준다\n",
    "print(\"\"\"오늘 열심히 파이썬을 공부했습니다. \n",
    "내일도 열심히 파이썬을 공부할 것입니다. \n",
    "그래서 1등할 것입니다\"\"\") #문자열 앞뒤를 \"\"\"로 감쌈"
   ]
  },
  {
   "cell_type": "code",
   "execution_count": 85,
   "id": "c30b5ff5",
   "metadata": {},
   "outputs": [
    {
     "name": "stdout",
     "output_type": "stream",
     "text": [
      "오늘 열심히 파이썬을 공부했습니다.내일도 열심히 파이썬을 공부할 것입니다.그래서 1등할 것입니다\n"
     ]
    }
   ],
   "source": [
    "#명령어 연장(\\, 역슬래시)으로도 긴문자 표현가능\n",
    "print(\"오늘 열심히 파이썬을 공부했습니다.\\\n",
    "내일도 열심히 파이썬을 공부할 것입니다.\\\n",
    "그래서 1등할 것입니다\")   #문자열을 \"\"로 감싸고 \\ 사용"
   ]
  },
  {
   "cell_type": "code",
   "execution_count": 86,
   "id": "97fb5bc9",
   "metadata": {},
   "outputs": [],
   "source": [
    "#긴문자열 출력 - 작은 문자열 나열\n",
    "a = \"오늘은\" \"즐거운\" \"일요일\""
   ]
  },
  {
   "cell_type": "code",
   "execution_count": 87,
   "id": "64605b04",
   "metadata": {},
   "outputs": [
    {
     "name": "stdout",
     "output_type": "stream",
     "text": [
      "오늘은즐거운일요일\n"
     ]
    }
   ],
   "source": [
    "print(a)"
   ]
  },
  {
   "cell_type": "code",
   "execution_count": 88,
   "id": "28f975e4",
   "metadata": {},
   "outputs": [
    {
     "name": "stdout",
     "output_type": "stream",
     "text": [
      "오늘 열심히 파이썬을 공부했습니다. \n",
      "내일도 열심히 파이썬을 공부할 것입니다. \n",
      "그래서 일등할 것입니다\n"
     ]
    }
   ],
   "source": [
    "#긴문자열 출력 - 하나의 print안에 \"\\n\"로 줄바꿈한 문자열 나열\n",
    "print(\"오늘 열심히 파이썬을 공부했습니다. \\n\" #\\n으로 줄바꿈\n",
    "\"내일도 열심히 파이썬을 공부할 것입니다. \\n\" #\\n으로 줄바꿈 \n",
    "\"그래서 일등할 것입니다\")"
   ]
  },
  {
   "cell_type": "code",
   "execution_count": 89,
   "id": "c302e8bd",
   "metadata": {},
   "outputs": [],
   "source": [
    "#기타자료형 - 부울형 - 참,거짓 (대소문자 주의!, 첫문자만 대문자!)\n",
    "a = True  #변수 a에 참 입력 => 부울형 자료형"
   ]
  },
  {
   "cell_type": "code",
   "execution_count": 90,
   "id": "4848d002",
   "metadata": {},
   "outputs": [],
   "source": [
    "b = False #변수 b는 거짓 입력"
   ]
  },
  {
   "cell_type": "code",
   "execution_count": 91,
   "id": "8c673d35",
   "metadata": {},
   "outputs": [
    {
     "data": {
      "text/plain": [
       "False"
      ]
     },
     "execution_count": 91,
     "metadata": {},
     "output_type": "execute_result"
    }
   ],
   "source": [
    "a and b #참과 거짓=> 거짓출력"
   ]
  },
  {
   "cell_type": "code",
   "execution_count": 92,
   "id": "bc99f30b",
   "metadata": {},
   "outputs": [
    {
     "data": {
      "text/plain": [
       "True"
      ]
     },
     "execution_count": 92,
     "metadata": {},
     "output_type": "execute_result"
    }
   ],
   "source": [
    "a or b #참 또는 거짓 => 참 출력     =>or은 둘 중 하나만 참이면 참"
   ]
  },
  {
   "cell_type": "code",
   "execution_count": 93,
   "id": "344808e6",
   "metadata": {},
   "outputs": [
    {
     "data": {
      "text/plain": [
       "True"
      ]
     },
     "execution_count": 93,
     "metadata": {},
     "output_type": "execute_result"
    }
   ],
   "source": [
    "#not은 논리값을 뒤집는다.\n",
    "#b가 False인 상태 => not b = True  => a and not b = True and True => True\n",
    "a and not b #참이고, 거짓이 아님 이면 참 출력"
   ]
  },
  {
   "cell_type": "code",
   "execution_count": 94,
   "id": "d95a83d1",
   "metadata": {},
   "outputs": [],
   "source": [
    "a = 0 #변수 a에 0대입"
   ]
  },
  {
   "cell_type": "code",
   "execution_count": 95,
   "id": "e6952f59",
   "metadata": {},
   "outputs": [],
   "source": [
    "#bool형에서 False는 0\n",
    "b = a==0 #변수 a는 0 => False   =>b는 이미 False라고 선언"
   ]
  },
  {
   "cell_type": "code",
   "execution_count": 96,
   "id": "acb27299",
   "metadata": {},
   "outputs": [
    {
     "data": {
      "text/plain": [
       "True"
      ]
     },
     "execution_count": 96,
     "metadata": {},
     "output_type": "execute_result"
    }
   ],
   "source": [
    "b  #참"
   ]
  },
  {
   "cell_type": "code",
   "execution_count": 97,
   "id": "8bed6f5d",
   "metadata": {},
   "outputs": [],
   "source": [
    "#부울형 기본형태\n",
    "a = True # 변수 a는 참"
   ]
  },
  {
   "cell_type": "code",
   "execution_count": 98,
   "id": "a7e02b83",
   "metadata": {},
   "outputs": [],
   "source": [
    "b = False # 변수 b는 거짓"
   ]
  },
  {
   "cell_type": "code",
   "execution_count": 99,
   "id": "cffe4547",
   "metadata": {
    "scrolled": true
   },
   "outputs": [
    {
     "name": "stdout",
     "output_type": "stream",
     "text": [
      "참\n"
     ]
    }
   ],
   "source": [
    "#여러 조건을 비교한다.\n",
    "if 1 > 2 and a and b or b or a: #1>2(거짓)이고 a(참) => 거짓, => 거짓이고 거짓(b) => 참, =>참 또는 거짓(b) => 참, =>참 또는 참(a) =>참 \n",
    "    print (\"참\")\n",
    "else: #조건이 참이 아니면 (=거짓이면)\n",
    "    print (\"거짓\")    #거짓 출력"
   ]
  },
  {
   "cell_type": "code",
   "execution_count": 100,
   "id": "01dfadc2",
   "metadata": {},
   "outputs": [],
   "source": [
    "#기타자료형 - 컬렉션\n",
    "#컬렉션 중 리스트[] 를 많이사용\n",
    "rainbow = [\"빨\",\"주\",\"노\",\"초\",\"파\",\"남\",\"보\"]  #변수 rainbow는 문자열 리스트 자료형"
   ]
  },
  {
   "cell_type": "code",
   "execution_count": 101,
   "id": "cbb37524",
   "metadata": {},
   "outputs": [
    {
     "name": "stdout",
     "output_type": "stream",
     "text": [
      "['빨', '주', '노', '초', '파', '남', '보']\n"
     ]
    }
   ],
   "source": [
    "print(rainbow) #리스트 자료형 출력"
   ]
  },
  {
   "cell_type": "code",
   "execution_count": 102,
   "id": "102bd1b6",
   "metadata": {},
   "outputs": [
    {
     "data": {
      "text/plain": [
       "True"
      ]
     },
     "execution_count": 102,
     "metadata": {},
     "output_type": "execute_result"
    }
   ],
   "source": [
    "True"
   ]
  },
  {
   "cell_type": "code",
   "execution_count": 107,
   "id": "78b070d1",
   "metadata": {},
   "outputs": [],
   "source": [
    "#리스트는 반복문처리 가능\n",
    "rainbow = [\"빨강\",\"주황\",\"노랑\",\"초록\",\"파랑\",\"남색\",\"보라\"]  #변수 rainbow는 문자열 리스트 자료형"
   ]
  },
  {
   "cell_type": "code",
   "execution_count": 108,
   "id": "dfac7c12",
   "metadata": {},
   "outputs": [
    {
     "name": "stdout",
     "output_type": "stream",
     "text": [
      "빨강 색\n",
      "주황 색\n",
      "노랑 색\n",
      "초록 색\n",
      "파랑 색\n",
      "남색 색\n",
      "보라 색\n"
     ]
    }
   ],
   "source": [
    "for color in rainbow : #리스트 rainbow 값을 하나씩 변수 color에 대입.\n",
    "    print ( color, \"색\") #for문으로 계속 값이 바뀌는 color를 문자\"색\"과 함께 출력."
   ]
  },
  {
   "cell_type": "code",
   "execution_count": 105,
   "id": "82f87630",
   "metadata": {},
   "outputs": [],
   "source": [
    "#튜플 자료형 => () 사용\n",
    "rainbow = (\"빨강\",\"주황\",\"노랑\",\"초록\",\"파랑\",\"남색\",\"보라\") # 튜플 지정"
   ]
  },
  {
   "cell_type": "code",
   "execution_count": 106,
   "id": "5c8eb00e",
   "metadata": {},
   "outputs": [
    {
     "name": "stdout",
     "output_type": "stream",
     "text": [
      "빨강 색\n",
      "주황 색\n",
      "노랑 색\n",
      "초록 색\n",
      "파랑 색\n",
      "남색 색\n",
      "보라 색\n"
     ]
    }
   ],
   "source": [
    "for color in rainbow : #튜플 rainbow 값을 하나씩 변수 color에 대입.\n",
    "    print ( color, \"색\") #for문으로 계속 값이 바뀌는 color를 문자\"색\"과 함께 출력."
   ]
  }
 ],
 "metadata": {
  "kernelspec": {
   "display_name": "Python 3 (ipykernel)",
   "language": "python",
   "name": "python3"
  },
  "language_info": {
   "codemirror_mode": {
    "name": "ipython",
    "version": 3
   },
   "file_extension": ".py",
   "mimetype": "text/x-python",
   "name": "python",
   "nbconvert_exporter": "python",
   "pygments_lexer": "ipython3",
   "version": "3.8.8rc1"
  }
 },
 "nbformat": 4,
 "nbformat_minor": 5
}
