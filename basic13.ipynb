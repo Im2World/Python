{
 "cells": [
  {
   "cell_type": "code",
   "execution_count": null,
   "id": "4fd0f242",
   "metadata": {},
   "outputs": [],
   "source": [
    "#파이썬기초13강 - 클래스, 메서드, 유틸리티 클래스\n",
    "#1.파이썬 클래스 - 구조체(struct)와 클래스(class)\n",
    "#일반적인 프로그래밍 언어에서 많이 사용하는 구조체\n",
    "#아래는 엘리베이터의 속성을 표현\n",
    "struct  elevator {\n",
    "    int limt_up_floor;\n",
    "    int down_floor;\n",
    "    int floor;\n",
    "    char help[100];\n",
    "}"
   ]
  },
  {
   "cell_type": "code",
   "execution_count": null,
   "id": "d0a251df",
   "metadata": {},
   "outputs": [],
   "source": [
    "#구조체와 클래스\n",
    "#class elevator를 이용한다면 프로그램은 쉽게 구현됨\n",
    "#일단 프로그램을 개념중심으로 먼저 구현한 후 class의 내부를 구현하는 방법도 적용 가능.\n",
    "void main() {\n",
    "    class *myclass elevator;\n",
    "    if(올라가라는 전기 신호가 왔다면)\n",
    "        myclass ->up();\n",
    "    else if(내려가라는 전기신호가 왔다면)\n",
    "        myclass ->down();\n",
    "}"
   ]
  },
  {
   "cell_type": "code",
   "execution_count": 1,
   "id": "f89b84a4",
   "metadata": {},
   "outputs": [],
   "source": [
    "#파이썬 클래스 \n",
    "#자바에서 구현했던 엘리베이터 상승,하강 코드를 파이썬에서 구현\n",
    "\n",
    "class elevator: # 엘레베이터 클래스 선언\n",
    "    #데이터 입력하는 함수\n",
    "    #__init__ 은 초기화 메서드 => 자바 생성자와 동일\n",
    "    def __init__(self,floor,limit_up_floor,limit_down_floor,msg):\n",
    "        # 현재층 최상층 최하층 메세지를 인수로 받는 함수 선언\n",
    "        self.floor=floor # 현재층 대입\n",
    "        self.limit_up_floor=limit_up_floor # 최상층 대입\n",
    "        self.limit_down_floor=limit_down_floor # 최하층 대입\n",
    "        self.msg=msg # 메시지 대입\n",
    "        \n",
    "    #한 층씩 올라가는 함수    \n",
    "    def up(self):   #self에는 메인부의 myclass.up() 의 myclass\n",
    "        if self.floor == self.limit_up_floor: # 현재층이 최상층이면\n",
    "            self.msg=\"최상층 입니다\" # 메시지 출력\n",
    "        else: # 아니면\n",
    "            self.floor+=1 # 층수 1 증가\n",
    "            self.msg=str(self.floor)+\"층입니다\" # 몇 층인지 출력\n",
    "        print(self.msg) # 메시지 출력\n",
    "        \n",
    "    #한 층씩 내려가는 함수    \n",
    "    def down(self):#self에는 메인부의 myclass.down() 의 myclass\n",
    "        if self.floor == self.limit_down_floor:  # 현재층이 최하층이면\n",
    "            self.msg=\"최하층 입니다\" # 메시지 출력\n",
    "        else: # 아니면\n",
    "            self.floor-=1 # 층수 1 감소\n",
    "            self.msg=str(self.floor)+\"층입니다\" # 몇 층인지 출력\n",
    "        print(self.msg) # 메시지 출력"
   ]
  },
  {
   "cell_type": "code",
   "execution_count": 2,
   "id": "e13b821b",
   "metadata": {},
   "outputs": [
    {
     "name": "stdout",
     "output_type": "stream",
     "text": [
      "2층입니다\n",
      "3층입니다\n",
      "4층입니다\n",
      "5층입니다\n",
      "6층입니다\n",
      "7층입니다\n",
      "8층입니다\n",
      "9층입니다\n",
      "10층입니다\n",
      "11층입니다\n",
      "12층입니다\n",
      "13층입니다\n",
      "14층입니다\n",
      "15층입니다\n",
      "최상층 입니다\n",
      "최상층 입니다\n",
      "최상층 입니다\n",
      "최상층 입니다\n",
      "최상층 입니다\n",
      "최상층 입니다\n",
      "14층입니다\n",
      "13층입니다\n",
      "12층입니다\n",
      "11층입니다\n",
      "10층입니다\n",
      "9층입니다\n",
      "8층입니다\n",
      "7층입니다\n",
      "6층입니다\n",
      "5층입니다\n",
      "4층입니다\n",
      "3층입니다\n",
      "2층입니다\n",
      "1층입니다\n",
      "0층입니다\n",
      "최하층 입니다\n",
      "최하층 입니다\n",
      "최하층 입니다\n",
      "최하층 입니다\n",
      "최하층 입니다\n"
     ]
    }
   ],
   "source": [
    "#위 파이썬 클래스 시행위한 메인부\n",
    "#자바에서 구현했던 엘리베이터 상승,하강 코드를 파이썬에서 구현\n",
    "\n",
    "#elevator 클래스를 사용하기 위해서 객체 생성\n",
    "\n",
    "#(현재1층, 최저0층, 최고15층, 메시지) 값으로 myclass 인스턴스생성\n",
    "myclass = elevator(1,15,0,\"\")\n",
    "\n",
    "for i in range(20): # 0~19까지 반복 => myclass.up() 20회 실행 \n",
    "    myclass.up() # 1층씩 상승 메서드\n",
    "for i in range(20): # 0~19까지 반복 => myclass.down() 20회 실행 \n",
    "    myclass.down() # 1층식 하강 메서드"
   ]
  },
  {
   "cell_type": "code",
   "execution_count": 3,
   "id": "7079cdc2",
   "metadata": {},
   "outputs": [
    {
     "name": "stdout",
     "output_type": "stream",
     "text": [
      "myclass->2층입니다\n",
      "yourclass->6층입니다\n",
      "myclass->3층입니다\n",
      "yourclass->7층입니다\n",
      "myclass->4층입니다\n",
      "yourclass->8층입니다\n",
      "myclass->5층입니다\n",
      "yourclass->9층입니다\n",
      "myclass->6층입니다\n",
      "yourclass->10층입니다\n",
      "myclass->7층입니다\n",
      "yourclass->최상층 입니다\n",
      "myclass->8층입니다\n",
      "yourclass->최상층 입니다\n",
      "myclass->9층입니다\n",
      "yourclass->최상층 입니다\n",
      "myclass->10층입니다\n",
      "yourclass->최상층 입니다\n",
      "myclass->11층입니다\n",
      "yourclass->최상층 입니다\n",
      "myclass->12층입니다\n",
      "yourclass->최상층 입니다\n",
      "myclass->13층입니다\n",
      "yourclass->최상층 입니다\n",
      "myclass->14층입니다\n",
      "yourclass->최상층 입니다\n",
      "myclass->15층입니다\n",
      "yourclass->최상층 입니다\n",
      "myclass->최상층 입니다\n",
      "yourclass->최상층 입니다\n",
      "myclass->최상층 입니다\n",
      "yourclass->최상층 입니다\n",
      "myclass->최상층 입니다\n",
      "yourclass->최상층 입니다\n",
      "myclass->최상층 입니다\n",
      "yourclass->최상층 입니다\n",
      "myclass->최상층 입니다\n",
      "yourclass->최상층 입니다\n",
      "myclass->최상층 입니다\n",
      "yourclass->최상층 입니다\n",
      "myclass->14층입니다\n",
      "yourclass->9층입니다\n",
      "myclass->13층입니다\n",
      "yourclass->8층입니다\n",
      "myclass->12층입니다\n",
      "yourclass->7층입니다\n",
      "myclass->11층입니다\n",
      "yourclass->6층입니다\n",
      "myclass->10층입니다\n",
      "yourclass->5층입니다\n",
      "myclass->9층입니다\n",
      "yourclass->4층입니다\n",
      "myclass->8층입니다\n",
      "yourclass->3층입니다\n",
      "myclass->7층입니다\n",
      "yourclass->2층입니다\n",
      "myclass->6층입니다\n",
      "yourclass->1층입니다\n",
      "myclass->5층입니다\n",
      "yourclass->0층입니다\n",
      "myclass->4층입니다\n",
      "yourclass->-1층입니다\n",
      "myclass->3층입니다\n",
      "yourclass->최하층 입니다\n",
      "myclass->2층입니다\n",
      "yourclass->최하층 입니다\n",
      "myclass->1층입니다\n",
      "yourclass->최하층 입니다\n",
      "myclass->0층입니다\n",
      "yourclass->최하층 입니다\n",
      "myclass->최하층 입니다\n",
      "yourclass->최하층 입니다\n",
      "myclass->최하층 입니다\n",
      "yourclass->최하층 입니다\n",
      "myclass->최하층 입니다\n",
      "yourclass->최하층 입니다\n",
      "myclass->최하층 입니다\n",
      "yourclass->최하층 입니다\n",
      "myclass->최하층 입니다\n",
      "yourclass->최하층 입니다\n"
     ]
    }
   ],
   "source": [
    "#self\n",
    "#self는 인스턴스 자기자신 의미\n",
    "#인스턴스 2개 생성해서 서로 다른 엘리베이터 운행 => myclass, yourclass\n",
    "\n",
    "myclass = elevator(1,15,0,\"\") #(현재1층, 최저0층, 최고15층, 메시지) 값으로 클래스생성\n",
    "yourclass = elevator(5,10,-1,\"\") #(현재1층, 최저0층, 최고15층, 메시지)값으로 클래스생성\n",
    "\n",
    "for i in range(20):  # 0~19까지 반복 => myclass.up() 20회 실행 \n",
    "    print(\"myclass->\",end=\"\") # 현재 상태 출력 \n",
    "    myclass.up() # myclass 1층씩 상승\n",
    "    print(\"yourclass->\",end=\"\") # 현재 상태 출력 \n",
    "    yourclass.up() # yourclass  1층씩 상승\n",
    "for i in range(20):  # 0~19까지 반복 => myclass.down() 20회 실행 \n",
    "    print(\"myclass->\",end=\"\") #  현재 상태 출력 \n",
    "    myclass.down()# myclass 1층씩 하강\n",
    "    print(\"yourclass->\",end=\"\") #  현재 상태 출력 \n",
    "    yourclass.down() # yourclass 1층씩 하강"
   ]
  },
  {
   "cell_type": "code",
   "execution_count": null,
   "id": "c57c20e7",
   "metadata": {},
   "outputs": [],
   "source": [
    "#생성자\n",
    "#클래스를 처음 생성하여 인스턴스 만들 때 호출되는 함수\n",
    "#호출하는 쪽에서는 클래스명으로 부르고, 클래스에서는 __init__으로 정의\n",
    "#클래스 선언 부분\n",
    "class elevator: #클래스 선언\n",
    "    def __init__(self,floor,limit_up_floor,limit_down_floor,msg) : # __init__ 이 생성자라는 의미\n",
    "        self.floor = floor   #값 대입\n",
    "        self.limit_up_floor =limit_up_floor  #값 대입\n",
    "        self.limit_down_floor =limit_down_floor  #값 대입\n",
    "        self.msg = msg  #값 대입"
   ]
  },
  {
   "cell_type": "code",
   "execution_count": null,
   "id": "302ead0c",
   "metadata": {},
   "outputs": [],
   "source": [
    "#class 호출 부분\n",
    "#엘리베이터 2대 운행 => myclass, yourclass\n",
    "myclass = elevator(1,15,0,\"\")     #현재층1층,최저0층,최고15층,메시지 => 인스턴스생성\n",
    "yourclass = elevator(5,10,-1,\"\")  #현재1층,최저-1층,최고10층으로 클래스 생성 => 인스턴스 생성"
   ]
  },
  {
   "cell_type": "code",
   "execution_count": 4,
   "id": "f53e4683",
   "metadata": {},
   "outputs": [],
   "source": [
    "#상속\n",
    "# 다음은 기존 elevator를 가지고 새로운 s_elevator클래스를 생성한 예제.\n",
    "# 새로운 클래스는 기존 클래스를 가져다 한 번에 두 개 층을 올라가거나, 내려가는 것으로 정의하였음\n",
    "# 기존 부모클래스는 super()로 명명함\n",
    "class s_elevator(elevator): #  새 클래스 s_elevator가 위에서 만든  클래스 elevator를 상속받음\n",
    "    def __init__(self): # 부모 클래스 받아옴 => super의 생성자 그대로 사용\n",
    "        super().__init__(1,15,0,\"\") # (현재층1층, 최저0층, 최고15층, 메시지) 설정\n",
    "        \n",
    "     #1층씩 상승 메서드   \n",
    "    def up(self): \n",
    "        super().up() # 한 번 \n",
    "        super().up() # 두 번 => 메서드 1회 호출시 2층 상승\n",
    "        \n",
    "     #1층식 하강 메서드   \n",
    "    def down(self):\n",
    "        super().down() # 한 번 \n",
    "        super().down() # 두 번 => 메서드 1회 호출시 2층 하강"
   ]
  },
  {
   "cell_type": "code",
   "execution_count": 5,
   "id": "9946854b",
   "metadata": {},
   "outputs": [
    {
     "name": "stdout",
     "output_type": "stream",
     "text": [
      "2층입니다\n",
      "3층입니다\n",
      "2층입니다\n",
      "1층입니다\n",
      "2층입니다\n",
      "3층입니다\n",
      "2층입니다\n",
      "1층입니다\n",
      "2층입니다\n",
      "3층입니다\n",
      "2층입니다\n",
      "1층입니다\n",
      "2층입니다\n",
      "3층입니다\n",
      "2층입니다\n",
      "1층입니다\n",
      "2층입니다\n",
      "3층입니다\n",
      "2층입니다\n",
      "1층입니다\n",
      "2층입니다\n",
      "3층입니다\n",
      "2층입니다\n",
      "1층입니다\n",
      "2층입니다\n",
      "3층입니다\n",
      "2층입니다\n",
      "1층입니다\n",
      "2층입니다\n",
      "3층입니다\n",
      "2층입니다\n",
      "1층입니다\n",
      "2층입니다\n",
      "3층입니다\n",
      "2층입니다\n",
      "1층입니다\n",
      "2층입니다\n",
      "3층입니다\n",
      "2층입니다\n",
      "1층입니다\n",
      "2층입니다\n",
      "3층입니다\n",
      "2층입니다\n",
      "1층입니다\n",
      "2층입니다\n",
      "3층입니다\n",
      "2층입니다\n",
      "1층입니다\n",
      "2층입니다\n",
      "3층입니다\n",
      "2층입니다\n",
      "1층입니다\n",
      "2층입니다\n",
      "3층입니다\n",
      "2층입니다\n",
      "1층입니다\n",
      "2층입니다\n",
      "3층입니다\n",
      "2층입니다\n",
      "1층입니다\n",
      "2층입니다\n",
      "3층입니다\n",
      "2층입니다\n",
      "1층입니다\n",
      "2층입니다\n",
      "3층입니다\n",
      "2층입니다\n",
      "1층입니다\n",
      "2층입니다\n",
      "3층입니다\n",
      "2층입니다\n",
      "1층입니다\n",
      "2층입니다\n",
      "3층입니다\n",
      "2층입니다\n",
      "1층입니다\n",
      "2층입니다\n",
      "3층입니다\n",
      "2층입니다\n",
      "1층입니다\n"
     ]
    }
   ],
   "source": [
    "#myclass = elevator(1,15,0,\"\") #기존 클래스 => (현재1층, 최저0층, 최고15층, 메시지)\n",
    "myclass = s_elevator() #상속받은 클래스로 인스턴스 생성\n",
    "\n",
    "for i in range(20):# 0~19 범위 => 총 20회 메서드 실행 =>  2층 올라가고, 2층 내려가고\n",
    "    myclass.up() # 올라가는 메소드\n",
    "    myclass.down() # 내려가는 메소드\n",
    "    #현재 1층이니까 up두번 => 3층\n",
    "    #다시 down 두번 => 1층\n",
    "    #계속 2->3->2->1 층 오르락 내리락 반복함....에너지를아낍시다..."
   ]
  },
  {
   "cell_type": "code",
   "execution_count": 6,
   "id": "daf451f2",
   "metadata": {},
   "outputs": [
    {
     "name": "stdout",
     "output_type": "stream",
     "text": [
      "3125\n"
     ]
    }
   ],
   "source": [
    "#정보은닉(getter, setter) 1\n",
    "#해당 클래스를 호출하는 다른 여러 개의 클래스에서 예상치 못한 접근으로\n",
    "#예측할 수 없는 상황을 막기 위해 입출력을 만들어서 해당 입출력부분으로 \n",
    "#클래스 변수에 접근할 수 있도록 하는 것\n",
    "\n",
    "# getter, setter를 통한 접근 예제로 “a**b” 거듭제곱을 구하는 예제 => a는 밑, b는 지수(승, 곱해지는 수)\n",
    "\n",
    "class multibox:# 클래스 선언\n",
    "    def __init__(self,multi): # 생성자 선언, 매개변수는 multi \n",
    "        self.multi=multi # 지수\n",
    "    def getnumber(self): # 거듭제곱 계산하는 함수 선언\n",
    "        return self.num**self.multi # 거듭제곱한 값을 반환\n",
    "    def setnumber(self,num): # 밑값 받는 함수 선언\n",
    "        self.num=num # 밑\n",
    "        \n",
    "m=multibox(5) # 지수입력 => 지수 5\n",
    "m.setnumber(5) # 밑 입력 => 밑 5\n",
    "print(m.getnumber()) # 5의 5승 (=5**5) 출력"
   ]
  },
  {
   "cell_type": "code",
   "execution_count": 7,
   "id": "a2c1838f",
   "metadata": {},
   "outputs": [
    {
     "name": "stdout",
     "output_type": "stream",
     "text": [
      "3125\n"
     ]
    }
   ],
   "source": [
    "#정보은닉(getter, setter) 2\n",
    "#property를 이용하여 getter,setter를 정의\n",
    "# getter, setter를 통한 접근 예제로 “a**b” 거듭제곱을 구하는 예제 => a는 밑, b는 지수(승, 곱해지는 수)\n",
    "\n",
    "class multibox:# 클래스 선언\n",
    "    def __init__(self,multi): # 생성자 선언, 매개변수는 multi \n",
    "        self.multi=multi # 지수\n",
    "    def getnumber(self):  # 거듭제곱 계산하는 함수 선언\n",
    "        return self.num**self.multi # 거듭제곱한 값을 반환\n",
    "    def setnumber(self,num): # 밑값 받는 함수 선언\n",
    "        self.num=num # 밑\n",
    "    number=property(getnumber,setnumber) # property를 이용하여 getter,setter를 정의\n",
    "\n",
    "#property()덕분에 getter, setter메서드 깔끔하게 호출 , 일반 변수처럼 사용.   \n",
    "m=multibox(5) # 지수입력 => 지수 5\n",
    "m.number=5 # 밑 입력 => 밑 5\n",
    "print(m.number) # 5의 5승 (=5**5) 출력 # 5의 5승 (=5**5) 출력"
   ]
  },
  {
   "cell_type": "code",
   "execution_count": 8,
   "id": "20ad4eb8",
   "metadata": {},
   "outputs": [
    {
     "name": "stdout",
     "output_type": "stream",
     "text": [
      "3125\n"
     ]
    }
   ],
   "source": [
    "#정보은닉(getter, setter) 3\n",
    "#데코레이터사용\n",
    "# getter, setter를 통한 접근 예제로 “a**b” 거듭제곱을 구하는 예제 => a는 밑, b는 지수(승, 곱해지는 수)\n",
    "\n",
    "class multibox:# 클래스 선언\n",
    "    def __init__(self,multi): # 생성자 선언, 매개변수는 multi \n",
    "        self.multi=multi  # 지수\n",
    "    @property # 데코레이터(@)로 선언 => 클래스 밖에서 number에 접근 가능 => 밖에서 접근할 때 getter메서드로 접근\n",
    "    def number(self):  # 거듭제곱 계산하는 함수 선언\n",
    "        return self.num**self.multi  # 거듭제곱한 값을 반환\n",
    "    @number.setter # 데코레이터(@)로 setter 정의  => 클래스 밖에서 number에 접근 가능 => 밖에서 접근할 때 setter메서드로 접근\n",
    "    def number(self,num): # 밑값 받는 함수 선언\n",
    "        self.num=num  # 밑\n",
    "        \n",
    "m=multibox(5)  # 지수입력 => 지수 5\n",
    "m.number=5 # 밑 입력 => 밑 5\n",
    "print(m.number) # 5의 5승 (=5**5) 출력 # 5의 5승 (=5**5) 출력"
   ]
  },
  {
   "cell_type": "code",
   "execution_count": 9,
   "id": "55a6901f",
   "metadata": {},
   "outputs": [
    {
     "name": "stdout",
     "output_type": "stream",
     "text": [
      "클래스 참조횟수는 2 회 입니다\n"
     ]
    }
   ],
   "source": [
    "# 클래스 메서드\n",
    "#클래스 정의를 가져다 선언하고 있는 전체의 클래스에서 공유하는 메서드\n",
    "#선언 : @classmethod\n",
    "#cls : 전체 클래스\n",
    "\n",
    "class myclass: # 클래스 선언\n",
    "    cnt=0 # self가 없는 myclass에서 사용되는 내부 static변수 \n",
    "    def __init__(self): # 생성자 선언\n",
    "        myclass.cnt+=1 # myclass의 static변수 => 클래스 실행되면 cnt 1증가\n",
    "        \n",
    "    @classmethod # 클래스 메서드 선언\n",
    "    def refcount(cls): # self가 아니라 cls로 정의 \n",
    "        print(\"클래스 참조횟수는\",cls.cnt,\"회 입니다\")\n",
    "        \n",
    "a=myclass() # 클래스 참조 1 => cnt = 1\n",
    "b=myclass() # 클래스 참조 2 => cnt = 2\n",
    "myclass.refcount() # 클래스를 몇 번 참조했는지 출력 => a,b 총 2회 참조"
   ]
  },
  {
   "cell_type": "code",
   "execution_count": 10,
   "id": "ce3c7443",
   "metadata": {},
   "outputs": [
    {
     "name": "stdout",
     "output_type": "stream",
     "text": [
      "이 클래스는 아무런 일도 하지 않는다\n",
      "이 클래스는 아무런 일도 하지 않는다\n"
     ]
    }
   ],
   "source": [
    "# 정적 메서드\n",
    "#생성되는 클래스와는 별개로 하나의 역할을 수행하는 메서드\n",
    "#선언 : @staticmethod\n",
    "#클래스와 별개 => __init__를 수행하지않아도됨, self 나 cls를 인수로 받지도 않음\n",
    "\n",
    "class myclass: # 클래스 선언\n",
    "    cnt=0  # static변수 \n",
    "    def __init__(self): # 생성자 선언\n",
    "        myclass.cnt+=1 # myclass의 static변수 => 클래스 실행되면 cnt 1증가\n",
    "        \n",
    "    @staticmethod # 정적 메서드 선언\n",
    "    # __init__를 수행하지않아도됨, self 나 cls를 인수로 받지도 않음\n",
    "    def helf(): # 아래 문장 출력하는 메서드\n",
    "        print(\"이 클래스는 아무런 일도 하지 않는다\") #출력\n",
    "\n",
    "myclass.helf() # helf() 실행\n",
    "a=myclass() # 클래스 참조 => cnt = 1\n",
    "myclass.helf() # helf() 실행"
   ]
  },
  {
   "cell_type": "code",
   "execution_count": 11,
   "id": "45b91d75",
   "metadata": {},
   "outputs": [
    {
     "name": "stdout",
     "output_type": "stream",
     "text": [
      "defabc\n"
     ]
    }
   ],
   "source": [
    "# 연산자 메서드\n",
    "# __add__ 은 클래스간 +연산을 정의한 메서드임\n",
    "class mystr: # 클래스 선언\n",
    "    def __init__(self,s): # 생성자 선언\n",
    "        self.s=s #값 대입\n",
    "    def __add__(self, other): # 클래스간 +연산자를 정의 \n",
    "        return other.s + self.s # 문자간 연산을 입력 받은 반대로 수행\n",
    "\n",
    "a = mystr(\"abc\") # 생성자에 문자 대입\n",
    "b = mystr(\"def\") # 생성자에 문자 대입\n",
    "print(a+b) # 문자열+문자열 => 한 문장으로 이어쓰기 => __add__ 실행으로 b+a로 출력"
   ]
  },
  {
   "cell_type": "code",
   "execution_count": 13,
   "id": "ffdb65f0",
   "metadata": {},
   "outputs": [
    {
     "name": "stdout",
     "output_type": "stream",
     "text": [
      "9.99999999999998\n"
     ]
    }
   ],
   "source": [
    "#유틸리티 클래스 사용이유\n",
    "# 컴퓨터 연산오류 : 2진수로는 0.1을 완벽히 표현할 수 가 없다.\n",
    "\n",
    "sum=0 # 변수 선언과 초기화\n",
    "for i in range(100): # 0에서 99까지 반복 => 총 100회\n",
    "    sum+=0.1 # sum에 0.1 누적\n",
    "print(sum) # sum출력\n",
    "\n",
    "#0.1을 100회 더하면 10인데, 출력결과는 9.9999999999998 => 컴퓨터 연산오류"
   ]
  },
  {
   "cell_type": "code",
   "execution_count": 14,
   "id": "e059c0a4",
   "metadata": {},
   "outputs": [
    {
     "name": "stdout",
     "output_type": "stream",
     "text": [
      "0.1 => 9.99999999999998\n",
      "0.1000000000000000055511151231257827021181583404541015625 => 10.00000000000000055511151230\n",
      "0.1 => 10.0\n"
     ]
    }
   ],
   "source": [
    "#유틸리티 클래스 사용\n",
    "# Decimal클래스는 문자형을 숫자형(정수형)으로 바꾸는데 사용함\n",
    "from decimal import Decimal # Decimal클래스 임포트\n",
    "\n",
    "a_sum=0;b_sum=0;c_sum=0 # 변수들 선언 및 값 0으로 초기화\n",
    "\n",
    "a=0.1 # a에 0.1 대입\n",
    "b=Decimal(a) # b에 Decimal(0.1) 대입 => 정수형으로 변경\n",
    "c=Decimal(\"0.1\") # c에 Decimal(\"0.1\") 대입 => 문자형도 정수형으로 변경\n",
    "\n",
    "for i in range(100): # 0부터 99까지 반복 => 총 100회\n",
    "    a_sum+=a # a값 누적 => 컴퓨터 연산오류 => 10이 아니라 9.999999998출력\n",
    "    b_sum+=b # b값 누적\n",
    "    c_sum+=c # c값 누적 => 정상값 출력\n",
    "\n",
    "# 결과 출력\n",
    "print(a,\"=>\",a_sum)\n",
    "print(b,\"=>\",b_sum)\n",
    "print(c,\"=>\",c_sum)"
   ]
  },
  {
   "cell_type": "code",
   "execution_count": 15,
   "id": "215b322a",
   "metadata": {},
   "outputs": [
    {
     "name": "stdout",
     "output_type": "stream",
     "text": [
      "2/3 + 1/2 = 7/6\n",
      "2/3 * 1/2 = 1/3\n",
      "2/3 * 1.5 = 2.1666666666666665\n"
     ]
    }
   ],
   "source": [
    "#유틸리티 클래스\n",
    "#Fraction 클래스\n",
    "#분수를 나타내 주고 분수계산이 가능한 클래스 (단, 정수 및 실수와 같이 연산하면 실수형으로 바뀜)\n",
    "\n",
    "from fractions import * # fractions 모듈의 모든 함수 임포트\n",
    "\n",
    "a=Fraction(2,3) #3분의 2\n",
    "b=Fraction(5,10) #10분의 5 => 약분되어 1/2\n",
    "\n",
    "print(a,\"+\",b,\"=\",a+b) # 분수 a, 분수 b 합 출력\n",
    "print(a,\"*\",b,\"=\",a*b) # 분수 a, 분수 b 곱 출력\n",
    "print(a,\"*\",1.5,\"=\",a+1.5) # 정수 및 실수와 같이 연산하면 실수형으로 바뀜 => 분수 곱 + 1.5"
   ]
  },
  {
   "cell_type": "code",
   "execution_count": null,
   "id": "63c43ff6",
   "metadata": {},
   "outputs": [],
   "source": [
    "#끝♡"
   ]
  }
 ],
 "metadata": {
  "kernelspec": {
   "display_name": "Python 3 (ipykernel)",
   "language": "python",
   "name": "python3"
  },
  "language_info": {
   "codemirror_mode": {
    "name": "ipython",
    "version": 3
   },
   "file_extension": ".py",
   "mimetype": "text/x-python",
   "name": "python",
   "nbconvert_exporter": "python",
   "pygments_lexer": "ipython3",
   "version": "3.8.8rc1"
  }
 },
 "nbformat": 4,
 "nbformat_minor": 5
}
