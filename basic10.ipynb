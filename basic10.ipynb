{
 "cells": [
  {
   "cell_type": "code",
   "execution_count": 1,
   "id": "e455ebe2",
   "metadata": {},
   "outputs": [
    {
     "data": {
      "text/plain": [
       "('a', 'b', 'c', 'd', 'e')"
      ]
     },
     "execution_count": 1,
     "metadata": {},
     "output_type": "execute_result"
    }
   ],
   "source": [
    "#파이썬 기초 10강 - 문자열 다루기\n",
    "# 문자열의 성격1\n",
    "# 문자형 변수의 성격은 컬렉션의 리스트와 유사함\n",
    "# 문자리스트, 즉 String(문자열)은 첨자로 대응 됨\n",
    "# 한글은 2byte로 처리되나 문자열에서 1개의 첨자에 대응되는 것에 유의할 것\n",
    "a = \"abcde\" #문자열 정의\n",
    "a[0], a[1], a[2], a[3], a[4] # 해당 인덱스 값 출력"
   ]
  },
  {
   "cell_type": "code",
   "execution_count": 2,
   "id": "703cc1a0",
   "metadata": {},
   "outputs": [
    {
     "data": {
      "text/plain": [
       "('e', 'c', 'c', 'b', 'a')"
      ]
     },
     "execution_count": 2,
     "metadata": {},
     "output_type": "execute_result"
    }
   ],
   "source": [
    "a[-1], a[2], a[-3], a[-4], a[-5] # 인덱스 역순으로 지정해서 출력"
   ]
  },
  {
   "cell_type": "code",
   "execution_count": 3,
   "id": "64945d30",
   "metadata": {},
   "outputs": [
    {
     "data": {
      "text/plain": [
       "('가', '나', '다', '라', '마')"
      ]
     },
     "execution_count": 3,
     "metadata": {},
     "output_type": "execute_result"
    }
   ],
   "source": [
    "a = \"가나다라마\" #문자열 정의\n",
    "a[0], a[1], a[2], a[3], a[4] # 해당 인덱스 값 출력"
   ]
  },
  {
   "cell_type": "code",
   "execution_count": 4,
   "id": "3f2830ad",
   "metadata": {},
   "outputs": [
    {
     "data": {
      "text/plain": [
       "'bcde'"
      ]
     },
     "execution_count": 4,
     "metadata": {},
     "output_type": "execute_result"
    }
   ],
   "source": [
    "# 문자열 자르기1\n",
    "# 문자 첨자 처리시 [시작:끝]으로 표시 가능 -> 끝에 해당되는 숫자 앞까지 해당됨에 유의\n",
    "# 음수 첨자에 유의할 것\n",
    "a = \"abcde\"\n",
    "a[1:5] # 인덱스 1~4까지 출력"
   ]
  },
  {
   "cell_type": "code",
   "execution_count": 5,
   "id": "6202cc68",
   "metadata": {},
   "outputs": [
    {
     "data": {
      "text/plain": [
       "'b'"
      ]
     },
     "execution_count": 5,
     "metadata": {},
     "output_type": "execute_result"
    }
   ],
   "source": [
    "a[1:2] # 인덱스 1~1까지 출력 => 인덱스 1만 출력"
   ]
  },
  {
   "cell_type": "code",
   "execution_count": 6,
   "id": "73b8e49c",
   "metadata": {},
   "outputs": [
    {
     "data": {
      "text/plain": [
       "'abcde'"
      ]
     },
     "execution_count": 6,
     "metadata": {},
     "output_type": "execute_result"
    }
   ],
   "source": [
    "a[:6] # 인덱스 0~5까지 출력"
   ]
  },
  {
   "cell_type": "code",
   "execution_count": 7,
   "id": "80cd142f",
   "metadata": {},
   "outputs": [
    {
     "data": {
      "text/plain": [
       "'de'"
      ]
     },
     "execution_count": 7,
     "metadata": {},
     "output_type": "execute_result"
    }
   ],
   "source": [
    "a[3:] # 인덱스 3~마지막 인덱스까지 출력"
   ]
  },
  {
   "cell_type": "code",
   "execution_count": 8,
   "id": "7221480d",
   "metadata": {},
   "outputs": [
    {
     "data": {
      "text/plain": [
       "'c'"
      ]
     },
     "execution_count": 8,
     "metadata": {},
     "output_type": "execute_result"
    }
   ],
   "source": [
    "a[2:-2] # 인덱스 2부터 -3까지 출력 => 인덱스 2부터 2까지 출력"
   ]
  },
  {
   "cell_type": "code",
   "execution_count": 9,
   "id": "ebd8c917",
   "metadata": {},
   "outputs": [
    {
     "data": {
      "text/plain": [
       "''"
      ]
     },
     "execution_count": 9,
     "metadata": {},
     "output_type": "execute_result"
    }
   ],
   "source": [
    "a[2:-3] # 2부터 뒤에서 3까지 -> 인덱스 범위 없음."
   ]
  },
  {
   "cell_type": "code",
   "execution_count": 10,
   "id": "3a3ef79c",
   "metadata": {},
   "outputs": [
    {
     "data": {
      "text/plain": [
       "'bcd'"
      ]
     },
     "execution_count": 10,
     "metadata": {},
     "output_type": "execute_result"
    }
   ],
   "source": [
    "a[1:-1] # 1부터 -2까지 => 인덱스 1~3 출력"
   ]
  },
  {
   "cell_type": "code",
   "execution_count": 11,
   "id": "64c5a83f",
   "metadata": {},
   "outputs": [
    {
     "data": {
      "text/plain": [
       "5"
      ]
     },
     "execution_count": 11,
     "metadata": {},
     "output_type": "execute_result"
    }
   ],
   "source": [
    "# 찾기\n",
    "a = \"abcdefghijklmabcdefgh\"\n",
    "a.find(\"f\") #앞에서 부터 찾음, 찾은 값의 인덱스 반환"
   ]
  },
  {
   "cell_type": "code",
   "execution_count": 12,
   "id": "65e45c6e",
   "metadata": {},
   "outputs": [
    {
     "data": {
      "text/plain": [
       "18"
      ]
     },
     "execution_count": 12,
     "metadata": {},
     "output_type": "execute_result"
    }
   ],
   "source": [
    "a.rfind(\"f\") #뒤에서 부터 찾아 인덱스 반환"
   ]
  },
  {
   "cell_type": "code",
   "execution_count": 13,
   "id": "9f12f6ea",
   "metadata": {},
   "outputs": [
    {
     "data": {
      "text/plain": [
       "(8, 8)"
      ]
     },
     "execution_count": 13,
     "metadata": {},
     "output_type": "execute_result"
    }
   ],
   "source": [
    "a.find(\"i\"),a.rfind(\"i\") #만일 찾는 문자가 하나라면 결과 동일"
   ]
  },
  {
   "cell_type": "code",
   "execution_count": 14,
   "id": "1d6ba5bc",
   "metadata": {},
   "outputs": [
    {
     "data": {
      "text/plain": [
       "(1, 14)"
      ]
     },
     "execution_count": 14,
     "metadata": {},
     "output_type": "execute_result"
    }
   ],
   "source": [
    "a.index(\"b\"),a.rindex(\"b\") #index함수도 결과는 동일"
   ]
  },
  {
   "cell_type": "code",
   "execution_count": 15,
   "id": "eebe2987",
   "metadata": {},
   "outputs": [
    {
     "ename": "ValueError",
     "evalue": "substring not found",
     "output_type": "error",
     "traceback": [
      "\u001b[1;31m---------------------------------------------------------------------------\u001b[0m",
      "\u001b[1;31mValueError\u001b[0m                                Traceback (most recent call last)",
      "Input \u001b[1;32mIn [15]\u001b[0m, in \u001b[0;36m<cell line: 1>\u001b[1;34m()\u001b[0m\n\u001b[1;32m----> 1\u001b[0m \u001b[43ma\u001b[49m\u001b[38;5;241;43m.\u001b[39;49m\u001b[43mrindex\u001b[49m\u001b[43m(\u001b[49m\u001b[38;5;124;43m\"\u001b[39;49m\u001b[38;5;124;43mz\u001b[39;49m\u001b[38;5;124;43m\"\u001b[39;49m\u001b[43m)\u001b[49m\n",
      "\u001b[1;31mValueError\u001b[0m: substring not found"
     ]
    }
   ],
   "source": [
    "a.rindex(\"z\") #index는 찾는 문자가 없으면 에러발생"
   ]
  },
  {
   "cell_type": "code",
   "execution_count": 16,
   "id": "d9bb8ba6",
   "metadata": {},
   "outputs": [
    {
     "data": {
      "text/plain": [
       "2"
      ]
     },
     "execution_count": 16,
     "metadata": {},
     "output_type": "execute_result"
    }
   ],
   "source": [
    "a.count(\"f\") #해당 문자의 개수를 반환"
   ]
  },
  {
   "cell_type": "code",
   "execution_count": 17,
   "id": "eb44ebcf",
   "metadata": {},
   "outputs": [
    {
     "data": {
      "text/plain": [
       "13"
      ]
     },
     "execution_count": 17,
     "metadata": {},
     "output_type": "execute_result"
    }
   ],
   "source": [
    "a.rfind(\"abc\") #문자열을 넣어도 됨"
   ]
  },
  {
   "cell_type": "code",
   "execution_count": 33,
   "id": "509220d3",
   "metadata": {},
   "outputs": [
    {
     "name": "stdout",
     "output_type": "stream",
     "text": [
      "a가 들어 있음\n",
      "a가 들어 있음\n"
     ]
    }
   ],
   "source": [
    "# 검사\n",
    "a = \"abcdfegabcdfeg\" #문자열 선언\n",
    "if a.find(\"f\") > 0: #a문자열 안의 f값의 인덱스가 0초과면,\n",
    "    print (\"a가 들어 있음\") #출력\n",
    "if \"f\" in a : #만일 \"f\"가 a안에 있다면\n",
    "    print (\"a가 들어 있음\") #출력"
   ]
  },
  {
   "cell_type": "code",
   "execution_count": 19,
   "id": "a2a20e64",
   "metadata": {},
   "outputs": [
    {
     "data": {
      "text/plain": [
       "'ABCDEFGH'"
      ]
     },
     "execution_count": 19,
     "metadata": {},
     "output_type": "execute_result"
    }
   ],
   "source": [
    "# 대소문자 바꾸기\n",
    "a = \"abcDefGh\" #문자열선언\n",
    "a.upper() # 문자열을 모두 대문자로 바꿈"
   ]
  },
  {
   "cell_type": "code",
   "execution_count": 20,
   "id": "90768df2",
   "metadata": {},
   "outputs": [
    {
     "data": {
      "text/plain": [
       "'abcdefgh'"
      ]
     },
     "execution_count": 20,
     "metadata": {},
     "output_type": "execute_result"
    }
   ],
   "source": [
    "a = \"abcDefGh\" #문자열선언\n",
    "a.lower() # 문자열을 모두 소문자로 바꿈"
   ]
  },
  {
   "cell_type": "code",
   "execution_count": 21,
   "id": "f47666d8",
   "metadata": {},
   "outputs": [
    {
     "data": {
      "text/plain": [
       "'abc def hij '"
      ]
     },
     "execution_count": 21,
     "metadata": {},
     "output_type": "execute_result"
    }
   ],
   "source": [
    "# 공백제거\n",
    "a = \" abc def hij \" #문자열선언\n",
    "a.lstrip() # 문자열 왼쪽 끝의 모든 곰백 제거(left)"
   ]
  },
  {
   "cell_type": "code",
   "execution_count": 22,
   "id": "2709d053",
   "metadata": {},
   "outputs": [
    {
     "data": {
      "text/plain": [
       "' abc def hij'"
      ]
     },
     "execution_count": 22,
     "metadata": {},
     "output_type": "execute_result"
    }
   ],
   "source": [
    "a = \" abc def hij \" #문자열선언\n",
    "a.rstrip() # 문자열 오른쪽 끝의 모든 공백 제거(right)"
   ]
  },
  {
   "cell_type": "code",
   "execution_count": 23,
   "id": "cca1324d",
   "metadata": {},
   "outputs": [
    {
     "data": {
      "text/plain": [
       "'abc def hij'"
      ]
     },
     "execution_count": 23,
     "metadata": {},
     "output_type": "execute_result"
    }
   ],
   "source": [
    "#모든 공백 제거1\n",
    "a=\" abc def hij \" #문자열선언\n",
    "a.strip() # 문자열 왼쪽 끝과 오른쪽 끝의 모든 공백 제거"
   ]
  },
  {
   "cell_type": "code",
   "execution_count": 24,
   "id": "dc905b31",
   "metadata": {},
   "outputs": [
    {
     "data": {
      "text/plain": [
       "'abcdefhij'"
      ]
     },
     "execution_count": 24,
     "metadata": {},
     "output_type": "execute_result"
    }
   ],
   "source": [
    "#모든 공백 제거2\n",
    "a=\" abc def hij \" #문자열선언\n",
    "a.replace(\" \",\"\")# 모든 공백을 지움"
   ]
  },
  {
   "cell_type": "code",
   "execution_count": 34,
   "id": "ab3580f7",
   "metadata": {},
   "outputs": [
    {
     "name": "stdout",
     "output_type": "stream",
     "text": [
      "===============\n",
      "이름:  홍길동\n",
      "국어:  100\n",
      "영어:  95\n",
      "수학:  88\n",
      "===============\n"
     ]
    }
   ],
   "source": [
    "# 구분자로 문자열 나누기1\n",
    "rec = \"홍길동,100,95,88\" #문자열 선언\n",
    "\n",
    "item = rec.split(\",\") #문자열을 콤마 기준으로 잘라서 item에 담음 => 리스트 생성\n",
    "print(\"=\" * 15) #구분선으로 등호 15개 한 줄에 출력\n",
    "print(\"이름: \", item[0]) #item리스트의 0번째 인덱스 값\n",
    "print(\"국어: \", item[1]) #item리스트의 1번째 인덱스 값\n",
    "print(\"영어: \", item[2]) #item리스트의 2번째 인덱스 값\n",
    "print(\"수학: \", item[3]) #item리스트의 3번째 인덱스 값\n",
    "print(\"=\" * 15) #구분선으로 등호 15개 한 줄에 출력"
   ]
  },
  {
   "cell_type": "code",
   "execution_count": 36,
   "id": "108c37d7",
   "metadata": {
    "scrolled": true
   },
   "outputs": [
    {
     "name": "stdout",
     "output_type": "stream",
     "text": [
      "===============\n",
      "0 ==> 본\n",
      "1 ==> 예제는\n",
      "2 ==> 빈칸으로\n",
      "3 ==> 구분되어\n",
      "4 ==> 있는\n",
      "5 ==> 한\n",
      "6 ==> 줄의\n",
      "7 ==> 데이터를\n",
      "8 ==> 빈칸을\n",
      "9 ==> \n",
      "10 ==> \n",
      "11 ==> \n",
      "12 ==> \n",
      "13 ==> \n",
      "14 ==> 구분하여\n",
      "15 ==> 나누어\n",
      "16 ==> 줌\n",
      "===============\n"
     ]
    }
   ],
   "source": [
    "# 구분자로 문자열 나누기2\n",
    "#빈칸 5개 출력!\n",
    "rec = \"본 예제는 빈칸으로 구분되어 있는 한 줄의 데이터를 빈칸을      구분하여 나누어 줌\"\n",
    "item = rec.split(\" \") # 공백 기준으로 값 잘라서 item에 담음 => 리스트 생성\n",
    "\n",
    "print(\"=\" * 15) #구분선으로 등호 15개 한 줄에 출력\n",
    "i = 0    #변수 i선언 및 0으로 값 초기화 => 카운트용 변수\n",
    "for s in item: # item의 크기만큼 반복문 실행\n",
    "    print(i, \"==>\", s)  #순서를 표시하기 위해 i 출력, 리스트의 모든 값 출력\n",
    "    i += 1 # i가 1씩 증가 => 카운트 증가\n",
    "print(\"=\" * 15) #구분선으로 등호 15개 한 줄에 출력"
   ]
  },
  {
   "cell_type": "code",
   "execution_count": 37,
   "id": "1d8dcd54",
   "metadata": {},
   "outputs": [
    {
     "name": "stdout",
     "output_type": "stream",
     "text": [
      "==================================================\n",
      "이름\t국어\t영어\t수학\t총점\t평균\n",
      "==================================================\n",
      "나연 \t 100 \t 90 \t 100 \t 290 \t 96\n",
      "정연 \t 90 \t 90 \t 100 \t 280 \t 93\n",
      "모모 \t 80 \t 70 \t 90 \t 240 \t 80\n",
      "사나 \t 90 \t 90 \t 80 \t 260 \t 86\n",
      "지효 \t 100 \t 80 \t 80 \t 260 \t 86\n",
      "미나 \t 50 \t 90 \t 90 \t 230 \t 76\n",
      "다현 \t 80 \t 60 \t 100 \t 240 \t 80\n",
      "채영 \t 70 \t 80 \t 90 \t 240 \t 80\n",
      "쯔위 \t 100 \t 90 \t 90 \t 280 \t 93\n",
      "==================================================\n",
      "반총점\t 760 \t 740 \t 820 \t 2320 \t 85.0\n",
      "==================================================\n"
     ]
    }
   ],
   "source": [
    "#파이썬 기초 8강 트와이스 성적표 실습\n",
    "#리스트 연습2 - 성적표 출력\n",
    "#함수 선언 후 pass로 함수 비워뒀던 함수들 내용 채움\n",
    "\n",
    "#함수선언\n",
    "def titleprint(): #상단 타이틀부분 출력함수\n",
    "    print(\"=\" * 50)    #등호 50번 출력해 구분선 생성\n",
    "    print(\"이름\\t국어\\t영어\\t수학\\t총점\\t평균\")      #탭으로 각 값 칸 구분\n",
    "    print(\"=\" * 50)    #등호 50번 출력해 구분선 생성\n",
    "              \n",
    "def itemprint(name, kor, eng, mat): # 각 과목 성적 입력하는 함수 (매개변수 4개)\n",
    "    #이름, 각과목별 점수, 3과목 점수 총합, 3과목 점수평균 출력\n",
    "    print(name, \"\\t\", kor, \"\\t\", eng, \"\\t\", mat, \"\\t\", kor + eng + mat, \"\\t\", (kor + eng + mat) // 3)\n",
    "    #출력> 나연  100  90  100  290  96\n",
    "    #출력> 정연  90  90  100  280  93\n",
    "    \n",
    "def tailprint(): # 합산부 출력\n",
    "    totkor = 0 # 국어 점수 합계 변수 선언 및 값 0으로 초기화\n",
    "    toteng = 0 # 영어 점수 합계 변수 선언 및 값 0으로 초기화\n",
    "    totmat = 0 # 수학 점수 합계 변수 선언 및 값 0으로 초기화\n",
    "    for one_student in score:    #반복문으로 성적리스트의 각 과목 값 더함\n",
    "        totkor += one_student[kor] # 국어 점수 합계 변수에 국어 점수 누적\n",
    "        toteng += one_student[eng] # 영어 점수 합계 변수에 영어 점수 누적\n",
    "        totmat += one_student[mat] # 수학 점수 합계 변수에 수학 점수 누적\n",
    "    print(\"=\" * 50)    #등호 50번 출력해 구분선 생성\n",
    "    #과목별 총점, 3과목 총점, 평균 출력\n",
    "    print(\"반총점\\t\", totkor, \"\\t\", toteng, \"\\t\", totmat, \"\\t\"\\\n",
    "          , (totkor + toteng + totmat), \"\\t\", (totkor + toteng + totmat) / 3 // 9)\n",
    "    print(\"=\" * 50)    #등호 50번 출력해 구분선 생성\n",
    "    \n",
    "#데이터 2차원 리스트\n",
    "score = [[\"나연\", 100, 90, 100],\n",
    "        [\"정연\", 90, 90, 100],\n",
    "        [\"모모\", 80, 70, 90],\n",
    "        [\"사나\", 90, 90, 80],\n",
    "        [\"지효\", 100, 80, 80],\n",
    "        [\"미나\", 50, 90, 90],\n",
    "        [\"다현\", 80, 60, 100],\n",
    "        [\"채영\", 70, 80, 90],\n",
    "        [\"쯔위\", 100, 90, 90]]\n",
    "\n",
    "#프로그램을 보기 좋게 하려고 상수를 정의 => 리스트에서의 해당 항목 인덱스\n",
    "name = 0; kor = 1; eng = 2; mat = 3\n",
    "    \n",
    "#여기부터 프로그램\n",
    "titleprint()      #상단 타이틀 출력 함수실행\n",
    "for one_student in score:    #scroe 리스트 값들을 한 줄씩 넣어가며 계산\n",
    "    itemprint(one_student[name], one_student[kor], one_student[eng], one_student[mat])\n",
    "tailprint()     #합산부 출력 함수 실행"
   ]
  },
  {
   "cell_type": "code",
   "execution_count": 39,
   "id": "32540954",
   "metadata": {},
   "outputs": [
    {
     "name": "stdout",
     "output_type": "stream",
     "text": [
      "[['나연', 100, 90, 100], ['정연', 90, 90, 100], ['모모', 80, 70, 90], ['사나', 90, 90, 80], ['지효', 100, 80, 80], ['미나', 50, 90, 90], ['다현', 80, 60, 100], ['채영', 70, 80, 90], ['쯔위', 100, 90, 90]]\n"
     ]
    }
   ],
   "source": [
    "#파이썬 기초10강\n",
    "# 구분자 연습\n",
    "# 트와이스 성적표 출력\n",
    "#이전 실습데이터는 리스트로 구분되어있었고, 이번 실습은 콤마로 구분\n",
    "# [콤마구분자로 나눔, 숫자형 변환, 리스트에 추가]를 유의하여 프로그래밍함\n",
    "dili_score = [\"나연,100,90,100\", \"정연,90,90,100\", \"모모,80,70,90\",   #데이터 콤마로 구분\n",
    "              \"사나,90,90,80\", \"지효,100,80,80\", \"미나,50,90,90\", \n",
    "              \"다현,80,60,100\", \"채영,70,80,90\", \"쯔위,100,90,90\"]\n",
    "score = [] #성적 담을 리스트\n",
    "for one_rec in dili_score: #dili_score 값을 하나씩 뽑에서 one_rec에 담는 반복문\n",
    "    one_score = one_rec.split(\",\")  #콤마를 구분자로 쪼갬.\n",
    "    one_score[1] = int(one_score[1]) #문자형 국어점수 숫자형 변환\n",
    "    one_score[2] = int(one_score[2]) #문자형 영어점수 숫자형 변환\n",
    "    one_score[3] = int(one_score[3]) #문자형 수학점수 숫자형 변환\n",
    "    score.append(one_score.copy()) # copy에 주의할 것..값 복사\n",
    "print(score) #출력"
   ]
  },
  {
   "cell_type": "code",
   "execution_count": 40,
   "id": "290c9148",
   "metadata": {},
   "outputs": [
    {
     "name": "stdout",
     "output_type": "stream",
     "text": [
      "case1\n",
      "품목: 오징어땅콩  단가: 1000 원 수량: 10 개 합계: 10000 원\n",
      "case2\n",
      "품목:오징어땅콩 단가:1000원 수량:10개 합계:10000원\n",
      "case3\n",
      "품목:오징어땅콩 단가:1000원 수량:10개 합계:10000원\n",
      "case4\n",
      "품목:오징어땅콩      단가:01000원 수량:0x0a개 합계: 10000.000원\n"
     ]
    }
   ],
   "source": [
    "# 포맷팅 정의\n",
    "# 포맷팅 : 출력 형식을 지시하여 출력하는 방식\n",
    "item = \"오징어땅콩\" # 품목\n",
    "unit = 1000 # 단가\n",
    "qty = 10 # 수량\n",
    "tot = unit * qty # 합계\n",
    "\n",
    "# 기존 print방법, 각 값 다음 칸 띄어쓰기 후 출력\n",
    "print(\"case1\")\n",
    "print(\"품목:\", item, \" 단가:\", unit, \"원 수량:\", qty, \"개 합계:\", tot, \"원\")\n",
    "\n",
    "# 하나의 긴 문자열을 만들어 출력하면 공백없이 출력이가능\n",
    "#+연산자로 띄어쓰기 없이 출력\n",
    "print(\"case2\")\n",
    "print(\"품목:\"+item+\" 단가:\"+str(unit)+\"원 수량:\"+str(qty)+\"개 합계:\"+str(tot)+\"원\")\n",
    "\n",
    "# 출력포맷문자를 지정하여 원하는 포맷으로 출력\n",
    "print(\"case3\")\n",
    "print(\"품목:%s 단가:%d원 수량:%d개 합계:%d원\"%(item,unit,qty,tot))\n",
    "\n",
    "#포맷팅 예 - 간격 지정\n",
    "print(\"case4\")\n",
    "print(\"품목:%-10s 단가:%05d원 수량:0x%02x개 합계:%10.3f원\"%(item,unit,qty,tot))"
   ]
  },
  {
   "cell_type": "code",
   "execution_count": 43,
   "id": "f0939646",
   "metadata": {},
   "outputs": [
    {
     "name": "stdout",
     "output_type": "stream",
     "text": [
      "[ 1000][1000 ][01000]\n",
      "[   땅콩][땅콩   ][   땅콩]\n",
      "[1000]=[3e8][0x3e8][1750]\n",
      "[ 1000%]\n",
      "[a][b][c]\n"
     ]
    }
   ],
   "source": [
    "# 포맷팅 문자표현 \n",
    "item = \"땅콩\" # 문자\n",
    "unit = 1000 # 숫자\n",
    "\n",
    "#[%숫자d] : 숫자만큼 우측정렬\n",
    "#[%-숫자d] : 숫자만큼 좌측정렬\n",
    "#[%0숫자d] : 숫지만큼 우측정렬+빈칸은 숫자0채움\n",
    "#문자형은 %s사용, 8진수는 %o사용, 16진수는 %x사용\n",
    "# %기호 그 자체 출력하려면 %%\n",
    "print(\"[%5d][%-5d][%05d]\"%(unit, unit, unit)) #우측정렬, 좌측정렬, 빈칸0채운 우측정렬\n",
    "print(\"[%5s][%-5s][%05s]\"%(item, item, item)) #문자형 정렬\n",
    "print(\"[%d]=[%x][%#x][%o]\"%(unit, unit, unit, unit)) #정수형, 16진수형, 16진수형, 8진수형 정렬\n",
    "print(\"[%5d%%]\"%unit) # 우측정렬 + unit값에 %라는 기호출력 \n",
    "\n",
    "# 한글은 1byte로 자르면 에러\n",
    "# print(\"[%c][%c][%c]\"%(item[0],item[1]))   #한글 오류!\n",
    "a = \"abcd\" #문자형 변수\n",
    "print(\"[%c][%c][%c]\"%(a[0], a[1], a[2])) #문자하나씩 인덱스 맞춰서 출력"
   ]
  },
  {
   "cell_type": "code",
   "execution_count": 44,
   "id": "977ff035",
   "metadata": {},
   "outputs": [
    {
     "name": "stdout",
     "output_type": "stream",
     "text": [
      "-1,234,567,890.123\n"
     ]
    }
   ],
   "source": [
    "# 숫자에 콤마 찍기\n",
    "import locale # locale라이브러리를 임포트 함, 설치는 필요없음\n",
    "locale.setlocale(locale.LC_ALL, \"\") # 시스템 기본 로케일 사용\n",
    "n = -1234567890.123  #숫자입력\n",
    "s = locale.format_string(\"%.3f\", n, 1) #실수형 숫자를 3번째마다 콤마찍음 \n",
    "print(s) #출력"
   ]
  },
  {
   "cell_type": "code",
   "execution_count": 104,
   "id": "c1ca6c0f",
   "metadata": {
    "scrolled": true
   },
   "outputs": [
    {
     "name": "stdout",
     "output_type": "stream",
     "text": [
      "*************************************************\n",
      "총 금 액:  1,000,000원 \t달 러 환 율:      $1,010\n",
      "지급달러:         $988\n",
      "거스름돈:          5원 \t은행 수수료:     1,996원\n",
      "*************************************************\n"
     ]
    }
   ],
   "source": [
    "# ***********포맷팅 실습************\n",
    "# 환율 계산\n",
    "#1. 금액 콤마찍기 위한 import\n",
    "import locale #locale라이브러리를 임포트 함, 설치는 필요없음\n",
    "locale.setlocale(locale.LC_ALL, \"\") # 시스템 기본 로케일 사용\n",
    "\n",
    "\n",
    "#2. 변수들 선언 및 값 계산\n",
    "myWon = 1000000 # 환전할 금액 원화 100만원\n",
    "moneyEx = 1010.12 # 달러환율\n",
    "commission_rate = 0.002 # 은행 수수료율\n",
    "a = moneyEx + moneyEx * commission_rate  #1달러당 환율금액, 해당 금액에 대한 수수료 합\n",
    "\n",
    "\n",
    "#3. 소수점 이하값들 처리\n",
    "# 나의 돈을 위의 금액으로 나오면 소수점이 나오기 때문에\n",
    "# 해당 소수점을 버린다 즉 100만원에 989.99달러 나오면\n",
    "# 989달러를 준다. 소수점 아래는 버린다\n",
    "usd = int (myWon /a)  #환전해줘야하는 달러가 소수점나오면 버림 => 정수형으 지급\n",
    "\n",
    "# 거스름돈 계산 =100만원 - 달러액*(환율+달러당 수수료)\n",
    "# 소수점 아래는 버린다.\n",
    "remain = int(myWon - usd * a) \n",
    "\n",
    "commission = usd * moneyEx * commission_rate # 환전 수수료총액 계산\n",
    "\n",
    "#환전 수수료총액을 소수점이하는 올림처리! => 수수료는 올림!!!!\n",
    "if(commission != float(int(commission))) : # 소수점이 있는지 체크 => 소수점 이하 값 있다면,\n",
    "    commission = int(commission) + 1 #일의자리 올림!\n",
    "\n",
    "#환전 수수료총액에 소수점 이하값이 없다면\n",
    "else :\n",
    "    commission = int(commission) # 단순 정수형 처리\n",
    "\n",
    "    \n",
    "#4. 계산한 총액 출력\n",
    "#포맷을 지정해 출력함.\n",
    "print(\"*************************************************\") #구분선\n",
    "print(\"총 금 액: %s원 \\t달 러 환 율: %6s%s\"%( \\\n",
    "    locale.format_string(\"%10d\", myWon, 1), \\\n",
    "    \"$\",locale.format_string(\"%d\", moneyEx, 1)) )\n",
    "print(\"지급달러:  %8s%s\"% (\"$\",locale.format_string(\"%d\", usd, 1)))\n",
    "print(\"거스름돈: %s원 \\t은행 수수료: %9s원\"%( \\\n",
    "    locale.format_string(\"%10d\", remain, 1), \\\n",
    "    locale.format_string(\"%d\", commission, 1)) )\n",
    "print(\"*************************************************\") #구분선"
   ]
  },
  {
   "cell_type": "code",
   "execution_count": null,
   "id": "9a3393f2",
   "metadata": {},
   "outputs": [],
   "source": [
    "#끝끝끝~~~~~~~~~~~~~~~~~~~~~~~~"
   ]
  }
 ],
 "metadata": {
  "kernelspec": {
   "display_name": "Python 3 (ipykernel)",
   "language": "python",
   "name": "python3"
  },
  "language_info": {
   "codemirror_mode": {
    "name": "ipython",
    "version": 3
   },
   "file_extension": ".py",
   "mimetype": "text/x-python",
   "name": "python",
   "nbconvert_exporter": "python",
   "pygments_lexer": "ipython3",
   "version": "3.8.8rc1"
  }
 },
 "nbformat": 4,
 "nbformat_minor": 5
}
