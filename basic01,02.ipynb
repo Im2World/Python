{
 "cells": [
  {
   "cell_type": "code",
   "execution_count": 1,
   "id": "0fc554d4",
   "metadata": {},
   "outputs": [
    {
     "data": {
      "text/plain": [
       "3"
      ]
     },
     "execution_count": 1,
     "metadata": {},
     "output_type": "execute_result"
    }
   ],
   "source": [
    "1+2"
   ]
  },
  {
   "cell_type": "code",
   "execution_count": 2,
   "id": "8d2ed76d",
   "metadata": {},
   "outputs": [
    {
     "data": {
      "text/plain": [
       "3"
      ]
     },
     "execution_count": 2,
     "metadata": {},
     "output_type": "execute_result"
    }
   ],
   "source": [
    "1 + 2"
   ]
  },
  {
   "cell_type": "code",
   "execution_count": 3,
   "id": "cc7a2a73",
   "metadata": {
    "scrolled": true
   },
   "outputs": [
    {
     "data": {
      "text/plain": [
       "3"
      ]
     },
     "execution_count": 3,
     "metadata": {},
     "output_type": "execute_result"
    }
   ],
   "source": [
    "        1 + 2"
   ]
  },
  {
   "cell_type": "code",
   "execution_count": 4,
   "id": "325199cb",
   "metadata": {},
   "outputs": [
    {
     "data": {
      "text/plain": [
       "3"
      ]
     },
     "execution_count": 4,
     "metadata": {},
     "output_type": "execute_result"
    }
   ],
   "source": [
    ">>> 1 + 2"
   ]
  },
  {
   "cell_type": "code",
   "execution_count": 5,
   "id": "d0f4c789",
   "metadata": {},
   "outputs": [
    {
     "ename": "IndentationError",
     "evalue": "unexpected indent (2845378040.py, line 1)",
     "output_type": "error",
     "traceback": [
      "\u001b[1;36m  Input \u001b[1;32mIn [5]\u001b[1;36m\u001b[0m\n\u001b[1;33m    1+2   #대화형은 첫칸 비우면 안됨\u001b[0m\n\u001b[1;37m    ^\u001b[0m\n\u001b[1;31mIndentationError\u001b[0m\u001b[1;31m:\u001b[0m unexpected indent\n"
     ]
    }
   ],
   "source": [
    ">>>  1+2   #대화형은 첫칸 비우면 안됨"
   ]
  },
  {
   "cell_type": "code",
   "execution_count": 6,
   "id": "294f7dc2",
   "metadata": {},
   "outputs": [
    {
     "name": "stdout",
     "output_type": "stream",
     "text": [
      "스위치 on\n"
     ]
    }
   ],
   "source": [
    "sw = 1   #sw에 1대입\n",
    "if sw == 1:      #sw가 1이면\n",
    "    print(\"스위치 on\")    #출력\n",
    "else:    #sw가 1이 아니면\n",
    "    print(\"스위치 off\")     #출력"
   ]
  },
  {
   "cell_type": "code",
   "execution_count": 7,
   "id": "b4ec7375",
   "metadata": {},
   "outputs": [
    {
     "name": "stdout",
     "output_type": "stream",
     "text": [
      "3\n",
      "7\n",
      "12\n"
     ]
    }
   ],
   "source": [
    "print(1+2); print(3+4); print(5+ 7)"
   ]
  },
  {
   "cell_type": "code",
   "execution_count": 8,
   "id": "22e0e823",
   "metadata": {},
   "outputs": [
    {
     "name": "stdout",
     "output_type": "stream",
     "text": [
      "3\n"
     ]
    }
   ],
   "source": [
    "print(1+2)"
   ]
  },
  {
   "cell_type": "code",
   "execution_count": 9,
   "id": "5f3642f7",
   "metadata": {
    "scrolled": true
   },
   "outputs": [
    {
     "ename": "NameError",
     "evalue": "name 'Print' is not defined",
     "output_type": "error",
     "traceback": [
      "\u001b[1;31m---------------------------------------------------------------------------\u001b[0m",
      "\u001b[1;31mNameError\u001b[0m                                 Traceback (most recent call last)",
      "Input \u001b[1;32mIn [9]\u001b[0m, in \u001b[0;36m<cell line: 1>\u001b[1;34m()\u001b[0m\n\u001b[1;32m----> 1\u001b[0m \u001b[43mPrint\u001b[49m(\u001b[38;5;241m1\u001b[39m\u001b[38;5;241m+\u001b[39m\u001b[38;5;241m2\u001b[39m)\n",
      "\u001b[1;31mNameError\u001b[0m: name 'Print' is not defined"
     ]
    }
   ],
   "source": [
    "Print(1+2)"
   ]
  },
  {
   "cell_type": "code",
   "execution_count": 10,
   "id": "95615c06",
   "metadata": {
    "scrolled": true
   },
   "outputs": [
    {
     "ename": "NameError",
     "evalue": "name 'PRINT' is not defined",
     "output_type": "error",
     "traceback": [
      "\u001b[1;31m---------------------------------------------------------------------------\u001b[0m",
      "\u001b[1;31mNameError\u001b[0m                                 Traceback (most recent call last)",
      "Input \u001b[1;32mIn [10]\u001b[0m, in \u001b[0;36m<cell line: 1>\u001b[1;34m()\u001b[0m\n\u001b[1;32m----> 1\u001b[0m \u001b[43mPRINT\u001b[49m(\u001b[38;5;241m1\u001b[39m\u001b[38;5;241m+\u001b[39m\u001b[38;5;241m2\u001b[39m)\n",
      "\u001b[1;31mNameError\u001b[0m: name 'PRINT' is not defined"
     ]
    }
   ],
   "source": [
    "PRINT(1+2)"
   ]
  },
  {
   "cell_type": "code",
   "execution_count": 11,
   "id": "85d89f1f",
   "metadata": {},
   "outputs": [],
   "source": [
    "abc = 1"
   ]
  },
  {
   "cell_type": "code",
   "execution_count": 12,
   "id": "6f0ff204",
   "metadata": {
    "scrolled": true
   },
   "outputs": [
    {
     "data": {
      "text/plain": [
       "3"
      ]
     },
     "execution_count": 12,
     "metadata": {},
     "output_type": "execute_result"
    }
   ],
   "source": [
    "1 + 2"
   ]
  },
  {
   "cell_type": "code",
   "execution_count": 13,
   "id": "0fcffb32",
   "metadata": {},
   "outputs": [
    {
     "data": {
      "text/plain": [
       "1"
      ]
     },
     "execution_count": 13,
     "metadata": {},
     "output_type": "execute_result"
    }
   ],
   "source": [
    "abc"
   ]
  },
  {
   "cell_type": "code",
   "execution_count": 14,
   "id": "4fd3b066",
   "metadata": {},
   "outputs": [
    {
     "name": "stdout",
     "output_type": "stream",
     "text": [
      "1\n"
     ]
    }
   ],
   "source": [
    "print (abc)"
   ]
  },
  {
   "cell_type": "code",
   "execution_count": 15,
   "id": "2ff8916c",
   "metadata": {},
   "outputs": [
    {
     "name": "stdout",
     "output_type": "stream",
     "text": [
      "3\n"
     ]
    }
   ],
   "source": [
    "print(1+2)"
   ]
  },
  {
   "cell_type": "code",
   "execution_count": 16,
   "id": "ef3ae628",
   "metadata": {},
   "outputs": [
    {
     "name": "stdout",
     "output_type": "stream",
     "text": [
      "3\n",
      "3\n"
     ]
    }
   ],
   "source": [
    "#출력예시\n",
    "a=1  #a에 1대입\n",
    "b=2  #b에 2대입\n",
    "a+b  #스크립트형에서는 print가 없으면 출력되지 않는다.\n",
    "print (a+b)  #출력\n",
    "1+2  #스크립트형에서는 print가 없으면 출력되지 않는다.\n",
    "print (1+2)  #출력"
   ]
  },
  {
   "cell_type": "code",
   "execution_count": 17,
   "id": "63f0d871",
   "metadata": {},
   "outputs": [
    {
     "name": "stdout",
     "output_type": "stream",
     "text": [
      "아침 점심 저녁\n",
      "아침먹고 점심먹고 저녁\n",
      "아침먹고 점심먹고 저녁땡"
     ]
    }
   ],
   "source": [
    "a= \"아침\" #a에 아침 입력\n",
    "b= \"점심\" #b에 점심 입력\n",
    "c= \"저녁\" #c에 저녁 입력\n",
    "print(a,b,c) #변수 3개 한 줄에 출력\n",
    "print(a,b,c, sep=\"먹고 \") #변수 사이에 구분자로 \"먹고\"출력한다.\n",
    "print(a,b,c, sep=\"먹고 \" ,end =\"땡\") #변수 사이에 구분자로 \"먹고\"출력, 마지막문자는 \"땡\" 출력"
   ]
  },
  {
   "cell_type": "code",
   "execution_count": 18,
   "id": "8d3d0da3",
   "metadata": {},
   "outputs": [
    {
     "name": "stdout",
     "output_type": "stream",
     "text": [
      "아침 점심 저녁\n",
      "아침먹고 점심먹고 저녁\n",
      "아침먹고 점심먹고 저녁아침자고 점심자고 저녁아침먹고 점심먹고 저녁\n",
      "아침자고 점심자고 저녁\n"
     ]
    }
   ],
   "source": [
    "a= \"아침\" #a에 아침 입력\n",
    "b= \"점심\" #b에 점심 입력\n",
    "c= \"저녁\" #c에 저녁 입력\n",
    "print(a,b,c) #변수 3개 한 줄에 출력\n",
    "print(a,b,c, sep=\"먹고 \") #변수 사이에 구분자로 \"먹고\"출력한다.\n",
    "print(a,b,c, sep=\"먹고 \" ,end =\"\") #변수 사이에 구분자로 \"먹고\"출력, 마지막문자는 공백, 줄바꿈 없음\n",
    "print(a,b,c, sep=\"자고 \" ,end =\"\") #변수 사이에 구분자로 \"자고\"출력, 마지막문자는 공백, 줄바꿈 없음\n",
    "print(a,b,c, sep=\"먹고 \" ,end =\"\\n\") #변수 사이에 구분자로 \"먹고\"출력, 마지막문자는 줄바꿈.\n",
    "print(a,b,c, sep=\"자고 \" ,end =\"\\n\") #변수 사이에 구분자로 \"자고\"출력, 마지막문자는 줄바꿈."
   ]
  },
  {
   "cell_type": "code",
   "execution_count": 19,
   "id": "70fe0157",
   "metadata": {},
   "outputs": [
    {
     "name": "stdout",
     "output_type": "stream",
     "text": [
      "22+33=55\n"
     ]
    }
   ],
   "source": [
    "a= 22 #a에 22 입력\n",
    "b= 33 #b에 33 입력\n",
    "print(a,b, sep=\"+\" ,end=\"=\") #a,b출력하는데 두 변수사이에 구분자 +입력, 마지막 문자로 =입력, 줄바꿈 없음\n",
    "print(a+b) #윗줄에 이어서 두 변수 합 출력"
   ]
  },
  {
   "cell_type": "code",
   "execution_count": 20,
   "id": "4b93e24d",
   "metadata": {},
   "outputs": [
    {
     "name": "stdout",
     "output_type": "stream",
     "text": [
      "너는 이름이 뭐니?정혜임\n",
      "이름이  정혜임  입니다\n",
      "너는 몇 살이니?29\n",
      "나이가  29 살 입니다\n"
     ]
    }
   ],
   "source": [
    "#입력예시\n",
    "#var = input(“입력 전 출력내용”)\n",
    "a= input(\"너는 이름이 뭐니?\") #a 값 입력 받을 때, ( )괄호 문구 출력\n",
    "print(\"이름이 \",a,\" 입니다\") #문구 사이에 입력받은 a 함께 출력\n",
    "b= input(\"너는 몇 살이니?\") #b 값 입력 받을 때, ( )괄호 문구 출력\n",
    "print(\"나이가 \",b,\"살 입니다\") #문구 사이에 입력받은 b 함께 출력"
   ]
  },
  {
   "cell_type": "code",
   "execution_count": 21,
   "id": "d5393e71",
   "metadata": {},
   "outputs": [
    {
     "name": "stdout",
     "output_type": "stream",
     "text": [
      "a값을 입력하셔요?1\n",
      "b값을 입력하셔요?2\n",
      "1+2=12\n",
      "수치 계산 : 1+2=3\n"
     ]
    }
   ],
   "source": [
    "#파이썬에서 print는 기본적으로 줄바꿈. end문자 사용시에는 \\n 로 줄바꿈 표시해줘야 줄바꿈된다.\n",
    "a= input(\"a값을 입력하셔요?\") #a 값 입력 받을 때, ( )괄호 문구 출력\n",
    "b= input(\"b값을 입력하셔요?\") #b 값 입력 받을 때, ( )괄호 문구 출력\n",
    "print(a,b, sep=\"+\" ,end=\"=\") #두 변수 사이에 구분자로 + 출력, 마지막문자로 = 출력 (줄바꿈 X)\n",
    "print(a+b) #a와 b합 출력 => 두 변수 모두 문자형이라 출력결과는 \"1\" + \"2\" = 12\n",
    "print(\"수치 계산\", end =\" : \") #새로운 메세지 출력\n",
    "print(a,b, sep=\"+\" ,end=\"=\") #두 변수 사이에 구분자로 + 출력, 마지막문자로 = 출력 (줄바꿈 X)\n",
    "print(int(a)+int(b)) #입력 받은 변수를 정수형으로 변환 후, 두 변수 합 출력=> 1 + 2 = 3"
   ]
  },
  {
   "cell_type": "code",
   "execution_count": 22,
   "id": "ec8e2f2e",
   "metadata": {},
   "outputs": [
    {
     "name": "stdout",
     "output_type": "stream",
     "text": [
      "품목?몽쉘\n",
      "수량?10\n",
      "단가?100\n",
      "몽쉘  :  10 개 *  100 원 = 총  1000 원\n"
     ]
    }
   ],
   "source": [
    "a= input(\"품목?\") #a 값 입력 받을 때, ( )괄호 문구 출력 => 변수 a는 문자형\n",
    "b=int(input(\"수량?\")) #b 값 입력 받을 때, ( )괄호 문구 출력 => 변수 b는 정수형\n",
    "c=int(input(\"단가?\")) #c 값 입력 받을 때, ( )괄호 문구 출력 => 변수 c는 정수형\n",
    "print(a, \" : \",b,\"개 * \",c,\"원 = 총 \", b*c, \"원\") #한 줄에 결과 출력// b,c는 정수형이라 b*c 연산가능"
   ]
  },
  {
   "cell_type": "code",
   "execution_count": 23,
   "id": "13e92e65",
   "metadata": {},
   "outputs": [],
   "source": [
    "#변수\n",
    "#변수내에값을배정, 지정(Assignment)하는개념.\n",
    "a = 1 #변수 a에 값1 지정"
   ]
  },
  {
   "cell_type": "code",
   "execution_count": 24,
   "id": "d3a5bda3",
   "metadata": {},
   "outputs": [
    {
     "name": "stdout",
     "output_type": "stream",
     "text": [
      "1\n"
     ]
    }
   ],
   "source": [
    "print(a)   #출력"
   ]
  },
  {
   "cell_type": "code",
   "execution_count": 25,
   "id": "5b7b0b9b",
   "metadata": {},
   "outputs": [],
   "source": [
    "a = 2 #변수 a에 값2 지정"
   ]
  },
  {
   "cell_type": "code",
   "execution_count": 26,
   "id": "07175390",
   "metadata": {},
   "outputs": [
    {
     "name": "stdout",
     "output_type": "stream",
     "text": [
      "2\n"
     ]
    }
   ],
   "source": [
    "print(a)   #출력 => a의 값이 1에서 2로 변경됨."
   ]
  },
  {
   "cell_type": "code",
   "execution_count": 27,
   "id": "f174dbcb",
   "metadata": {},
   "outputs": [],
   "source": [
    "b = 3   #변수 b에 값 3 지정"
   ]
  },
  {
   "cell_type": "code",
   "execution_count": 28,
   "id": "cba3920e",
   "metadata": {},
   "outputs": [
    {
     "name": "stdout",
     "output_type": "stream",
     "text": [
      "3\n"
     ]
    }
   ],
   "source": [
    "print(b)   #출력"
   ]
  },
  {
   "cell_type": "code",
   "execution_count": 29,
   "id": "5497bea6",
   "metadata": {},
   "outputs": [
    {
     "name": "stdout",
     "output_type": "stream",
     "text": [
      "2\n"
     ]
    }
   ],
   "source": [
    "print(a)   #출력 => a는 값을 2로 지정한 후에 변동사항 없음."
   ]
  },
  {
   "cell_type": "code",
   "execution_count": 30,
   "id": "44a4bfa1",
   "metadata": {},
   "outputs": [
    {
     "name": "stdout",
     "output_type": "stream",
     "text": [
      "1122\n"
     ]
    },
    {
     "data": {
      "text/plain": [
       "int"
      ]
     },
     "execution_count": 30,
     "metadata": {},
     "output_type": "execute_result"
    }
   ],
   "source": [
    "#변수의 사용법\n",
    "#type() : 변수의형태를나타내주는함수\n",
    "#변수에 값을 지정할 때 변수의 형태가 설정됨\n",
    "a=1122;print(a);type(a) #변수 a에 값 1122지정 후 출력, 변수 a 타입은 정수형(정수입력했기때문)"
   ]
  },
  {
   "cell_type": "code",
   "execution_count": 31,
   "id": "d20856cc",
   "metadata": {},
   "outputs": [
    {
     "name": "stdout",
     "output_type": "stream",
     "text": [
      "hello\n"
     ]
    },
    {
     "data": {
      "text/plain": [
       "str"
      ]
     },
     "execution_count": 31,
     "metadata": {},
     "output_type": "execute_result"
    }
   ],
   "source": [
    "b=\"hello\";print(b);type(b) #b에 hello 지정 후 출력, 변수 b 타입은 문자형(\"문자\"입력했기때문)"
   ]
  },
  {
   "cell_type": "code",
   "execution_count": 32,
   "id": "c2a252f8",
   "metadata": {},
   "outputs": [],
   "source": [
    "b=12 #문자형인 변수 b 값을 정수형인 12로 갱신"
   ]
  },
  {
   "cell_type": "code",
   "execution_count": 33,
   "id": "66c7c85b",
   "metadata": {},
   "outputs": [
    {
     "data": {
      "text/plain": [
       "int"
      ]
     },
     "execution_count": 33,
     "metadata": {},
     "output_type": "execute_result"
    }
   ],
   "source": [
    "type(b) #갱신한 변수 b 타입 출력=> 정수형"
   ]
  },
  {
   "cell_type": "code",
   "execution_count": 34,
   "id": "9e952bc6",
   "metadata": {},
   "outputs": [
    {
     "name": "stdout",
     "output_type": "stream",
     "text": [
      "1122\n"
     ]
    },
    {
     "data": {
      "text/plain": [
       "int"
      ]
     },
     "execution_count": 34,
     "metadata": {},
     "output_type": "execute_result"
    }
   ],
   "source": [
    "#변수를 더 이상 사용하지 않을 때 del로 변수 메모리 공간 반환\n",
    "a=1122;print(a);type(a) #변수 a에 값 1122지정 후 출력, 변수 a 타입은 정수형(정수입력했기때문)"
   ]
  },
  {
   "cell_type": "code",
   "execution_count": 35,
   "id": "700c8d82",
   "metadata": {},
   "outputs": [
    {
     "name": "stdout",
     "output_type": "stream",
     "text": [
      "11\n"
     ]
    }
   ],
   "source": [
    "a=11; print(a)   # 변수a 값을 11로 갱신, 출력"
   ]
  },
  {
   "cell_type": "code",
   "execution_count": 36,
   "id": "0f4ad1f7",
   "metadata": {},
   "outputs": [],
   "source": [
    "del a    #변수 a 삭제"
   ]
  },
  {
   "cell_type": "code",
   "execution_count": 37,
   "id": "0d163f9a",
   "metadata": {},
   "outputs": [
    {
     "ename": "NameError",
     "evalue": "name 'a' is not defined",
     "output_type": "error",
     "traceback": [
      "\u001b[1;31m---------------------------------------------------------------------------\u001b[0m",
      "\u001b[1;31mNameError\u001b[0m                                 Traceback (most recent call last)",
      "Input \u001b[1;32mIn [37]\u001b[0m, in \u001b[0;36m<cell line: 1>\u001b[1;34m()\u001b[0m\n\u001b[1;32m----> 1\u001b[0m \u001b[38;5;28mprint\u001b[39m(\u001b[43ma\u001b[49m)\n",
      "\u001b[1;31mNameError\u001b[0m: name 'a' is not defined"
     ]
    }
   ],
   "source": [
    "print(a)   #a 출력 "
   ]
  },
  {
   "cell_type": "code",
   "execution_count": 38,
   "id": "d804e805",
   "metadata": {},
   "outputs": [
    {
     "name": "stdout",
     "output_type": "stream",
     "text": [
      "100000\n"
     ]
    }
   ],
   "source": [
    "#변수명 명명법\n",
    "net=100; qty=1000; total=net*qty; print(total) #변수명은 목적 파악 쉬운 이름으로 작성"
   ]
  },
  {
   "cell_type": "code",
   "execution_count": 39,
   "id": "5def42a6",
   "metadata": {},
   "outputs": [
    {
     "name": "stdout",
     "output_type": "stream",
     "text": [
      "100000\n"
     ]
    }
   ],
   "source": [
    "#파이썬은 한글변수명도 가능하지만 관습적으로 영어변수명만 사용\n",
    "단가=100; 수량=1000; 총합=단가*수량; print(총합)"
   ]
  }
 ],
 "metadata": {
  "kernelspec": {
   "display_name": "Python 3 (ipykernel)",
   "language": "python",
   "name": "python3"
  },
  "language_info": {
   "codemirror_mode": {
    "name": "ipython",
    "version": 3
   },
   "file_extension": ".py",
   "mimetype": "text/x-python",
   "name": "python",
   "nbconvert_exporter": "python",
   "pygments_lexer": "ipython3",
   "version": "3.8.8rc1"
  }
 },
 "nbformat": 4,
 "nbformat_minor": 5
}
