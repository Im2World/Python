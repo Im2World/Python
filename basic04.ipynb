{
 "cells": [
  {
   "cell_type": "code",
   "execution_count": 7,
   "id": "c16edfb4",
   "metadata": {},
   "outputs": [],
   "source": [
    "#파이썬 기초4강\n",
    "#연산자 - 단순연산자\n",
    "#<형식> 변수=값 또는 변수=수식\n",
    "a=3 #변수 a에 값 3 대입 => 변수 = 값"
   ]
  },
  {
   "cell_type": "code",
   "execution_count": 8,
   "id": "38e5099c",
   "metadata": {},
   "outputs": [],
   "source": [
    "b=4  #변수 b에 값 4 대입 => 변수 = 값"
   ]
  },
  {
   "cell_type": "code",
   "execution_count": 9,
   "id": "20995b35",
   "metadata": {},
   "outputs": [],
   "source": [
    "c=123+456*6  #변수 c에 값 대입 => 변수 = 수식"
   ]
  },
  {
   "cell_type": "code",
   "execution_count": 10,
   "id": "d9da2df8",
   "metadata": {},
   "outputs": [
    {
     "data": {
      "text/plain": [
       "(3, 4, 2859)"
      ]
     },
     "execution_count": 10,
     "metadata": {},
     "output_type": "execute_result"
    }
   ],
   "source": [
    "a,b,c  #변수들  한 줄에 ,로 구분해서 출력"
   ]
  },
  {
   "cell_type": "code",
   "execution_count": 11,
   "id": "1454dd03",
   "metadata": {},
   "outputs": [
    {
     "ename": "SyntaxError",
     "evalue": "cannot assign to operator (2075117145.py, line 1)",
     "output_type": "error",
     "traceback": [
      "\u001b[1;36m  Input \u001b[1;32mIn [11]\u001b[1;36m\u001b[0m\n\u001b[1;33m    a+b=c #오류, 수식=변수의 구조\u001b[0m\n\u001b[1;37m    ^\u001b[0m\n\u001b[1;31mSyntaxError\u001b[0m\u001b[1;31m:\u001b[0m cannot assign to operator\n"
     ]
    }
   ],
   "source": [
    "a+b=c #오류, 수식=변수의 구조"
   ]
  },
  {
   "cell_type": "code",
   "execution_count": 12,
   "id": "99e9f749",
   "metadata": {},
   "outputs": [
    {
     "ename": "SyntaxError",
     "evalue": "cannot assign to operator (3064555315.py, line 1)",
     "output_type": "error",
     "traceback": [
      "\u001b[1;36m  Input \u001b[1;32mIn [12]\u001b[1;36m\u001b[0m\n\u001b[1;33m    123+456 = a #오류, 수식=변수 구조\u001b[0m\n\u001b[1;37m    ^\u001b[0m\n\u001b[1;31mSyntaxError\u001b[0m\u001b[1;31m:\u001b[0m cannot assign to operator\n"
     ]
    }
   ],
   "source": [
    "123+456 = a #오류, 수식=변수 구조"
   ]
  },
  {
   "cell_type": "code",
   "execution_count": 13,
   "id": "aeed21f6",
   "metadata": {},
   "outputs": [],
   "source": [
    "#단순 대입연산자 - 자료형 변경\n",
    "a=1  #변수 a에 값 1 대입"
   ]
  },
  {
   "cell_type": "code",
   "execution_count": 14,
   "id": "67a04125",
   "metadata": {},
   "outputs": [
    {
     "ename": "TypeError",
     "evalue": "unsupported operand type(s) for +: 'int' and 'str'",
     "output_type": "error",
     "traceback": [
      "\u001b[1;31m---------------------------------------------------------------------------\u001b[0m",
      "\u001b[1;31mTypeError\u001b[0m                                 Traceback (most recent call last)",
      "Input \u001b[1;32mIn [14]\u001b[0m, in \u001b[0;36m<cell line: 1>\u001b[1;34m()\u001b[0m\n\u001b[1;32m----> 1\u001b[0m a \u001b[38;5;241m=\u001b[39m \u001b[43ma\u001b[49m\u001b[38;5;241;43m+\u001b[39;49m\u001b[38;5;124;43m\"\u001b[39;49m\u001b[38;5;124;43m안녕\u001b[39;49m\u001b[38;5;124;43m\"\u001b[39;49m\n",
      "\u001b[1;31mTypeError\u001b[0m: unsupported operand type(s) for +: 'int' and 'str'"
     ]
    }
   ],
   "source": [
    "a = a+\"안녕\" #숫자형+문자형이라 자료형 오류"
   ]
  },
  {
   "cell_type": "code",
   "execution_count": 15,
   "id": "2e2ed1f0",
   "metadata": {},
   "outputs": [],
   "source": [
    "a = \"abc\" #변수 a에 값 \"abc\"대입"
   ]
  },
  {
   "cell_type": "code",
   "execution_count": 16,
   "id": "22567bc9",
   "metadata": {},
   "outputs": [],
   "source": [
    "a = a + \"안녕\" #문자형 + 문자형 => 두 문자를 이어서 출력"
   ]
  },
  {
   "cell_type": "code",
   "execution_count": 17,
   "id": "bc0b662d",
   "metadata": {},
   "outputs": [
    {
     "name": "stdout",
     "output_type": "stream",
     "text": [
      "abc안녕\n"
     ]
    }
   ],
   "source": [
    "print(a) #메세지 출력"
   ]
  },
  {
   "cell_type": "code",
   "execution_count": 18,
   "id": "8cf318f4",
   "metadata": {},
   "outputs": [],
   "source": [
    "#복합형태 대입연산자\n",
    "a=1  #변수 a에 값 1 대입"
   ]
  },
  {
   "cell_type": "code",
   "execution_count": 19,
   "id": "7d075b07",
   "metadata": {},
   "outputs": [],
   "source": [
    "b=2  #변수 b에 값 2 대입"
   ]
  },
  {
   "cell_type": "code",
   "execution_count": 20,
   "id": "c132a1a8",
   "metadata": {},
   "outputs": [
    {
     "data": {
      "text/plain": [
       "(1, 2)"
      ]
     },
     "execution_count": 20,
     "metadata": {},
     "output_type": "execute_result"
    }
   ],
   "source": [
    "a,b # 변수를 ,로 구분해 한 줄에 출력"
   ]
  },
  {
   "cell_type": "code",
   "execution_count": 21,
   "id": "fd336295",
   "metadata": {},
   "outputs": [],
   "source": [
    "a,b=b,a #변수 a,b의 값을 서로의 값으로 교환"
   ]
  },
  {
   "cell_type": "code",
   "execution_count": 22,
   "id": "89577b4a",
   "metadata": {},
   "outputs": [
    {
     "data": {
      "text/plain": [
       "(2, 1)"
      ]
     },
     "execution_count": 22,
     "metadata": {},
     "output_type": "execute_result"
    }
   ],
   "source": [
    "a,b #변수를 ,로 구분해 한 줄에 출력 => 바뀐 값 출력"
   ]
  },
  {
   "cell_type": "code",
   "execution_count": 23,
   "id": "beb4415c",
   "metadata": {},
   "outputs": [],
   "source": [
    "#복합형태 대입연산자2\n",
    "#여러변수 값을 한번에 대입\n",
    "a,b,c,d,e,f=1,2,\"안녕\",\"하세요\",3,4     #변수 a에 1, b에 2, c에 안녕, d에 하세요 e에 3 f에 4 대입"
   ]
  },
  {
   "cell_type": "code",
   "execution_count": 24,
   "id": "ab633376",
   "metadata": {},
   "outputs": [
    {
     "data": {
      "text/plain": [
       "(1, 2, '안녕', '하세요', 3, 4)"
      ]
     },
     "execution_count": 24,
     "metadata": {},
     "output_type": "execute_result"
    }
   ],
   "source": [
    "a,b,c,d,e,f #변수를 ,로 구분해 한 줄에 출력"
   ]
  },
  {
   "cell_type": "code",
   "execution_count": 25,
   "id": "2581ddbd",
   "metadata": {},
   "outputs": [],
   "source": [
    "#복합형태 대입연산자3\n",
    "#컬렉션은 같은 변수를 공유하는 것\n",
    "a=b=1 #변수a,b에 값 1 대입"
   ]
  },
  {
   "cell_type": "code",
   "execution_count": 26,
   "id": "17a87828",
   "metadata": {},
   "outputs": [
    {
     "data": {
      "text/plain": [
       "(1, 1)"
      ]
     },
     "execution_count": 26,
     "metadata": {},
     "output_type": "execute_result"
    }
   ],
   "source": [
    "a,b #변수를 ,로 구분해 한 줄에 출력"
   ]
  },
  {
   "cell_type": "code",
   "execution_count": 27,
   "id": "4ea92bd8",
   "metadata": {},
   "outputs": [],
   "source": [
    "b=2 #변수 b의 값을 2로 변경"
   ]
  },
  {
   "cell_type": "code",
   "execution_count": 28,
   "id": "249999b4",
   "metadata": {},
   "outputs": [
    {
     "data": {
      "text/plain": [
       "(1, 2)"
      ]
     },
     "execution_count": 28,
     "metadata": {},
     "output_type": "execute_result"
    }
   ],
   "source": [
    "a,b #변수를 ,로 구분해 한 줄에 출력 => 바뀐 값 출력"
   ]
  },
  {
   "cell_type": "code",
   "execution_count": 29,
   "id": "28a70b6b",
   "metadata": {},
   "outputs": [],
   "source": [
    "#복합형태 대입연산자3\n",
    "#컬렉션\n",
    "a=b=[1,2,3] #a b에 값으로 배열 입력"
   ]
  },
  {
   "cell_type": "code",
   "execution_count": 30,
   "id": "0873cfd2",
   "metadata": {},
   "outputs": [
    {
     "data": {
      "text/plain": [
       "([1, 2, 3], [1, 2, 3])"
      ]
     },
     "execution_count": 30,
     "metadata": {},
     "output_type": "execute_result"
    }
   ],
   "source": [
    "a,b #변수를 ,로 구분해 한 줄에 출력"
   ]
  },
  {
   "cell_type": "code",
   "execution_count": 31,
   "id": "06a28f26",
   "metadata": {},
   "outputs": [],
   "source": [
    "#변수 a의 인덱스 1번(=2번째 값)을 4로 변경\n",
    "#컬렉션은 같은 변수 공유! => 변수 b의 인덱스 1번도 변경된다.\n",
    "a[1] = 4      #변경은 변수 a만 하지만, 값 공유하는 변수b도 변경됨"
   ]
  },
  {
   "cell_type": "code",
   "execution_count": 32,
   "id": "16a1d6e1",
   "metadata": {
    "scrolled": false
   },
   "outputs": [
    {
     "data": {
      "text/plain": [
       "([1, 4, 3], [1, 4, 3])"
      ]
     },
     "execution_count": 32,
     "metadata": {},
     "output_type": "execute_result"
    }
   ],
   "source": [
    "a,b #변수를 ,로 구분해 한 줄에 출력 => 바뀐 값 출력"
   ]
  },
  {
   "cell_type": "code",
   "execution_count": 33,
   "id": "8b49e0bc",
   "metadata": {},
   "outputs": [],
   "source": [
    "#복합형태 대입연산자4\n",
    "#컬렉션 값 복사\n",
    "a=[1,2,3,4,5] # 변수 a에 값으로 배열 입력"
   ]
  },
  {
   "cell_type": "code",
   "execution_count": 34,
   "id": "c20e68fe",
   "metadata": {},
   "outputs": [],
   "source": [
    "#컬렉션 복사 [:]\n",
    "b=a[:] #변수 b에 변수 a 값을 복사해서 대입"
   ]
  },
  {
   "cell_type": "code",
   "execution_count": 35,
   "id": "feec85c6",
   "metadata": {},
   "outputs": [
    {
     "data": {
      "text/plain": [
       "([1, 2, 3, 4, 5], [1, 2, 3, 4, 5])"
      ]
     },
     "execution_count": 35,
     "metadata": {},
     "output_type": "execute_result"
    }
   ],
   "source": [
    "a,b #변수를 ,로 구분해 한 줄에 출력"
   ]
  },
  {
   "cell_type": "code",
   "execution_count": 36,
   "id": "17508d63",
   "metadata": {},
   "outputs": [],
   "source": [
    "a[2] = 5 #변수 a의 인덱스 2를(=3번째 값) 5로 변경 => 변수 b와는 별개!!!!!"
   ]
  },
  {
   "cell_type": "code",
   "execution_count": 37,
   "id": "03142159",
   "metadata": {},
   "outputs": [
    {
     "data": {
      "text/plain": [
       "([1, 2, 5, 4, 5], [1, 2, 3, 4, 5])"
      ]
     },
     "execution_count": 37,
     "metadata": {},
     "output_type": "execute_result"
    }
   ],
   "source": [
    "a,b #변수를 ,로 구분해 한 줄에 출력"
   ]
  },
  {
   "cell_type": "code",
   "execution_count": 38,
   "id": "b95aa0b2",
   "metadata": {},
   "outputs": [],
   "source": [
    "#복합형태 대입연산자5\n",
    "#값 오브젝트 정의해놓고 참고해서 사용\n",
    "import sys    #sys모듈 불러오기"
   ]
  },
  {
   "cell_type": "code",
   "execution_count": 39,
   "id": "8150a9fa",
   "metadata": {},
   "outputs": [],
   "source": [
    "a = 123 #변수 a에 값 123대입 "
   ]
  },
  {
   "cell_type": "code",
   "execution_count": 40,
   "id": "545a3da3",
   "metadata": {},
   "outputs": [
    {
     "data": {
      "text/plain": [
       "73"
      ]
     },
     "execution_count": 40,
     "metadata": {},
     "output_type": "execute_result"
    }
   ],
   "source": [
    "sys.getrefcount(123) # 123을 어느 공간에 만들어 참조"
   ]
  },
  {
   "cell_type": "code",
   "execution_count": 41,
   "id": "68c3b287",
   "metadata": {},
   "outputs": [
    {
     "data": {
      "text/plain": [
       "75"
      ]
     },
     "execution_count": 41,
     "metadata": {},
     "output_type": "execute_result"
    }
   ],
   "source": [
    "b=123; sys.getrefcount(123) #b=123을 만나면 참조횟수 증가"
   ]
  },
  {
   "cell_type": "code",
   "execution_count": 42,
   "id": "3ff59df1",
   "metadata": {},
   "outputs": [
    {
     "data": {
      "text/plain": [
       "76"
      ]
     },
     "execution_count": 42,
     "metadata": {},
     "output_type": "execute_result"
    }
   ],
   "source": [
    "c=123; sys.getrefcount(123) #c=123을 만나면 참조 횟수 증가"
   ]
  },
  {
   "cell_type": "code",
   "execution_count": 43,
   "id": "7b500012",
   "metadata": {},
   "outputs": [
    {
     "data": {
      "text/plain": [
       "2.5"
      ]
     },
     "execution_count": 43,
     "metadata": {},
     "output_type": "execute_result"
    }
   ],
   "source": [
    "#산술연산자 - 일반 산술연산자\n",
    "1+2*3/4  #1+(2*3)/4 => 1+6/4 => 1+1.5 = 2.5 출력"
   ]
  },
  {
   "cell_type": "code",
   "execution_count": 44,
   "id": "0cef6571",
   "metadata": {},
   "outputs": [
    {
     "data": {
      "text/plain": [
       "8"
      ]
     },
     "execution_count": 44,
     "metadata": {},
     "output_type": "execute_result"
    }
   ],
   "source": [
    "#세제곱표현\n",
    "2**3 #2^3 = 8 출력"
   ]
  },
  {
   "cell_type": "code",
   "execution_count": 45,
   "id": "76e9b78b",
   "metadata": {},
   "outputs": [
    {
     "data": {
      "text/plain": [
       "3.3333333333333335"
      ]
     },
     "execution_count": 45,
     "metadata": {},
     "output_type": "execute_result"
    }
   ],
   "source": [
    "10/3 #3.3333 출력"
   ]
  },
  {
   "cell_type": "code",
   "execution_count": 46,
   "id": "5776611d",
   "metadata": {},
   "outputs": [
    {
     "data": {
      "text/plain": [
       "1.23456789012e+23"
      ]
     },
     "execution_count": 46,
     "metadata": {},
     "output_type": "execute_result"
    }
   ],
   "source": [
    "1e12*123456789012 #e12 => 10^12 => 1*10^12  * 123456789012 실행"
   ]
  },
  {
   "cell_type": "code",
   "execution_count": 47,
   "id": "60d0e43d",
   "metadata": {},
   "outputs": [],
   "source": [
    "a = 1+2j #변수 a에 복소수값 대입 [변수 = 값]"
   ]
  },
  {
   "cell_type": "code",
   "execution_count": 48,
   "id": "6e719b8a",
   "metadata": {},
   "outputs": [
    {
     "data": {
      "text/plain": [
       "(124+14j)"
      ]
     },
     "execution_count": 48,
     "metadata": {},
     "output_type": "execute_result"
    }
   ],
   "source": [
    "a+(123+12j) #=> (1+2j) + (123 + 12j) => (1 + 123) + (2j + 12j) => 124 + 14j 출력"
   ]
  },
  {
   "cell_type": "code",
   "execution_count": 49,
   "id": "d30af1db",
   "metadata": {},
   "outputs": [
    {
     "data": {
      "text/plain": [
       "2.5"
      ]
     },
     "execution_count": 49,
     "metadata": {},
     "output_type": "execute_result"
    }
   ],
   "source": [
    "#일반 산술연산자 - 정수형 연산\n",
    "5/2 #나눗셈 연산"
   ]
  },
  {
   "cell_type": "code",
   "execution_count": 50,
   "id": "21368b60",
   "metadata": {},
   "outputs": [
    {
     "data": {
      "text/plain": [
       "2"
      ]
     },
     "execution_count": 50,
     "metadata": {},
     "output_type": "execute_result"
    }
   ],
   "source": [
    "5//2 #몫 계산"
   ]
  },
  {
   "cell_type": "code",
   "execution_count": 51,
   "id": "ef661d7a",
   "metadata": {},
   "outputs": [
    {
     "data": {
      "text/plain": [
       "1"
      ]
     },
     "execution_count": 51,
     "metadata": {},
     "output_type": "execute_result"
    }
   ],
   "source": [
    "5%2 #나머지계산"
   ]
  },
  {
   "cell_type": "code",
   "execution_count": 52,
   "id": "acb52d55",
   "metadata": {},
   "outputs": [
    {
     "name": "stdout",
     "output_type": "stream",
     "text": [
      "2\n"
     ]
    }
   ],
   "source": [
    "#산술 연산자 - 복합 연산\n",
    "a=1;a=a+1;print(a) #변수 a에 값 1대입, 변수 a에 값 1증가한 것 대입 => 출력 결과 2"
   ]
  },
  {
   "cell_type": "code",
   "execution_count": 53,
   "id": "6d0ac03b",
   "metadata": {},
   "outputs": [
    {
     "name": "stdout",
     "output_type": "stream",
     "text": [
      "2\n"
     ]
    }
   ],
   "source": [
    "a=1;a+=1;print(a) # 위 연산식 중 [a=a+1] 을 [a+=1]로 표시 가능"
   ]
  },
  {
   "cell_type": "code",
   "execution_count": 54,
   "id": "8cb6acf9",
   "metadata": {},
   "outputs": [
    {
     "data": {
      "text/plain": [
       "4"
      ]
     },
     "execution_count": 54,
     "metadata": {},
     "output_type": "execute_result"
    }
   ],
   "source": [
    "#위 연산으로 a=2\n",
    "a*=2;a #a*=2 는 a=a*2와 같은 의미, a 출력하면 2*2 = 4"
   ]
  },
  {
   "cell_type": "code",
   "execution_count": 55,
   "id": "65867347",
   "metadata": {},
   "outputs": [
    {
     "data": {
      "text/plain": [
       "8"
      ]
     },
     "execution_count": 55,
     "metadata": {},
     "output_type": "execute_result"
    }
   ],
   "source": [
    "#위 연산으로 a =4\n",
    "a*=2;a #a*=2 는 a=a*2와 같은 의미, a 출력하면 4*2 = 8"
   ]
  },
  {
   "cell_type": "code",
   "execution_count": 56,
   "id": "5d168fec",
   "metadata": {},
   "outputs": [
    {
     "data": {
      "text/plain": [
       "0"
      ]
     },
     "execution_count": 56,
     "metadata": {},
     "output_type": "execute_result"
    }
   ],
   "source": [
    "#변수 a값 새로 지정\n",
    "a=1;a-=1;a  #변수 a에 값 1 대입, 변수 a의 값 1뺌(-=) => 출력결과 0"
   ]
  },
  {
   "cell_type": "code",
   "execution_count": 57,
   "id": "e265f3ed",
   "metadata": {},
   "outputs": [
    {
     "data": {
      "text/plain": [
       "-1"
      ]
     },
     "execution_count": 57,
     "metadata": {},
     "output_type": "execute_result"
    }
   ],
   "source": [
    "#위 연산으로 a=0\n",
    "a-=1;a #변수 a의 값 1뺌(-=) => 출력결과 -1"
   ]
  },
  {
   "cell_type": "code",
   "execution_count": 59,
   "id": "3dadaf22",
   "metadata": {},
   "outputs": [],
   "source": [
    "#파이썬에서만 사용하는 =+, =-\n",
    "a=1  #변수 a에 값 1 대입"
   ]
  },
  {
   "cell_type": "code",
   "execution_count": 60,
   "id": "584cbc3d",
   "metadata": {},
   "outputs": [
    {
     "ename": "SyntaxError",
     "evalue": "invalid syntax (87063450.py, line 2)",
     "output_type": "error",
     "traceback": [
      "\u001b[1;36m  Input \u001b[1;32mIn [60]\u001b[1;36m\u001b[0m\n\u001b[1;33m    a++   #오류\u001b[0m\n\u001b[1;37m          ^\u001b[0m\n\u001b[1;31mSyntaxError\u001b[0m\u001b[1;31m:\u001b[0m invalid syntax\n"
     ]
    }
   ],
   "source": [
    "#자바, C에서 사용하는 ++,--연산 불가\n",
    "a++   #오류"
   ]
  },
  {
   "cell_type": "code",
   "execution_count": 61,
   "id": "45742480",
   "metadata": {
    "scrolled": true
   },
   "outputs": [
    {
     "ename": "SyntaxError",
     "evalue": "invalid syntax (3429559100.py, line 1)",
     "output_type": "error",
     "traceback": [
      "\u001b[1;36m  Input \u001b[1;32mIn [61]\u001b[1;36m\u001b[0m\n\u001b[1;33m    a--  #오류\u001b[0m\n\u001b[1;37m         ^\u001b[0m\n\u001b[1;31mSyntaxError\u001b[0m\u001b[1;31m:\u001b[0m invalid syntax\n"
     ]
    }
   ],
   "source": [
    "a--  #오류"
   ]
  },
  {
   "cell_type": "code",
   "execution_count": 62,
   "id": "963046e5",
   "metadata": {},
   "outputs": [
    {
     "name": "stdout",
     "output_type": "stream",
     "text": [
      "1\n"
     ]
    },
    {
     "data": {
      "text/plain": [
       "-1"
      ]
     },
     "execution_count": 62,
     "metadata": {},
     "output_type": "execute_result"
    }
   ],
   "source": [
    "#위 연산에서 a = 1인 상태\n",
    "# [=+]연산자는 해당 변수에 +값 대입한다는 의미\n",
    "#[=-]연산자는 해당 변수에 -값 대입한다는 의미\n",
    "a=+ 1; print(a); a=- 1; a # 변수 a에 +1 대입 후 출력, 변수 a에 -1대입 후 출력"
   ]
  },
  {
   "cell_type": "code",
   "execution_count": 63,
   "id": "030fd608",
   "metadata": {},
   "outputs": [],
   "source": [
    "#타입캐스팅 - 문자형 변환\n",
    "a=\"멍멍이\" #변수 a에 값으로 문자 할당"
   ]
  },
  {
   "cell_type": "code",
   "execution_count": 64,
   "id": "109f8fe3",
   "metadata": {},
   "outputs": [],
   "source": [
    "b=\"고양이\" #변수 b에 값으로 문자 할당"
   ]
  },
  {
   "cell_type": "code",
   "execution_count": 65,
   "id": "fa26eeb9",
   "metadata": {},
   "outputs": [
    {
     "data": {
      "text/plain": [
       "'멍멍이고양이'"
      ]
     },
     "execution_count": 65,
     "metadata": {},
     "output_type": "execute_result"
    }
   ],
   "source": [
    "a+b #문자형에서 +는 문자형들을 한 문장으로 출력 => 멍멍이고양이"
   ]
  },
  {
   "cell_type": "code",
   "execution_count": 66,
   "id": "b0535190",
   "metadata": {},
   "outputs": [
    {
     "data": {
      "text/plain": [
       "'멍멍이멍멍이멍멍이고양이고양이'"
      ]
     },
     "execution_count": 66,
     "metadata": {},
     "output_type": "execute_result"
    }
   ],
   "source": [
    "a*3 + b*2 #문자형에서 *는 해당 문자형을 반복 풀력 => 멍멍이 3회, 고양이 2회 출력"
   ]
  },
  {
   "cell_type": "code",
   "execution_count": 67,
   "id": "b996baed",
   "metadata": {},
   "outputs": [
    {
     "data": {
      "text/plain": [
       "'--------------------'"
      ]
     },
     "execution_count": 67,
     "metadata": {},
     "output_type": "execute_result"
    }
   ],
   "source": [
    "\"-\"*20 #\"-\"는 문자형 => -를 20번 출력"
   ]
  },
  {
   "cell_type": "code",
   "execution_count": 68,
   "id": "1685b6ec",
   "metadata": {},
   "outputs": [],
   "source": [
    "#타입캐스팅 - 문자형을 숫자형으로 형변환\n",
    "a=1 #변수 a에 값 1 대입 => 정수형"
   ]
  },
  {
   "cell_type": "code",
   "execution_count": 69,
   "id": "5d9103ff",
   "metadata": {
    "scrolled": true
   },
   "outputs": [
    {
     "ename": "TypeError",
     "evalue": "can only concatenate str (not \"int\") to str",
     "output_type": "error",
     "traceback": [
      "\u001b[1;31m---------------------------------------------------------------------------\u001b[0m",
      "\u001b[1;31mTypeError\u001b[0m                                 Traceback (most recent call last)",
      "Input \u001b[1;32mIn [69]\u001b[0m, in \u001b[0;36m<cell line: 2>\u001b[1;34m()\u001b[0m\n\u001b[0;32m      1\u001b[0m \u001b[38;5;66;03m#문자형과 숫자형은 연산 불가 => 오류 출력\u001b[39;00m\n\u001b[1;32m----> 2\u001b[0m b\u001b[38;5;241m=\u001b[39m\u001b[38;5;124;43m\"\u001b[39;49m\u001b[38;5;124;43m강아지\u001b[39;49m\u001b[38;5;124;43m\"\u001b[39;49m\u001b[43m \u001b[49m\u001b[38;5;241;43m+\u001b[39;49m\u001b[43m \u001b[49m\u001b[43ma\u001b[49m \u001b[38;5;241m+\u001b[39m \u001b[38;5;124m\"\u001b[39m\u001b[38;5;124m마리\u001b[39m\u001b[38;5;124m\"\u001b[39m\n",
      "\u001b[1;31mTypeError\u001b[0m: can only concatenate str (not \"int\") to str"
     ]
    }
   ],
   "source": [
    "#문자형과 숫자형은 연산 불가 => 오류 출력\n",
    "b=\"강아지\" + a + \"마리\" #변수 b에 문자형과 숫자형을 연산한 값을 대입하려 해서 오류발생"
   ]
  },
  {
   "cell_type": "code",
   "execution_count": 70,
   "id": "b8c69423",
   "metadata": {},
   "outputs": [],
   "source": [
    "#숫자형 변수 a를 문자형으로 형변환해 문자형끼리 연산가능\n",
    "b=\"강아지\" + str(a) + \"마리\" #문자 \"강아지\" + 문자 1 + 문자\"마리\""
   ]
  },
  {
   "cell_type": "code",
   "execution_count": 71,
   "id": "89cf3852",
   "metadata": {},
   "outputs": [
    {
     "data": {
      "text/plain": [
       "'강아지1마리'"
      ]
     },
     "execution_count": 71,
     "metadata": {},
     "output_type": "execute_result"
    }
   ],
   "source": [
    "b #문자형 변수 b 출력"
   ]
  },
  {
   "cell_type": "code",
   "execution_count": 72,
   "id": "5372e4c9",
   "metadata": {},
   "outputs": [
    {
     "data": {
      "text/plain": [
       "44032"
      ]
     },
     "execution_count": 72,
     "metadata": {},
     "output_type": "execute_result"
    }
   ],
   "source": [
    "#문자형 변환 응용 - chr, ord함수\n",
    "#chr는 유니코드 값 입력받아 그 코드에 해당하는 문자 출력\n",
    "#ord는 문자의 유니코드 값 반환\n",
    "ord(\"가\") #문자 \"가\"의 유니코드 값 출력"
   ]
  },
  {
   "cell_type": "code",
   "execution_count": 73,
   "id": "d104fd8f",
   "metadata": {},
   "outputs": [
    {
     "data": {
      "text/plain": [
       "'0x61'"
      ]
     },
     "execution_count": 73,
     "metadata": {},
     "output_type": "execute_result"
    }
   ],
   "source": [
    "hex(ord(\"a\")) #문자 \"a\"의 유니코드 값을 반환하고 그 값을 8진법으로 반환"
   ]
  },
  {
   "cell_type": "code",
   "execution_count": 74,
   "id": "930b4cba",
   "metadata": {},
   "outputs": [
    {
     "name": "stdout",
     "output_type": "stream",
     "text": [
      "0x61 = a , 0x62 = b , 0x63 = c , 0x64 = d , 0x65 = e , 0x66 = f , 0x67 = g , 0x68 = h , 0x69 = i , 0x6a = j , 0x6b = k , 0x6c = l , 0x6d = m , 0x6e = n , 0x6f = o , 0x70 = p , 0x71 = q , 0x72 = r , 0x73 = s , 0x74 = t , 0x75 = u , 0x76 = v , 0x77 = w , 0x78 = x , 0x79 = y , 0x7a = z , "
     ]
    }
   ],
   "source": [
    "#for 반복문\n",
    "#end= 는 마지막 문자지정\n",
    "#range(시작, 끝) => 시작~끝-1 범위 반환\n",
    "for c in range (ord('a'), ord('z')+1): #문자\"a\"유니코드값부터 \"z\"유니코드값 까지의 범위값을 변수 c에 대입.\n",
    "    print(hex(c),\"=\",chr(c),\", \",end=\"\") #출력형태 : [변수 c의 8진수 값 = c 값을 문자로 반환한 결과,]를 한 줄로 이어서 출력."
   ]
  },
  {
   "cell_type": "code",
   "execution_count": 75,
   "id": "b3e79624",
   "metadata": {},
   "outputs": [
    {
     "ename": "TypeError",
     "evalue": "can only concatenate str (not \"int\") to str",
     "output_type": "error",
     "traceback": [
      "\u001b[1;31m---------------------------------------------------------------------------\u001b[0m",
      "\u001b[1;31mTypeError\u001b[0m                                 Traceback (most recent call last)",
      "Input \u001b[1;32mIn [75]\u001b[0m, in \u001b[0;36m<cell line: 2>\u001b[1;34m()\u001b[0m\n\u001b[0;32m      1\u001b[0m \u001b[38;5;66;03m#타입 캐스팅 - 숫자형 변환\u001b[39;00m\n\u001b[1;32m----> 2\u001b[0m a\u001b[38;5;241m=\u001b[39m\u001b[38;5;124m\"\u001b[39m\u001b[38;5;124m123\u001b[39m\u001b[38;5;124m\"\u001b[39m; \u001b[43ma\u001b[49m\u001b[38;5;241;43m+\u001b[39;49m\u001b[38;5;241;43m1\u001b[39;49m\n",
      "\u001b[1;31mTypeError\u001b[0m: can only concatenate str (not \"int\") to str"
     ]
    }
   ],
   "source": [
    "#타입 캐스팅 - 숫자형 변환\n",
    "a=\"123\"; a+1 #변수 a는 문자형(\"\")=> 문자형 변수a 에 숫자형연산해서 오류 발생"
   ]
  },
  {
   "cell_type": "code",
   "execution_count": 76,
   "id": "45357733",
   "metadata": {},
   "outputs": [
    {
     "data": {
      "text/plain": [
       "124"
      ]
     },
     "execution_count": 76,
     "metadata": {},
     "output_type": "execute_result"
    }
   ],
   "source": [
    "a=\"123\"; int(a)+1 #문자형 변수a를 숫자형으로 타입캐스팅 후 숫자 1 더하기 연산"
   ]
  },
  {
   "cell_type": "code",
   "execution_count": 77,
   "id": "aa7a3506",
   "metadata": {},
   "outputs": [
    {
     "data": {
      "text/plain": [
       "12"
      ]
     },
     "execution_count": 77,
     "metadata": {},
     "output_type": "execute_result"
    }
   ],
   "source": [
    "a=12.3; int(a) #실수형 변수 a를 정수형으로 변환 => 소수점 이하 버림"
   ]
  },
  {
   "cell_type": "code",
   "execution_count": 78,
   "id": "197aed91",
   "metadata": {},
   "outputs": [
    {
     "ename": "ValueError",
     "evalue": "invalid literal for int() with base 10: '12.3'",
     "output_type": "error",
     "traceback": [
      "\u001b[1;31m---------------------------------------------------------------------------\u001b[0m",
      "\u001b[1;31mValueError\u001b[0m                                Traceback (most recent call last)",
      "Input \u001b[1;32mIn [78]\u001b[0m, in \u001b[0;36m<cell line: 3>\u001b[1;34m()\u001b[0m\n\u001b[0;32m      1\u001b[0m \u001b[38;5;66;03m#타입 캐스팅 - 숫자형 변환 - float()\u001b[39;00m\n\u001b[0;32m      2\u001b[0m \u001b[38;5;66;03m#형변환 오류!\u001b[39;00m\n\u001b[1;32m----> 3\u001b[0m a\u001b[38;5;241m=\u001b[39m\u001b[38;5;124m\"\u001b[39m\u001b[38;5;124m12.3\u001b[39m\u001b[38;5;124m\"\u001b[39m;\u001b[38;5;28;43mint\u001b[39;49m\u001b[43m(\u001b[49m\u001b[43ma\u001b[49m\u001b[43m)\u001b[49m\n",
      "\u001b[1;31mValueError\u001b[0m: invalid literal for int() with base 10: '12.3'"
     ]
    }
   ],
   "source": [
    "#타입 캐스팅 - 숫자형 변환 - float()\n",
    "#형변환 오류!\n",
    "a=\"12.3\";int(a) # 문자형 변수 a는 문자가  실수형인데, 이를 정수형으로 형변환 => 오류발생"
   ]
  },
  {
   "cell_type": "code",
   "execution_count": 79,
   "id": "182f49b1",
   "metadata": {},
   "outputs": [
    {
     "data": {
      "text/plain": [
       "12.3"
      ]
     },
     "execution_count": 79,
     "metadata": {},
     "output_type": "execute_result"
    }
   ],
   "source": [
    "float(a) #실수형 문자를 가진 변수 a를 실수형으로 형변환"
   ]
  },
  {
   "cell_type": "code",
   "execution_count": 80,
   "id": "f6974fe1",
   "metadata": {},
   "outputs": [
    {
     "data": {
      "text/plain": [
       "14.1"
      ]
     },
     "execution_count": 80,
     "metadata": {},
     "output_type": "execute_result"
    }
   ],
   "source": [
    "#연산시 실수형이 하나라도 있으면 실수형으로 연산\n",
    "a=1.1; 1+a+12 #변수 a에 값 1.1 대입, 정수1과 12에 실수형 변수 a 더하기연산 => 실수형 결과 출력"
   ]
  },
  {
   "cell_type": "code",
   "execution_count": 81,
   "id": "230e8d2c",
   "metadata": {},
   "outputs": [
    {
     "data": {
      "text/plain": [
       "14"
      ]
     },
     "execution_count": 81,
     "metadata": {},
     "output_type": "execute_result"
    }
   ],
   "source": [
    "#실수형 변수 a 값은 1.1\n",
    "1+int(a)+12 #실수형 변수 a를 정수형으로 변환해 소수점이하 버린 후 연산"
   ]
  },
  {
   "cell_type": "code",
   "execution_count": 82,
   "id": "1bbd7930",
   "metadata": {},
   "outputs": [
    {
     "data": {
      "text/plain": [
       "3"
      ]
     },
     "execution_count": 82,
     "metadata": {},
     "output_type": "execute_result"
    }
   ],
   "source": [
    "#타입 캐스팅 - 숫자형 변환 - float() - 올림, 버림, 반올림\n",
    "#버림 예시\n",
    "int(3.14) #실수형 값 3.14를 정수형int로 형변환 => 소수점 이하 버림"
   ]
  },
  {
   "cell_type": "code",
   "execution_count": 83,
   "id": "2429b27c",
   "metadata": {},
   "outputs": [
    {
     "name": "stdout",
     "output_type": "stream",
     "text": [
      "3\n",
      "3.1\n"
     ]
    },
    {
     "data": {
      "text/plain": [
       "120000"
      ]
     },
     "execution_count": 83,
     "metadata": {},
     "output_type": "execute_result"
    }
   ],
   "source": [
    "#반올림 : 지정한 자리까지만 표시\n",
    "#round(number[, ndigits])\n",
    "#3.14 반올림, 3.14를 반올림해서 1의 자리까지만 표시, 123456을 뒤에서 4번째자리에서 반올림\n",
    "print(round(3.14)); print(round(3.14,1)); round(123456,-4)"
   ]
  },
  {
   "cell_type": "code",
   "execution_count": 84,
   "id": "271b2333",
   "metadata": {},
   "outputs": [],
   "source": [
    "#올림 예시\n",
    "a=1234567 #1234567 할당"
   ]
  },
  {
   "cell_type": "code",
   "execution_count": 85,
   "id": "7b8ef7a5",
   "metadata": {},
   "outputs": [],
   "source": [
    "#a = 1234567\n",
    "#a를 백의자리에서 올림 하기 위해 1000을 사용\n",
    "if(a%1000 != 0 ) : #1000으로 나눠 떨어지지 않으면\n",
    "    a=int(a/1000)*1000+1000  \n",
    "    #1) 소수점버림 : a를 1000으로 나누고 정수로 변환  => a=1234.567 이 a=1234가 됨\n",
    "    #2) 원래 자릿수 맞추기 : a에 다시 1000을 곱함 => a = 1234000\n",
    "    #3) 버린 값에 한 자리 올림 : 다음 1000을 더함. => a = 1235000\n",
    "else: #1000으로 나눠 떨어진다면\n",
    "    a=int(a/1000)*1000 #천의 자리 이하는 0으로 변환\n",
    "    #예) a = 1234000 => a/1000 = 1234 => int(1234)*1000 = 1234*1000 = 1234000 "
   ]
  },
  {
   "cell_type": "code",
   "execution_count": 86,
   "id": "d39002a1",
   "metadata": {
    "scrolled": true
   },
   "outputs": [
    {
     "data": {
      "text/plain": [
       "1235000"
      ]
     },
     "execution_count": 86,
     "metadata": {},
     "output_type": "execute_result"
    }
   ],
   "source": [
    "a #a 출력"
   ]
  }
 ],
 "metadata": {
  "kernelspec": {
   "display_name": "Python 3 (ipykernel)",
   "language": "python",
   "name": "python3"
  },
  "language_info": {
   "codemirror_mode": {
    "name": "ipython",
    "version": 3
   },
   "file_extension": ".py",
   "mimetype": "text/x-python",
   "name": "python",
   "nbconvert_exporter": "python",
   "pygments_lexer": "ipython3",
   "version": "3.8.8rc1"
  }
 },
 "nbformat": 4,
 "nbformat_minor": 5
}
