{
 "cells": [
  {
   "cell_type": "code",
   "execution_count": 1,
   "id": "41f3fa3a",
   "metadata": {},
   "outputs": [
    {
     "data": {
      "text/plain": [
       "(1, 2, 3, 4, 5)"
      ]
     },
     "execution_count": 1,
     "metadata": {},
     "output_type": "execute_result"
    }
   ],
   "source": [
    "#파이썬08강 - 리스트와 튜플\n",
    "#리스트1\n",
    "a = [1, 2, 3, 4, 5] #변수 a는 리스트 자료형 \n",
    "a[0], a[1], a[2], a[3], a[4] #리스트 인덱스로 각 값 호출"
   ]
  },
  {
   "cell_type": "code",
   "execution_count": 2,
   "id": "aeab5ca4",
   "metadata": {},
   "outputs": [
    {
     "data": {
      "text/plain": [
       "(11, 9999, '정혜임', '굿', (2+3j))"
      ]
     },
     "execution_count": 2,
     "metadata": {},
     "output_type": "execute_result"
    }
   ],
   "source": [
    "#리스트2\n",
    "#하나의 리스트에 여러 자료형 입력가능\n",
    "a = [11, \"abc\", 12.3333, \"굿\", 2+3j] #하나의 리스트에 정수형, 문자형, 실수형 등\n",
    "a[1] = 9999; a[2] = \"정혜임\" #리스트 해당 인덱스 값 변경\n",
    "a[0], a[1], a[2], a[3], a[4] #리스트 인덱스로 각 값 호출"
   ]
  },
  {
   "cell_type": "code",
   "execution_count": 3,
   "id": "6d6d5487",
   "metadata": {},
   "outputs": [
    {
     "name": "stdout",
     "output_type": "stream",
     "text": [
      "점수( 90 )\n",
      "점수( 80 )\n",
      "점수( 70 )\n",
      "점수( 60 )\n",
      "점수( 30 )\n",
      "총점: 330\n"
     ]
    }
   ],
   "source": [
    "#리스트3\n",
    "#for반복문과 리스트\n",
    "score = [90, 80, 70, 60, 30] #변수 score에 리스트 대입\n",
    "sum = 0 #변수 sum 선언, 값 0 초기화\n",
    "for s in score: #반복문으로 변수 s에 score 리스트 값을 순서대로 대입\n",
    "    print(\"점수(\",s,\")\") # \"점수(\" 문자와 s 값 \")\"문자 출력\n",
    "    sum+=s #sum은 s값을 누적\n",
    "print(\"총점:\",sum); #총점 출력."
   ]
  },
  {
   "cell_type": "code",
   "execution_count": 4,
   "id": "a272983a",
   "metadata": {},
   "outputs": [
    {
     "data": {
      "text/plain": [
       "(1, 1)"
      ]
     },
     "execution_count": 4,
     "metadata": {},
     "output_type": "execute_result"
    }
   ],
   "source": [
    "#리스트 표현방식1\n",
    "#역방향 인덱스 마지막은 -1\n",
    "#다음 예제는 정방향인덱스와 역방향인덱스가 동일 값을 가리킴\n",
    "\n",
    "a=[1,2,3,4,5] #리스트 선언\n",
    "a[0], a[-5] #0번째 값과 -5번째값 출력"
   ]
  },
  {
   "cell_type": "code",
   "execution_count": 5,
   "id": "1f778d9d",
   "metadata": {},
   "outputs": [
    {
     "data": {
      "text/plain": [
       "(2, 2)"
      ]
     },
     "execution_count": 5,
     "metadata": {},
     "output_type": "execute_result"
    }
   ],
   "source": [
    "a[1],a[-4] #1번째 값과 -4번째값 출력"
   ]
  },
  {
   "cell_type": "code",
   "execution_count": 6,
   "id": "66fba1fd",
   "metadata": {},
   "outputs": [
    {
     "data": {
      "text/plain": [
       "(3, 3)"
      ]
     },
     "execution_count": 6,
     "metadata": {},
     "output_type": "execute_result"
    }
   ],
   "source": [
    "a[2],a[-3] #2번째 값과 -3번째값 출력"
   ]
  },
  {
   "cell_type": "code",
   "execution_count": 7,
   "id": "ba55cc01",
   "metadata": {},
   "outputs": [
    {
     "data": {
      "text/plain": [
       "(4, 4)"
      ]
     },
     "execution_count": 7,
     "metadata": {},
     "output_type": "execute_result"
    }
   ],
   "source": [
    "a[3],a[-2] #3번째 값과 -2번째값 출력"
   ]
  },
  {
   "cell_type": "code",
   "execution_count": 8,
   "id": "3cf6b225",
   "metadata": {},
   "outputs": [
    {
     "data": {
      "text/plain": [
       "(5, 5)"
      ]
     },
     "execution_count": 8,
     "metadata": {},
     "output_type": "execute_result"
    }
   ],
   "source": [
    "a[4],a[-1] #4번째 값과 -1번째값 출력"
   ]
  },
  {
   "cell_type": "code",
   "execution_count": 9,
   "id": "28ae7379",
   "metadata": {},
   "outputs": [
    {
     "data": {
      "text/plain": [
       "[3, 4, 5, 6, 7, 8]"
      ]
     },
     "execution_count": 9,
     "metadata": {},
     "output_type": "execute_result"
    }
   ],
   "source": [
    "# 리스트 표현방식2\n",
    "#리스트 인덱스 [begin:end:step]으로 표현가능\n",
    "#begin이상 end미만 이다. \t=> range와 같음\n",
    "\n",
    "a=[1,2,3,4,5,6,7,8,9,10] #리스트 선언\n",
    "a[2:8] # 2번째부터 7번째 인덱스값 출력"
   ]
  },
  {
   "cell_type": "code",
   "execution_count": 10,
   "id": "22ea5cb8",
   "metadata": {},
   "outputs": [
    {
     "data": {
      "text/plain": [
       "[1, 2, 3, 4]"
      ]
     },
     "execution_count": 10,
     "metadata": {},
     "output_type": "execute_result"
    }
   ],
   "source": [
    "a[:4] #0번째부터 3번째 인덱스값 출력"
   ]
  },
  {
   "cell_type": "code",
   "execution_count": 11,
   "id": "99d46a10",
   "metadata": {},
   "outputs": [
    {
     "data": {
      "text/plain": [
       "[6, 7, 8, 9, 10]"
      ]
     },
     "execution_count": 11,
     "metadata": {},
     "output_type": "execute_result"
    }
   ],
   "source": [
    "a[5:] #5번째부터 마지막 인덱스까지 출력"
   ]
  },
  {
   "cell_type": "code",
   "execution_count": 12,
   "id": "e56b5601",
   "metadata": {},
   "outputs": [
    {
     "data": {
      "text/plain": [
       "[1, 4]"
      ]
     },
     "execution_count": 12,
     "metadata": {},
     "output_type": "execute_result"
    }
   ],
   "source": [
    "a[0:6:3] #0번째부터 5번째까지 인덱스 3씩 증가하며 출력=> 인덱스 0, 3번값 출력"
   ]
  },
  {
   "cell_type": "code",
   "execution_count": 14,
   "id": "c4a96d9e",
   "metadata": {},
   "outputs": [
    {
     "data": {
      "text/plain": [
       "[7, 8, 9]"
      ]
     },
     "execution_count": 14,
     "metadata": {},
     "output_type": "execute_result"
    }
   ],
   "source": [
    "#다중리스트1\n",
    "#리스트 안에 리스트\n",
    "\n",
    "a=[[1,2,3],[4,5,6],[7,8,9]] #리스트 안에 리스트 선언 => 자바 배열과 유사\n",
    "a[2] #인덱스 2번째 리스트 출력 => [7,8,9]"
   ]
  },
  {
   "cell_type": "code",
   "execution_count": 15,
   "id": "7ef07e0d",
   "metadata": {},
   "outputs": [
    {
     "data": {
      "text/plain": [
       "9"
      ]
     },
     "execution_count": 15,
     "metadata": {},
     "output_type": "execute_result"
    }
   ],
   "source": [
    "a[2][2] #인덱스 2번 리스트의 인덱스 2번째 값 출력 => 9"
   ]
  },
  {
   "cell_type": "code",
   "execution_count": 16,
   "id": "88bb6f1c",
   "metadata": {},
   "outputs": [
    {
     "ename": "IndexError",
     "evalue": "list index out of range",
     "output_type": "error",
     "traceback": [
      "\u001b[1;31m---------------------------------------------------------------------------\u001b[0m",
      "\u001b[1;31mIndexError\u001b[0m                                Traceback (most recent call last)",
      "Input \u001b[1;32mIn [16]\u001b[0m, in \u001b[0;36m<cell line: 1>\u001b[1;34m()\u001b[0m\n\u001b[1;32m----> 1\u001b[0m \u001b[43ma\u001b[49m\u001b[43m[\u001b[49m\u001b[38;5;241;43m1\u001b[39;49m\u001b[43m]\u001b[49m\u001b[43m[\u001b[49m\u001b[38;5;241;43m3\u001b[39;49m\u001b[43m]\u001b[49m\n",
      "\u001b[1;31mIndexError\u001b[0m: list index out of range"
     ]
    }
   ],
   "source": [
    "a[1][3] #인덱스 1번 리스트의 인덱스 3번째 값 출력 => 인덱스 3번 없어 오류"
   ]
  },
  {
   "cell_type": "code",
   "execution_count": 17,
   "id": "0ee2a88f",
   "metadata": {},
   "outputs": [
    {
     "data": {
      "text/plain": [
       "6"
      ]
     },
     "execution_count": 17,
     "metadata": {},
     "output_type": "execute_result"
    }
   ],
   "source": [
    "a[1][2]  #인덱스 1번 리스트의 인덱스 2번째 값 출력 => 6"
   ]
  },
  {
   "cell_type": "code",
   "execution_count": 18,
   "id": "be1ab15b",
   "metadata": {},
   "outputs": [],
   "source": [
    "a=[[1,2],[3,4,5],6] # 가변 형태의 리스트"
   ]
  },
  {
   "cell_type": "code",
   "execution_count": 19,
   "id": "7a5110e4",
   "metadata": {},
   "outputs": [
    {
     "data": {
      "text/plain": [
       "[[1, 2], [3, 4, 5], 6]"
      ]
     },
     "execution_count": 19,
     "metadata": {},
     "output_type": "execute_result"
    }
   ],
   "source": [
    "a     #a 출력"
   ]
  },
  {
   "cell_type": "code",
   "execution_count": 20,
   "id": "3988b15d",
   "metadata": {},
   "outputs": [
    {
     "data": {
      "text/plain": [
       "6"
      ]
     },
     "execution_count": 20,
     "metadata": {},
     "output_type": "execute_result"
    }
   ],
   "source": [
    "a[2] #인덱스 3번째 값 출력 => 6"
   ]
  },
  {
   "cell_type": "code",
   "execution_count": 21,
   "id": "0f154c80",
   "metadata": {},
   "outputs": [
    {
     "data": {
      "text/plain": [
       "[3, 4, 5]"
      ]
     },
     "execution_count": 21,
     "metadata": {},
     "output_type": "execute_result"
    }
   ],
   "source": [
    "a[1] #인덱스 1번째 값 출력 => [3,4,5]"
   ]
  },
  {
   "cell_type": "code",
   "execution_count": 22,
   "id": "21dd8053",
   "metadata": {},
   "outputs": [
    {
     "data": {
      "text/plain": [
       "[3, 6, 9, 12, 15, 18, 21, 24, 27]"
      ]
     },
     "execution_count": 22,
     "metadata": {},
     "output_type": "execute_result"
    }
   ],
   "source": [
    "#리스트 컴프리헨션(List Comprehension) - 예제1\n",
    "#<형식>[요소 for 변수 in (리스트)(range) {if 조건}]\n",
    "\n",
    "#리스트범위 1~9 => 변수 n에 한 개씩 값 대입 => 각 값에 3 곱한 값을 변수 a에 대입\n",
    "a=[ n * 3 for n in range (1,10)]\n",
    "a   #a 출력"
   ]
  },
  {
   "cell_type": "code",
   "execution_count": 24,
   "id": "aa0ef8ef",
   "metadata": {},
   "outputs": [
    {
     "data": {
      "text/plain": [
       "[6, 12, 18, 24]"
      ]
     },
     "execution_count": 24,
     "metadata": {},
     "output_type": "execute_result"
    }
   ],
   "source": [
    "#리스트 컴프리헨션(List Comprehension) - 예제2\n",
    "#<형식>[요소 for 변수 in (리스트)(range) {if 조건}]\n",
    "\n",
    "#시행순서 : 리스트 생성 for n in range (1,10) => if n % 2 == 0 => n * 3\n",
    "#리스트범위 1~9 => 변수 n에 한 개씩 값 대입 => 만약, n이 2의 배수면, 그 n 값에 3 곱한 값을 변수 a에 대입\n",
    "a = [ n * 3 for n in range (1,10) if n % 2 == 0 ] \n",
    "a   #a 출력"
   ]
  },
  {
   "cell_type": "code",
   "execution_count": 25,
   "id": "fb295101",
   "metadata": {},
   "outputs": [],
   "source": [
    "#리스트 연습1 - 성적표 출력\n",
    "#함수 선언 후 pass로 함수 비워두고 하나씩 채워감\n",
    "\n",
    "def titleprint(): # titleprint 함수 생성\n",
    "    pass # 내용은 비워둠\n",
    "def itemprint(name, kortotal, engtotal, mathtotal): # itemprint 함수 생성\n",
    "    pass # 내용은 비워둠\n",
    "def tailprint(): # tailprint 함수 생성\n",
    "    pass # 내용은 비워둠\n",
    "\n",
    "#데이터 2차원 리스트\n",
    "score = [[\"나연\", 100, 90, 100],\n",
    "        [\"정연\", 90, 90, 100],\n",
    "        [\"모모\", 80, 70, 90],\n",
    "        [\"사나\", 90, 90, 80],\n",
    "        [\"지효\", 100, 80, 80],\n",
    "        [\"미나\", 50, 90, 90],\n",
    "        [\"다현\", 80, 60, 100],\n",
    "        [\"채영\", 70, 80, 90],\n",
    "        [\"쯔위\", 100, 90, 90]]\n",
    "\n",
    "#프로그램을 보기 좋게 하려고 상수를 정의\n",
    "name = 0; kor = 1; eng = 2; mat = 3\n",
    "\n",
    "#여기부터 프로그램\n",
    "titleprint()\n",
    "for one_student in score:\n",
    "    itemprint(one_student[name], one_student[kor], one_student[eng], one_student[mat])\n",
    "tailprint() "
   ]
  },
  {
   "cell_type": "code",
   "execution_count": 28,
   "id": "4c9ffd15",
   "metadata": {},
   "outputs": [
    {
     "name": "stdout",
     "output_type": "stream",
     "text": [
      "==================================================\n",
      "이름\t국어\t영어\t수학\t총점\t평균\n",
      "==================================================\n",
      "나연 \t 100 \t 90 \t 100 \t 290 \t 96\n",
      "정연 \t 90 \t 90 \t 100 \t 280 \t 93\n",
      "모모 \t 80 \t 70 \t 90 \t 240 \t 80\n",
      "사나 \t 90 \t 90 \t 80 \t 260 \t 86\n",
      "지효 \t 100 \t 80 \t 80 \t 260 \t 86\n",
      "미나 \t 50 \t 90 \t 90 \t 230 \t 76\n",
      "다현 \t 80 \t 60 \t 100 \t 240 \t 80\n",
      "채영 \t 70 \t 80 \t 90 \t 240 \t 80\n",
      "쯔위 \t 100 \t 90 \t 90 \t 280 \t 93\n",
      "==================================================\n",
      "반총점\t 760 \t 740 \t 820 \t 2320 \t 85.0\n",
      "==================================================\n"
     ]
    }
   ],
   "source": [
    "#리스트 연습2 - 성적표 출력\n",
    "#함수 선언 후 pass로 함수 비워뒀던 함수들 내용 채움\n",
    "\n",
    "#함수선언\n",
    "def titleprint(): #상단 타이틀부분 출력함수\n",
    "    print(\"=\" * 50)    #등호 50번 출력해 구분선 생성\n",
    "    print(\"이름\\t국어\\t영어\\t수학\\t총점\\t평균\")      #탭으로 각 값 칸 구분\n",
    "    print(\"=\" * 50)    #등호 50번 출력해 구분선 생성\n",
    "              \n",
    "def itemprint(name, kor, eng, mat): # 각 과목 성적 입력하는 함수 (매개변수 4개)\n",
    "    #이름, 각과목별 점수, 3과목 점수 총합, 3과목 점수평균 출력\n",
    "    print(name, \"\\t\", kor, \"\\t\", eng, \"\\t\", mat, \"\\t\", kor + eng + mat, \"\\t\", (kor + eng + mat) // 3)\n",
    "    #출력> 나연  100  90  100  290  96\n",
    "    #출력> 정연  90  90  100  280  93\n",
    "    \n",
    "def tailprint(): # 합산부 출력\n",
    "    totkor = 0 # 국어 점수 합계 변수 선언 및 값 0으로 초기화\n",
    "    toteng = 0 # 영어 점수 합계 변수 선언 및 값 0으로 초기화\n",
    "    totmat = 0 # 수학 점수 합계 변수 선언 및 값 0으로 초기화\n",
    "    for one_student in score:    #반복문으로 성적리스트의 각 과목 값 더함\n",
    "        totkor += one_student[kor] # 국어 점수 합계 변수에 국어 점수 누적\n",
    "        toteng += one_student[eng] # 영어 점수 합계 변수에 영어 점수 누적\n",
    "        totmat += one_student[mat] # 수학 점수 합계 변수에 수학 점수 누적\n",
    "    print(\"=\" * 50)    #등호 50번 출력해 구분선 생성\n",
    "    #과목별 총점, 3과목 총점, 평균 출력\n",
    "    print(\"반총점\\t\", totkor, \"\\t\", toteng, \"\\t\", totmat, \"\\t\"\\\n",
    "          , (totkor + toteng + totmat), \"\\t\", (totkor + toteng + totmat) / 3 // 9)\n",
    "    print(\"=\" * 50)    #등호 50번 출력해 구분선 생성\n",
    "    \n",
    "#데이터 2차원 리스트\n",
    "score = [[\"나연\", 100, 90, 100],\n",
    "        [\"정연\", 90, 90, 100],\n",
    "        [\"모모\", 80, 70, 90],\n",
    "        [\"사나\", 90, 90, 80],\n",
    "        [\"지효\", 100, 80, 80],\n",
    "        [\"미나\", 50, 90, 90],\n",
    "        [\"다현\", 80, 60, 100],\n",
    "        [\"채영\", 70, 80, 90],\n",
    "        [\"쯔위\", 100, 90, 90]]\n",
    "\n",
    "#프로그램을 보기 좋게 하려고 상수를 정의 => 리스트에서의 해당 항목 인덱스\n",
    "name = 0; kor = 1; eng = 2; mat = 3\n",
    "    \n",
    "#여기부터 프로그램\n",
    "titleprint()      #상단 타이틀 출력 함수실행\n",
    "for one_student in score:    #scroe 리스트 값들을 한 줄씩 넣어가며 계산\n",
    "    itemprint(one_student[name], one_student[kor], one_student[eng], one_student[mat])\n",
    "tailprint()     #합산부 출력 함수 실행"
   ]
  },
  {
   "cell_type": "code",
   "execution_count": 29,
   "id": "f5b90947",
   "metadata": {},
   "outputs": [
    {
     "data": {
      "text/plain": [
       "[1, 2, 3, 4, 5]"
      ]
     },
     "execution_count": 29,
     "metadata": {},
     "output_type": "execute_result"
    }
   ],
   "source": [
    "#리스트 관리 - 리스트 삽입, 삭제1\n",
    "a = [1, 2, 3, 4, 5]   #리스트 선언\n",
    "a  #리스트 출력"
   ]
  },
  {
   "cell_type": "code",
   "execution_count": 30,
   "id": "32ef7bdb",
   "metadata": {},
   "outputs": [
    {
     "data": {
      "text/plain": [
       "[1, 2, 4, 5]"
      ]
     },
     "execution_count": 30,
     "metadata": {},
     "output_type": "execute_result"
    }
   ],
   "source": [
    "del a[2] # 리스트 인덱스 2번 요소 삭제\n",
    "a #리스트 출력"
   ]
  },
  {
   "cell_type": "code",
   "execution_count": 31,
   "id": "b33ab4a8",
   "metadata": {},
   "outputs": [
    {
     "data": {
      "text/plain": [
       "[]"
      ]
     },
     "execution_count": 31,
     "metadata": {},
     "output_type": "execute_result"
    }
   ],
   "source": [
    "a.clear() # 리스트 요소 전부 제거\n",
    "a  #리스트 출력 => 빈 리스트만 남음 => []"
   ]
  },
  {
   "cell_type": "code",
   "execution_count": 32,
   "id": "58e8e4ec",
   "metadata": {},
   "outputs": [
    {
     "ename": "NameError",
     "evalue": "name 'a' is not defined",
     "output_type": "error",
     "traceback": [
      "\u001b[1;31m---------------------------------------------------------------------------\u001b[0m",
      "\u001b[1;31mNameError\u001b[0m                                 Traceback (most recent call last)",
      "Input \u001b[1;32mIn [32]\u001b[0m, in \u001b[0;36m<cell line: 2>\u001b[1;34m()\u001b[0m\n\u001b[0;32m      1\u001b[0m \u001b[38;5;28;01mdel\u001b[39;00m a \u001b[38;5;66;03m# 리스트 a 자체를 아예 삭제\u001b[39;00m\n\u001b[1;32m----> 2\u001b[0m \u001b[43ma\u001b[49m\n",
      "\u001b[1;31mNameError\u001b[0m: name 'a' is not defined"
     ]
    }
   ],
   "source": [
    "del a # 리스트 a 자체를 아예 삭제\n",
    "a #리스트 출력 => 오류 발생 => a가 정의되어있지 않다."
   ]
  },
  {
   "cell_type": "code",
   "execution_count": 33,
   "id": "e6306e4c",
   "metadata": {},
   "outputs": [
    {
     "data": {
      "text/plain": [
       "[1, 3, 5]"
      ]
     },
     "execution_count": 33,
     "metadata": {},
     "output_type": "execute_result"
    }
   ],
   "source": [
    "# 리스트 삽입, 삭제2\n",
    "#append는 리스트의 끝에 값추가\n",
    "a = []  # 빈 리스트 정의\n",
    "a.append(1) # 리스트a에 값 1 추가\n",
    "a.append(3) # 리스트a에 값 3 추가\n",
    "a.append(5) # 리스트a에 값 5 추가\n",
    "a #리스트 출력"
   ]
  },
  {
   "cell_type": "code",
   "execution_count": 34,
   "id": "94169f62",
   "metadata": {},
   "outputs": [
    {
     "data": {
      "text/plain": [
       "[4, 5, 6, 10]"
      ]
     },
     "execution_count": 34,
     "metadata": {},
     "output_type": "execute_result"
    }
   ],
   "source": [
    "a = [4, 5, 6] #위에서 생성한 리스트 값을 재정의\n",
    "a.append(10)  #리스트에 값 10 추가\n",
    "a #리스트 출력"
   ]
  },
  {
   "cell_type": "code",
   "execution_count": 35,
   "id": "a96de4e9",
   "metadata": {},
   "outputs": [
    {
     "data": {
      "text/plain": [
       "[1, 2, 3, 4, 5, 6]"
      ]
     },
     "execution_count": 35,
     "metadata": {},
     "output_type": "execute_result"
    }
   ],
   "source": [
    "# 리스트 삽입, 삭제3\n",
    "#i ntsert(삽입위치, 삽입내용) : 위치지정해서 리스트에 값 추가\n",
    "a = [1, 2, 3, 4, 5] # 위에서 생성한 리스트 값을 재정의\n",
    "a.append(6)  # append는 리스트의 끝에 값추가\n",
    "a # 리스트 출력"
   ]
  },
  {
   "cell_type": "code",
   "execution_count": 36,
   "id": "ae8e4972",
   "metadata": {},
   "outputs": [
    {
     "data": {
      "text/plain": [
       "[1, 2, 3, 12, 4, 5, 6]"
      ]
     },
     "execution_count": 36,
     "metadata": {},
     "output_type": "execute_result"
    }
   ],
   "source": [
    "a.insert(3, 12) # 인덱스 3에 값 12 추가\n",
    "a # 리스트 출력"
   ]
  },
  {
   "cell_type": "code",
   "execution_count": 37,
   "id": "f0db8e67",
   "metadata": {},
   "outputs": [
    {
     "data": {
      "text/plain": [
       "[1, 2, 3, 12, 15, 4, 5, 6]"
      ]
     },
     "execution_count": 37,
     "metadata": {},
     "output_type": "execute_result"
    }
   ],
   "source": [
    "a.insert(4, 15) # 인덱스 4에 값 15 추가\n",
    "a # 리스트 출력"
   ]
  },
  {
   "cell_type": "code",
   "execution_count": 38,
   "id": "d26d1c6b",
   "metadata": {},
   "outputs": [
    {
     "data": {
      "text/plain": [
       "[1, 2, 3, 1, 12, 15, 4, 5, 6]"
      ]
     },
     "execution_count": 38,
     "metadata": {},
     "output_type": "execute_result"
    }
   ],
   "source": [
    "a.insert(3, 1) # 인덱스 3에 값 1 추가\n",
    "a #리스트 출력"
   ]
  },
  {
   "cell_type": "code",
   "execution_count": 39,
   "id": "289607ce",
   "metadata": {},
   "outputs": [
    {
     "data": {
      "text/plain": [
       "[1, 2, 3, 1, 12, 1, 2, 3, 4, 5, 6, 15, 4, 5, 6]"
      ]
     },
     "execution_count": 39,
     "metadata": {},
     "output_type": "execute_result"
    }
   ],
   "source": [
    "# 리스트 삽입, 삭제4\n",
    "# 여러개의 요소 삽입시 list[n:n]= 방식으로 사용 (n은 삽입위치)\n",
    "a = [1, 2, 3, 1, 12, 15, 4, 5, 6] \n",
    "a[5:5] = [1, 2, 3, 4, 5, 6]  # 인덱스 5에서 인덱스 5까지 영역에 해당 리스트 값 대입 => 인덱스 5에 [1, 2, 3, 4, 5, 6] 대입\n",
    "a #리스트 출력"
   ]
  },
  {
   "cell_type": "code",
   "execution_count": 40,
   "id": "fd575d9a",
   "metadata": {},
   "outputs": [
    {
     "data": {
      "text/plain": [
       "[1, 2, 3, 1, 12, [1, 2, 3, 4, 5, 6], 4, 5, 6]"
      ]
     },
     "execution_count": 40,
     "metadata": {},
     "output_type": "execute_result"
    }
   ],
   "source": [
    "# 리스트 삽입, 삭제5\n",
    "# list[n]= 을 사용하면 해당 n요소의 리스트가 리스트 형태 자체로 대입됨\n",
    "a = [1, 2, 3, 1, 12, 15, 4, 5, 6]\n",
    "a[5] = [1, 2, 3, 4, 5, 6]  #인덱스 5에 리스트형태 자체로 대입\n",
    "a #리스트 출력"
   ]
  },
  {
   "cell_type": "code",
   "execution_count": 41,
   "id": "b72821c8",
   "metadata": {},
   "outputs": [
    {
     "data": {
      "text/plain": [
       "[1, 2, 3, 4, 5, 6]"
      ]
     },
     "execution_count": 41,
     "metadata": {},
     "output_type": "execute_result"
    }
   ],
   "source": [
    "# 리스트 삽입, 삭제6\n",
    "#리스트 병합 방법\n",
    "# 1) + 연산을 이용\n",
    "a = [1, 2, 3]   # 리스트 선언\n",
    "b = [4, 5, 6]   # 리스트 선언\n",
    "a = a + b     #리스트가 담긴 변수 a에 리스트가 담긴 변수 b를 더해 재정의\n",
    "a #리스트 출력"
   ]
  },
  {
   "cell_type": "code",
   "execution_count": 42,
   "id": "b9d9b384",
   "metadata": {},
   "outputs": [
    {
     "data": {
      "text/plain": [
       "[1, 2, 3, 4, 5, 6]"
      ]
     },
     "execution_count": 42,
     "metadata": {},
     "output_type": "execute_result"
    }
   ],
   "source": [
    "# 2) list.extend => 두 개의 리스트를 병합\n",
    "a = [1, 2, 3]   # 리스트 선언\n",
    "b = [4, 5, 6]   # 리스트 선언\n",
    "a.extend(b)   #리스트 a에 리스트 b 병합\n",
    "a #리스트 출력"
   ]
  },
  {
   "cell_type": "code",
   "execution_count": 43,
   "id": "1acd75e6",
   "metadata": {},
   "outputs": [
    {
     "data": {
      "text/plain": [
       "[1, 2, 3, 3, 4, 4, 5, 6, 7, 7, 7, 7, 8]"
      ]
     },
     "execution_count": 43,
     "metadata": {},
     "output_type": "execute_result"
    }
   ],
   "source": [
    "# 리스트 삽입, 삭제7\n",
    "a = [1, 2, 3, 3, 4, 4, 5, 6, 7, 7, 7, 7, 8]   # 리스트 선언\n",
    "a # 리스트 출력"
   ]
  },
  {
   "cell_type": "code",
   "execution_count": 44,
   "id": "9907508e",
   "metadata": {},
   "outputs": [
    {
     "data": {
      "text/plain": [
       "[1, 2, 3, 3, 4, 4, 5, 6, 7, 7, 7, 8]"
      ]
     },
     "execution_count": 44,
     "metadata": {},
     "output_type": "execute_result"
    }
   ],
   "source": [
    "a.remove(7) # 첫번째로 나오는 값 7 삭제 => 인덱스 넘버 아니고 실제 값임!!\n",
    "a #리스트 출력"
   ]
  },
  {
   "cell_type": "code",
   "execution_count": 45,
   "id": "169b5c43",
   "metadata": {},
   "outputs": [
    {
     "data": {
      "text/plain": [
       "[1, 2, 3, 3, 4, 4, 5, 6, 7, 7, 8]"
      ]
     },
     "execution_count": 45,
     "metadata": {},
     "output_type": "execute_result"
    }
   ],
   "source": [
    "a.remove(7) # 첫번째로 나오는 값 7 삭제 => 위에서 값 7한개 삭제해 리스트 변한 상태\n",
    "a #리스트 출력"
   ]
  },
  {
   "cell_type": "code",
   "execution_count": 48,
   "id": "8eeab2a9",
   "metadata": {},
   "outputs": [
    {
     "data": {
      "text/plain": [
       "[1, 2, 3, 3, 4, [], 5, 6, 7, 7, 8]"
      ]
     },
     "execution_count": 48,
     "metadata": {},
     "output_type": "execute_result"
    }
   ],
   "source": [
    "a[5] = [] # 인덱스 5에 빈 리스트 대입 (주의: a[5:5]=[]라고 해야 함)\n",
    "a #리스트 출력"
   ]
  },
  {
   "cell_type": "code",
   "execution_count": 49,
   "id": "275993d4",
   "metadata": {},
   "outputs": [
    {
     "data": {
      "text/plain": [
       "[1, 2, 4, [], 5, 6, 7, 7, 8]"
      ]
     },
     "execution_count": 49,
     "metadata": {},
     "output_type": "execute_result"
    }
   ],
   "source": [
    "a[2:4] = [] # 인덱스 2부터 3사이에 빈 리스트 대입\n",
    "a #리스트 출력"
   ]
  },
  {
   "cell_type": "code",
   "execution_count": 50,
   "id": "54dd4902",
   "metadata": {},
   "outputs": [
    {
     "data": {
      "text/plain": [
       "[1, 2, 4, [], 6, 7, 7, 8]"
      ]
     },
     "execution_count": 50,
     "metadata": {},
     "output_type": "execute_result"
    }
   ],
   "source": [
    "# 리스트 삽입, 삭제8\n",
    "del(a[4]) # 리스트 a의 인덱스 4 삭제\n",
    "a # 리스트 출력"
   ]
  },
  {
   "cell_type": "code",
   "execution_count": 51,
   "id": "988d9559",
   "metadata": {},
   "outputs": [
    {
     "data": {
      "text/plain": [
       "[1, 2, 4, 6, 7, 7, 8]"
      ]
     },
     "execution_count": 51,
     "metadata": {},
     "output_type": "execute_result"
    }
   ],
   "source": [
    "del(a[3]) # 리스트 a의 인덱스 3 삭제\n",
    "a # 리스트 출력"
   ]
  },
  {
   "cell_type": "code",
   "execution_count": 52,
   "id": "9bee9163",
   "metadata": {},
   "outputs": [
    {
     "data": {
      "text/plain": [
       "[]"
      ]
     },
     "execution_count": 52,
     "metadata": {},
     "output_type": "execute_result"
    }
   ],
   "source": [
    "a.clear()  # 리스트 요소 전부 제거 => 빈 리스트만 남음\n",
    "a # 리스트 출력"
   ]
  },
  {
   "cell_type": "code",
   "execution_count": 54,
   "id": "c3fad377",
   "metadata": {},
   "outputs": [
    {
     "ename": "NameError",
     "evalue": "name 'a' is not defined",
     "output_type": "error",
     "traceback": [
      "\u001b[1;31m---------------------------------------------------------------------------\u001b[0m",
      "\u001b[1;31mNameError\u001b[0m                                 Traceback (most recent call last)",
      "Input \u001b[1;32mIn [54]\u001b[0m, in \u001b[0;36m<cell line: 1>\u001b[1;34m()\u001b[0m\n\u001b[1;32m----> 1\u001b[0m \u001b[38;5;28;01mdel\u001b[39;00m a \u001b[38;5;66;03m# 리스트 a 자체를 아예 삭제\u001b[39;00m\n\u001b[0;32m      2\u001b[0m a\n",
      "\u001b[1;31mNameError\u001b[0m: name 'a' is not defined"
     ]
    }
   ],
   "source": [
    "del a # 리스트 a 자체를 아예 삭제\n",
    "a #리스트 출력 => 오류 발생 => a가 정의되어있지 않다."
   ]
  },
  {
   "cell_type": "code",
   "execution_count": 55,
   "id": "69e3d538",
   "metadata": {},
   "outputs": [
    {
     "data": {
      "text/plain": [
       "8"
      ]
     },
     "execution_count": 55,
     "metadata": {},
     "output_type": "execute_result"
    }
   ],
   "source": [
    "# 리스트 삽입, 삭제9\n",
    "# list.pop(n)은 해당 위치를 리턴하고 삭제함 n이 없다면 맨 마지막 요소 리턴\n",
    "a = [1, 2, 3, 3, 4, 4, 5, 6, 7, 7, 7, 7, 8]   #리스트 선언\n",
    "a.pop() # 마지막 요소 리턴"
   ]
  },
  {
   "cell_type": "code",
   "execution_count": 56,
   "id": "3165e5a5",
   "metadata": {},
   "outputs": [
    {
     "data": {
      "text/plain": [
       "[1, 2, 3, 3, 4, 4, 5, 6, 7, 7, 7, 7]"
      ]
     },
     "execution_count": 56,
     "metadata": {},
     "output_type": "execute_result"
    }
   ],
   "source": [
    "a # 리스트 출력"
   ]
  },
  {
   "cell_type": "code",
   "execution_count": 57,
   "id": "41739aff",
   "metadata": {},
   "outputs": [
    {
     "data": {
      "text/plain": [
       "7"
      ]
     },
     "execution_count": 57,
     "metadata": {},
     "output_type": "execute_result"
    }
   ],
   "source": [
    "a.pop() # 마지막 요소 리턴"
   ]
  },
  {
   "cell_type": "code",
   "execution_count": 58,
   "id": "84e78a73",
   "metadata": {},
   "outputs": [
    {
     "data": {
      "text/plain": [
       "3"
      ]
     },
     "execution_count": 58,
     "metadata": {},
     "output_type": "execute_result"
    }
   ],
   "source": [
    "a.pop(3) # 인덱스 3번 리턴하고 삭제"
   ]
  },
  {
   "cell_type": "code",
   "execution_count": 59,
   "id": "00a9e5af",
   "metadata": {},
   "outputs": [
    {
     "data": {
      "text/plain": [
       "[1, 2, 3, 4, 4, 5, 6, 7, 7, 7]"
      ]
     },
     "execution_count": 59,
     "metadata": {},
     "output_type": "execute_result"
    }
   ],
   "source": [
    "a #리스트 출력"
   ]
  },
  {
   "cell_type": "code",
   "execution_count": 60,
   "id": "543b64b2",
   "metadata": {},
   "outputs": [
    {
     "data": {
      "text/plain": [
       "6"
      ]
     },
     "execution_count": 60,
     "metadata": {},
     "output_type": "execute_result"
    }
   ],
   "source": [
    "a.pop(6) # 인덱스 6번 리턴하고 삭제"
   ]
  },
  {
   "cell_type": "code",
   "execution_count": 61,
   "id": "12ea42dc",
   "metadata": {},
   "outputs": [
    {
     "data": {
      "text/plain": [
       "[1, 2, 3, 4, 4, 5, 7, 7, 7]"
      ]
     },
     "execution_count": 61,
     "metadata": {},
     "output_type": "execute_result"
    }
   ],
   "source": [
    "a #리스트 출력"
   ]
  },
  {
   "cell_type": "code",
   "execution_count": 62,
   "id": "481a136a",
   "metadata": {},
   "outputs": [
    {
     "data": {
      "text/plain": [
       "7"
      ]
     },
     "execution_count": 62,
     "metadata": {},
     "output_type": "execute_result"
    }
   ],
   "source": [
    "a.pop(6) # 인덱스 6번 리턴하고 삭제"
   ]
  },
  {
   "cell_type": "code",
   "execution_count": 63,
   "id": "ec801c65",
   "metadata": {},
   "outputs": [
    {
     "data": {
      "text/plain": [
       "1"
      ]
     },
     "execution_count": 63,
     "metadata": {},
     "output_type": "execute_result"
    }
   ],
   "source": [
    "a.pop(0) # 인덱스 0번 리턴하고 삭제"
   ]
  },
  {
   "cell_type": "code",
   "execution_count": 64,
   "id": "404002e0",
   "metadata": {},
   "outputs": [
    {
     "data": {
      "text/plain": [
       "[2, 3, 4, 4, 5, 7, 7]"
      ]
     },
     "execution_count": 64,
     "metadata": {},
     "output_type": "execute_result"
    }
   ],
   "source": [
    "a #리스트 출력"
   ]
  },
  {
   "cell_type": "code",
   "execution_count": 65,
   "id": "57db7c44",
   "metadata": {},
   "outputs": [
    {
     "data": {
      "text/plain": [
       "8"
      ]
     },
     "execution_count": 65,
     "metadata": {},
     "output_type": "execute_result"
    }
   ],
   "source": [
    "# 리스트 검색1\n",
    "# list.index(값) : 해당 값이 처음 나오는 위치를 리턴\n",
    "# list.count(값) : 해당 값이 몇번 나오는지 리턴\n",
    "a = [1, 2, 3, 3, 4, 4, 5, 6, 7, 7, 7, 7, 8]   #리스트 선언\n",
    "a.index(7)  # 값 7이 처음 나오는 인덱스 반환 => 8"
   ]
  },
  {
   "cell_type": "code",
   "execution_count": 66,
   "id": "5a740ffe",
   "metadata": {},
   "outputs": [
    {
     "data": {
      "text/plain": [
       "12"
      ]
     },
     "execution_count": 66,
     "metadata": {},
     "output_type": "execute_result"
    }
   ],
   "source": [
    "a.index(8) # 값 8이 처음 나오는 인덱스 반환 =>  12"
   ]
  },
  {
   "cell_type": "code",
   "execution_count": 67,
   "id": "dac103c6",
   "metadata": {},
   "outputs": [
    {
     "data": {
      "text/plain": [
       "4"
      ]
     },
     "execution_count": 67,
     "metadata": {},
     "output_type": "execute_result"
    }
   ],
   "source": [
    "a.index(4) # 값 4가 처음 나오는 인덱스 반환 =>  4"
   ]
  },
  {
   "cell_type": "code",
   "execution_count": 68,
   "id": "42fd0d31",
   "metadata": {},
   "outputs": [
    {
     "data": {
      "text/plain": [
       "4"
      ]
     },
     "execution_count": 68,
     "metadata": {},
     "output_type": "execute_result"
    }
   ],
   "source": [
    "a.count(7) # 값 7이 나오는 횟수 반환 => 4"
   ]
  },
  {
   "cell_type": "code",
   "execution_count": 69,
   "id": "c6756db9",
   "metadata": {},
   "outputs": [
    {
     "data": {
      "text/plain": [
       "1"
      ]
     },
     "execution_count": 69,
     "metadata": {},
     "output_type": "execute_result"
    }
   ],
   "source": [
    "# 리스트 검색2\n",
    "# min(list),max(list) : 리스트 중 최소값과 최대값을 구함\n",
    "# len(list) 리스트의 크기(개수)를 구함\n",
    "a = [1, 2, 3, 3, 4, 4, 5, 6, 7, 7, 7, 7, 8]   # 리스트 선언\n",
    "min(a) # a의 최소값 리턴"
   ]
  },
  {
   "cell_type": "code",
   "execution_count": 70,
   "id": "7b52441a",
   "metadata": {},
   "outputs": [
    {
     "data": {
      "text/plain": [
       "8"
      ]
     },
     "execution_count": 70,
     "metadata": {},
     "output_type": "execute_result"
    }
   ],
   "source": [
    "max(a) # a의 최대값 리턴"
   ]
  },
  {
   "cell_type": "code",
   "execution_count": 71,
   "id": "783eee01",
   "metadata": {},
   "outputs": [
    {
     "data": {
      "text/plain": [
       "13"
      ]
     },
     "execution_count": 71,
     "metadata": {},
     "output_type": "execute_result"
    }
   ],
   "source": [
    "len(a) # a의 크기 리턴"
   ]
  },
  {
   "cell_type": "code",
   "execution_count": 72,
   "id": "2915c6f7",
   "metadata": {},
   "outputs": [
    {
     "data": {
      "text/plain": [
       "[4, 9, 6, 2, 5, 4, 2, 6, 5, 8, 1]"
      ]
     },
     "execution_count": 72,
     "metadata": {},
     "output_type": "execute_result"
    }
   ],
   "source": [
    "# 리스트 정렬\n",
    "# list.sort() : 리스트 내용을 정렬함\n",
    "# list.reverse() : 리스트 내용을 역으로 보여줌\n",
    "a = [1, 8, 5, 6, 2, 4, 5, 2, 6, 9, 4]   #리스트 선언\n",
    "a.reverse() # 리스트 내용을 역순으로 출력\n",
    "a # 리스트 출력"
   ]
  },
  {
   "cell_type": "code",
   "execution_count": 73,
   "id": "1451f652",
   "metadata": {},
   "outputs": [
    {
     "data": {
      "text/plain": [
       "[1, 2, 2, 4, 4, 5, 5, 6, 6, 8, 9]"
      ]
     },
     "execution_count": 73,
     "metadata": {},
     "output_type": "execute_result"
    }
   ],
   "source": [
    "a.sort() # 리스트 내용 오름차순 정렬\n",
    "a  # 리스트 출력"
   ]
  },
  {
   "cell_type": "code",
   "execution_count": 74,
   "id": "0c6e49a3",
   "metadata": {},
   "outputs": [
    {
     "name": "stdout",
     "output_type": "stream",
     "text": [
      "==================================================\n",
      "이름\t국어\t영어\t수학\t총점\t평균\n",
      "==================================================\n",
      "name0 \t 56 \t 98 \t 49 \t 203 \t 67\n",
      "name1 \t 12 \t 74 \t 44 \t 130 \t 43\n",
      "name2 \t 55 \t 90 \t 83 \t 228 \t 76\n",
      "name3 \t 25 \t 93 \t 32 \t 150 \t 50\n",
      "name4 \t 94 \t 39 \t 98 \t 231 \t 77\n",
      "name5 \t 24 \t 52 \t 61 \t 137 \t 45\n",
      "name6 \t 62 \t 74 \t 88 \t 224 \t 74\n",
      "name7 \t 98 \t 76 \t 61 \t 235 \t 78\n",
      "name8 \t 60 \t 20 \t 90 \t 170 \t 56\n",
      "name9 \t 94 \t 40 \t 15 \t 149 \t 49\n",
      "name10 \t 73 \t 84 \t 49 \t 206 \t 68\n",
      "name11 \t 87 \t 23 \t 37 \t 147 \t 49\n",
      "name12 \t 67 \t 50 \t 45 \t 162 \t 54\n",
      "name13 \t 30 \t 63 \t 96 \t 189 \t 63\n",
      "name14 \t 24 \t 64 \t 81 \t 169 \t 56\n",
      "name15 \t 21 \t 33 \t 28 \t 82 \t 27\n",
      "name16 \t 34 \t 13 \t 85 \t 132 \t 44\n",
      "name17 \t 27 \t 24 \t 13 \t 64 \t 21\n",
      "name18 \t 64 \t 95 \t 51 \t 210 \t 70\n",
      "name19 \t 27 \t 25 \t 31 \t 83 \t 27\n",
      "name20 \t 11 \t 86 \t 35 \t 132 \t 44\n",
      "name21 \t 62 \t 79 \t 99 \t 240 \t 80\n",
      "name22 \t 84 \t 98 \t 85 \t 267 \t 89\n",
      "name23 \t 39 \t 43 \t 38 \t 120 \t 40\n",
      "name24 \t 11 \t 40 \t 33 \t 84 \t 28\n",
      "name25 \t 59 \t 33 \t 67 \t 159 \t 53\n",
      "name26 \t 79 \t 29 \t 87 \t 195 \t 65\n",
      "name27 \t 74 \t 79 \t 20 \t 173 \t 57\n",
      "name28 \t 67 \t 21 \t 25 \t 113 \t 37\n",
      "name29 \t 83 \t 97 \t 76 \t 256 \t 85\n",
      "name30 \t 85 \t 85 \t 94 \t 264 \t 88\n",
      "name31 \t 81 \t 29 \t 21 \t 131 \t 43\n",
      "name32 \t 62 \t 41 \t 63 \t 166 \t 55\n",
      "name33 \t 17 \t 18 \t 69 \t 104 \t 34\n",
      "name34 \t 33 \t 10 \t 79 \t 122 \t 40\n",
      "name35 \t 41 \t 63 \t 45 \t 149 \t 49\n",
      "name36 \t 99 \t 51 \t 14 \t 164 \t 54\n",
      "name37 \t 49 \t 90 \t 95 \t 234 \t 78\n",
      "name38 \t 93 \t 88 \t 20 \t 201 \t 67\n",
      "name39 \t 35 \t 19 \t 68 \t 122 \t 40\n",
      "name40 \t 12 \t 80 \t 25 \t 117 \t 39\n",
      "name41 \t 38 \t 43 \t 16 \t 97 \t 32\n",
      "name42 \t 26 \t 88 \t 81 \t 195 \t 65\n",
      "name43 \t 82 \t 11 \t 58 \t 151 \t 50\n",
      "name44 \t 74 \t 44 \t 29 \t 147 \t 49\n",
      "name45 \t 30 \t 25 \t 24 \t 79 \t 26\n",
      "name46 \t 29 \t 53 \t 54 \t 136 \t 45\n",
      "name47 \t 80 \t 88 \t 65 \t 233 \t 77\n",
      "name48 \t 74 \t 99 \t 76 \t 249 \t 83\n",
      "name49 \t 73 \t 71 \t 46 \t 190 \t 63\n",
      "name50 \t 53 \t 54 \t 67 \t 174 \t 58\n",
      "name51 \t 84 \t 47 \t 39 \t 170 \t 56\n",
      "name52 \t 29 \t 24 \t 87 \t 140 \t 46\n",
      "name53 \t 89 \t 98 \t 58 \t 245 \t 81\n",
      "name54 \t 44 \t 83 \t 30 \t 157 \t 52\n",
      "name55 \t 76 \t 44 \t 31 \t 151 \t 50\n",
      "name56 \t 13 \t 65 \t 51 \t 129 \t 43\n",
      "name57 \t 91 \t 87 \t 32 \t 210 \t 70\n",
      "name58 \t 27 \t 25 \t 98 \t 150 \t 50\n",
      "name59 \t 35 \t 24 \t 96 \t 155 \t 51\n",
      "name60 \t 98 \t 25 \t 56 \t 179 \t 59\n",
      "name61 \t 70 \t 17 \t 55 \t 142 \t 47\n",
      "name62 \t 13 \t 60 \t 33 \t 106 \t 35\n",
      "name63 \t 33 \t 58 \t 85 \t 176 \t 58\n",
      "name64 \t 74 \t 62 \t 66 \t 202 \t 67\n",
      "name65 \t 30 \t 63 \t 33 \t 126 \t 42\n",
      "name66 \t 91 \t 84 \t 61 \t 236 \t 78\n",
      "name67 \t 44 \t 68 \t 12 \t 124 \t 41\n",
      "name68 \t 80 \t 36 \t 72 \t 188 \t 62\n",
      "name69 \t 42 \t 43 \t 12 \t 97 \t 32\n",
      "name70 \t 15 \t 59 \t 64 \t 138 \t 46\n",
      "name71 \t 90 \t 21 \t 50 \t 161 \t 53\n",
      "name72 \t 13 \t 17 \t 11 \t 41 \t 13\n",
      "name73 \t 74 \t 64 \t 62 \t 200 \t 66\n",
      "name74 \t 56 \t 10 \t 22 \t 88 \t 29\n",
      "name75 \t 26 \t 38 \t 58 \t 122 \t 40\n",
      "name76 \t 92 \t 13 \t 12 \t 117 \t 39\n",
      "name77 \t 95 \t 22 \t 62 \t 179 \t 59\n",
      "name78 \t 20 \t 59 \t 18 \t 97 \t 32\n",
      "name79 \t 79 \t 45 \t 67 \t 191 \t 63\n",
      "name80 \t 23 \t 34 \t 42 \t 99 \t 33\n",
      "name81 \t 48 \t 11 \t 63 \t 122 \t 40\n",
      "name82 \t 60 \t 61 \t 56 \t 177 \t 59\n",
      "name83 \t 13 \t 78 \t 58 \t 149 \t 49\n",
      "name84 \t 59 \t 16 \t 76 \t 151 \t 50\n",
      "name85 \t 58 \t 73 \t 75 \t 206 \t 68\n",
      "name86 \t 56 \t 24 \t 67 \t 147 \t 49\n",
      "name87 \t 47 \t 97 \t 67 \t 211 \t 70\n",
      "name88 \t 76 \t 68 \t 38 \t 182 \t 60\n",
      "name89 \t 60 \t 15 \t 54 \t 129 \t 43\n",
      "name90 \t 76 \t 97 \t 93 \t 266 \t 88\n",
      "name91 \t 26 \t 76 \t 39 \t 141 \t 47\n",
      "name92 \t 85 \t 21 \t 99 \t 205 \t 68\n",
      "name93 \t 89 \t 79 \t 65 \t 233 \t 77\n",
      "name94 \t 68 \t 45 \t 82 \t 195 \t 65\n",
      "name95 \t 14 \t 87 \t 37 \t 138 \t 46\n",
      "name96 \t 83 \t 97 \t 43 \t 223 \t 74\n",
      "name97 \t 97 \t 14 \t 99 \t 210 \t 70\n",
      "name98 \t 70 \t 48 \t 72 \t 190 \t 63\n",
      "name99 \t 48 \t 81 \t 98 \t 227 \t 75\n",
      "==================================================\n",
      "반총점\t 5548 \t 5368 \t 5567 \t 16483 \t 54.0\n",
      "==================================================\n"
     ]
    }
   ],
   "source": [
    "#***********심화학습**********\n",
    "#함수 선언 후 pass로 아무것도 실행하지 않고, 데이터 채운 후에 함수 명령 작성\n",
    "#성적표에서 score리스트 값을 random으로 생성\n",
    "\n",
    "import random as r #랜덤함수 사용하기 위해 라이브러리 선언 => 변수명 r로 ramdom 라이브러리 사용!\n",
    "\n",
    "#함수선언\n",
    "def titleprint(): # 상단 타이틀 출력 함수\n",
    "    print(\"=\"*50) #구분선 출력\n",
    "    print(\"이름\\t국어\\t영어\\t수학\\t총점\\t평균\") #이름 및 과목 총점 평균 칸 생성\n",
    "    print(\"=\"*50) #구분선 출력\n",
    "    \n",
    "def itemprint(name,kor,eng,mat): # 성적 입력하는 함수\n",
    "    #이름, 과목별 성적, 3과목 성적 총합, 과목평균 출력\n",
    "    print(name,\"\\t\",kor,\"\\t\",eng,\"\\t\",mat,\"\\t\",kor+eng+mat,\"\\t\",(kor+eng+mat)//3)\n",
    "\n",
    "def tailprint(): #합산 부분 출력\n",
    "    totkor=0 # 국어 점수 합계 변수 선언 및 값 0으로 초기화\n",
    "    toteng=0 # 영어 점수 합계 변수 선언 및 값 0으로 초기화\n",
    "    totmat=0 # 수학 점수 합계 변수 선언 및 값 0으로 초기화\n",
    "    for one_student in score: #성적 리스트값 순서대로 받아오고\n",
    "        totkor+=one_student[kor] #각 과목 점수 누적\n",
    "        toteng+=one_student[eng] #각 과목 점수 누적\n",
    "        totmat+=one_student[mat] #각 과목 점수 누적\n",
    "    print(\"=\"*50) #등호 50개 출력해서 구분선 생성\n",
    "    print(\"반총점\\t\",totkor,\"\\t\",toteng,\"\\t\",totmat,\"\\t\"\\\n",
    "        ,(totkor+toteng+totmat),\"\\t\",(totkor+toteng+totmat)/3//100) #이름 성적 총합 평균 출력\n",
    "    print(\"=\"*50) #등호 50개 출력해서 구분선 생성\n",
    "    \n",
    "#데이터\n",
    "one_person=[] #리스트 선언(인원의 이름, 성적을 추가)\n",
    "score=[] #리스트 선언(위의 one_person의 성적을 하나하나 리스트에 추가)\n",
    "for i in range(100): #10부터 99까지 1씩 증가하며 입력하는 for문 작성\n",
    "    one_person.append(\"name\"+str(i)) #name + (0 ~ 99) => 숫자 0~99를 문자형 str으로 받음\n",
    "    one_person.append(r.randrange(10,100)) # 국어 10부터 99까지 랜덤 값 대입\n",
    "    one_person.append(r.randrange(10,100)) # 영어 10부터 99까지 랜덤 값 대입\n",
    "    one_person.append(r.randrange(10,100)) # 수학 10부터 99까지 랜덤 값 대입\n",
    "    score.append(one_person[:]) # 값을 복사해서 추가함에 주의할 것\n",
    "    one_person.clear() #리스트의 값들 전부제거\n",
    "\n",
    "# 프로그램을 보기 좋게 하려고 상수를 정의 => 리스트에서 해당 항목의 인덱스\n",
    "name = 0; kor = 1; eng = 2; mat = 3\n",
    "\n",
    "\n",
    "#여기부터 프로그램\n",
    "titleprint() #상단 타이틀 출력함수\n",
    "for one_student in score:   #scroe 리스트 값들을 한 줄씩 넣어가며 계산\n",
    "    itemprint(one_student[name], one_student[kor], one_student[eng], one_student[mat])\n",
    "tailprint() #하단에 합산부 총합 등 출력"
   ]
  },
  {
   "cell_type": "code",
   "execution_count": 75,
   "id": "af413657",
   "metadata": {},
   "outputs": [
    {
     "data": {
      "text/plain": [
       "(1, 8, 5, 6, 2, 4, 5, 2, 6, 9, 4)"
      ]
     },
     "execution_count": 75,
     "metadata": {},
     "output_type": "execute_result"
    }
   ],
   "source": [
    "# 튜플1\n",
    "# 값 조회는 가능\n",
    "a = (1, 8, 5, 6, 2, 4, 5, 2, 6, 9, 4)   #튜플선언\n",
    "a  #튜플 출력"
   ]
  },
  {
   "cell_type": "code",
   "execution_count": 76,
   "id": "d2d72c50",
   "metadata": {},
   "outputs": [
    {
     "data": {
      "text/plain": [
       "4"
      ]
     },
     "execution_count": 76,
     "metadata": {},
     "output_type": "execute_result"
    }
   ],
   "source": [
    "a[5] #튜플 인덱스 5 출력"
   ]
  },
  {
   "cell_type": "code",
   "execution_count": 77,
   "id": "8bf8e84b",
   "metadata": {},
   "outputs": [
    {
     "data": {
      "text/plain": [
       "(6, 2)"
      ]
     },
     "execution_count": 77,
     "metadata": {},
     "output_type": "execute_result"
    }
   ],
   "source": [
    "a[3:5] #튜플 인덱스 3,4 출력"
   ]
  },
  {
   "cell_type": "code",
   "execution_count": 78,
   "id": "403c5298",
   "metadata": {},
   "outputs": [
    {
     "data": {
      "text/plain": [
       "(6, 2, 4, 5, 2)"
      ]
     },
     "execution_count": 78,
     "metadata": {},
     "output_type": "execute_result"
    }
   ],
   "source": [
    "a[3:8] #튜플 인덱스 3~7까지 출력"
   ]
  },
  {
   "cell_type": "code",
   "execution_count": 79,
   "id": "b037d356",
   "metadata": {},
   "outputs": [
    {
     "data": {
      "text/plain": [
       "(1, 8, 5, 6, 2, 4, 5, 2, 6, 9, 4, 1, 8, 5, 6, 2, 4, 5, 2, 6, 9, 4)"
      ]
     },
     "execution_count": 79,
     "metadata": {},
     "output_type": "execute_result"
    }
   ],
   "source": [
    "a * 2 #튜플을 두번 출력"
   ]
  },
  {
   "cell_type": "code",
   "execution_count": 80,
   "id": "313c4cd5",
   "metadata": {},
   "outputs": [
    {
     "data": {
      "text/plain": [
       "(1, 8, 5, 6, 2, 4, 5, 2, 6, 9, 4, 1, 8, 5, 6, 2, 4, 5, 2, 6, 9, 4)"
      ]
     },
     "execution_count": 80,
     "metadata": {},
     "output_type": "execute_result"
    }
   ],
   "source": [
    "# 튜플2\n",
    "# 값을 대입하거나 변경하거나 구조를 지우는 것은 불가능\n",
    "a = (1, 8, 5, 6, 2, 4, 5, 2, 6, 9, 4, 1, 8, 5, 6, 2, 4, 5, 2, 6, 9, 4)   #튜플선언\n",
    "a  #튜플 출력"
   ]
  },
  {
   "cell_type": "code",
   "execution_count": 81,
   "id": "619a777c",
   "metadata": {},
   "outputs": [
    {
     "ename": "TypeError",
     "evalue": "'tuple' object does not support item assignment",
     "output_type": "error",
     "traceback": [
      "\u001b[1;31m---------------------------------------------------------------------------\u001b[0m",
      "\u001b[1;31mTypeError\u001b[0m                                 Traceback (most recent call last)",
      "Input \u001b[1;32mIn [81]\u001b[0m, in \u001b[0;36m<cell line: 2>\u001b[1;34m()\u001b[0m\n\u001b[0;32m      1\u001b[0m \u001b[38;5;66;03m#오류발생!\u001b[39;00m\n\u001b[1;32m----> 2\u001b[0m a[\u001b[38;5;241m1\u001b[39m] \u001b[38;5;241m=\u001b[39m \u001b[38;5;241m5\u001b[39m\n",
      "\u001b[1;31mTypeError\u001b[0m: 'tuple' object does not support item assignment"
     ]
    }
   ],
   "source": [
    "#오류발생!\n",
    "a[1] = 5 # 튜플은 최초선언 후에 값 대입, 변경,구조 삭제 불가"
   ]
  },
  {
   "cell_type": "code",
   "execution_count": 82,
   "id": "126564b2",
   "metadata": {},
   "outputs": [
    {
     "ename": "TypeError",
     "evalue": "'tuple' object doesn't support item deletion",
     "output_type": "error",
     "traceback": [
      "\u001b[1;31m---------------------------------------------------------------------------\u001b[0m",
      "\u001b[1;31mTypeError\u001b[0m                                 Traceback (most recent call last)",
      "Input \u001b[1;32mIn [82]\u001b[0m, in \u001b[0;36m<cell line: 2>\u001b[1;34m()\u001b[0m\n\u001b[0;32m      1\u001b[0m \u001b[38;5;66;03m#오류발생!\u001b[39;00m\n\u001b[1;32m----> 2\u001b[0m \u001b[38;5;28;01mdel\u001b[39;00m a[\u001b[38;5;241m4\u001b[39m]\n",
      "\u001b[1;31mTypeError\u001b[0m: 'tuple' object doesn't support item deletion"
     ]
    }
   ],
   "source": [
    "#오류발생!\n",
    "del a[4] # 튜플은 최초선언 후에 값 대입, 변경,구조 삭제 불가"
   ]
  },
  {
   "cell_type": "code",
   "execution_count": 83,
   "id": "2fc2e443",
   "metadata": {},
   "outputs": [
    {
     "ename": "AttributeError",
     "evalue": "'tuple' object has no attribute 'append'",
     "output_type": "error",
     "traceback": [
      "\u001b[1;31m---------------------------------------------------------------------------\u001b[0m",
      "\u001b[1;31mAttributeError\u001b[0m                            Traceback (most recent call last)",
      "Input \u001b[1;32mIn [83]\u001b[0m, in \u001b[0;36m<cell line: 2>\u001b[1;34m()\u001b[0m\n\u001b[0;32m      1\u001b[0m \u001b[38;5;66;03m#오류발생!\u001b[39;00m\n\u001b[1;32m----> 2\u001b[0m \u001b[43ma\u001b[49m\u001b[38;5;241;43m.\u001b[39;49m\u001b[43mappend\u001b[49m(\u001b[38;5;241m10\u001b[39m)\n",
      "\u001b[1;31mAttributeError\u001b[0m: 'tuple' object has no attribute 'append'"
     ]
    }
   ],
   "source": [
    "#오류발생!\n",
    "a.append(10) # 튜플은 최초선언 후에 값 대입, 변경,구조 삭제 불가"
   ]
  },
  {
   "cell_type": "code",
   "execution_count": 84,
   "id": "98897551",
   "metadata": {},
   "outputs": [
    {
     "name": "stdout",
     "output_type": "stream",
     "text": [
      "((2, 17403), (41, 40338))\n"
     ]
    }
   ],
   "source": [
    "# 튜플 (예시)\n",
    "def location():   #위치 출력하는 함수선언\n",
    "    latitude = 2, 17403 # 위도\n",
    "    longitude=41,40338 #경도\n",
    "    return latitude,longitude #이런방식의 리턴은 튜플로 반환\n",
    "a=location() #변수 a에 함수 리턴값 대입\n",
    "print(a)  #튜플 출력"
   ]
  }
 ],
 "metadata": {
  "kernelspec": {
   "display_name": "Python 3 (ipykernel)",
   "language": "python",
   "name": "python3"
  },
  "language_info": {
   "codemirror_mode": {
    "name": "ipython",
    "version": 3
   },
   "file_extension": ".py",
   "mimetype": "text/x-python",
   "name": "python",
   "nbconvert_exporter": "python",
   "pygments_lexer": "ipython3",
   "version": "3.8.8rc1"
  }
 },
 "nbformat": 4,
 "nbformat_minor": 5
}
