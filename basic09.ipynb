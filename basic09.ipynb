{
 "cells": [
  {
   "cell_type": "code",
   "execution_count": 1,
   "id": "3416eb18",
   "metadata": {},
   "outputs": [
    {
     "data": {
      "text/plain": [
       "95"
      ]
     },
     "execution_count": 1,
     "metadata": {},
     "output_type": "execute_result"
    }
   ],
   "source": [
    "#파이썬기초09깅\n",
    "# 딕셔너리의 정의1\n",
    "# 딕셔너리 형식 : dic_name[key]\n",
    "a = {\"이름\":\"홍길동\", \"국어\":100, \"영어\":88, \"수학\": 95}   # 변수 a에 딕셔너리 정의\n",
    "a[\"수학\"] # a의 키가 \"수학\"인 것의 값(value) 출력"
   ]
  },
  {
   "cell_type": "code",
   "execution_count": 2,
   "id": "79adbd98",
   "metadata": {},
   "outputs": [
    {
     "data": {
      "text/plain": [
       "'홍길동'"
      ]
     },
     "execution_count": 2,
     "metadata": {},
     "output_type": "execute_result"
    }
   ],
   "source": [
    "a[\"이름\"]  # a의 키가 \"이름\"인 것의 값(value) 출력"
   ]
  },
  {
   "cell_type": "code",
   "execution_count": 3,
   "id": "d144bf9d",
   "metadata": {},
   "outputs": [
    {
     "data": {
      "text/plain": [
       "dict_keys(['이름', '국어', '영어', '수학'])"
      ]
     },
     "execution_count": 3,
     "metadata": {},
     "output_type": "execute_result"
    }
   ],
   "source": [
    "# 딕셔너리의 정의2\n",
    "# keys(), values(), items()\n",
    "a.keys() # a의 키값들만 출력"
   ]
  },
  {
   "cell_type": "code",
   "execution_count": 4,
   "id": "73f5b906",
   "metadata": {},
   "outputs": [
    {
     "data": {
      "text/plain": [
       "dict_values(['홍길동', 100, 88, 95])"
      ]
     },
     "execution_count": 4,
     "metadata": {},
     "output_type": "execute_result"
    }
   ],
   "source": [
    "a.values() # a의 값들만 출력"
   ]
  },
  {
   "cell_type": "code",
   "execution_count": 5,
   "id": "2e9fbcf6",
   "metadata": {},
   "outputs": [
    {
     "data": {
      "text/plain": [
       "dict_items([('이름', '홍길동'), ('국어', 100), ('영어', 88), ('수학', 95)])"
      ]
     },
     "execution_count": 5,
     "metadata": {},
     "output_type": "execute_result"
    }
   ],
   "source": [
    "a.items() # a 키와 값 모두 출력"
   ]
  },
  {
   "cell_type": "code",
   "execution_count": 6,
   "id": "9f495192",
   "metadata": {},
   "outputs": [
    {
     "name": "stdout",
     "output_type": "stream",
     "text": [
      "('이름', '홍길동'),('국어', 100),('영어', 88),('수학', 95),"
     ]
    }
   ],
   "source": [
    "# 딕셔너리의 정의3\n",
    "# keys(), values(), items()의 활용\n",
    "a = {\"이름\":\"홍길동\", \"국어\":100, \"영어\":88, \"수학\": 95} # 딕셔너리 생성\n",
    "for i in a.items() : # 반복문으로 딕셔너리의 키-값 모두 출력\n",
    "    print(i, end = \",\") # 줄바꿈없이 한 줄에 출력"
   ]
  },
  {
   "cell_type": "code",
   "execution_count": 7,
   "id": "6cd99709",
   "metadata": {},
   "outputs": [
    {
     "name": "stdout",
     "output_type": "stream",
     "text": [
      "이름,국어,영어,수학,"
     ]
    }
   ],
   "source": [
    "for i in a.keys(): # 반복문으롤 딕셔너리의 키 값 모두 출력\n",
    "    print (i,end=\",\") # 줄바꿈없이 한 줄에 출력"
   ]
  },
  {
   "cell_type": "code",
   "execution_count": 8,
   "id": "2b62f976",
   "metadata": {},
   "outputs": [
    {
     "name": "stdout",
     "output_type": "stream",
     "text": [
      "홍길동,100,88,95,"
     ]
    }
   ],
   "source": [
    "for i in a.values(): # 반복문으로 딕셔너리의 키-값 모두 출력\n",
    "    print (i,end=\",\") # 줄바꿈없이 한 줄에 출력"
   ]
  },
  {
   "cell_type": "code",
   "execution_count": 9,
   "id": "3ce36e85",
   "metadata": {},
   "outputs": [
    {
     "name": "stdout",
     "output_type": "stream",
     "text": [
      "None\n"
     ]
    }
   ],
   "source": [
    "# 딕셔너리의 정의4\n",
    "# get()은 해당 키의 값 검색=> 없는 경우의 출력 내용을 지정 가능\n",
    "a = {\"이름\":\"홍길동\", \"국어\":100, \"영어\":88, \"수학\": 95} # 딕셔너리 생성\n",
    "print(a.get(\"과학\")) # \"과학\"의 값 검색"
   ]
  },
  {
   "cell_type": "code",
   "execution_count": 10,
   "id": "d65fc70a",
   "metadata": {},
   "outputs": [
    {
     "name": "stdout",
     "output_type": "stream",
     "text": [
      "없는과목입니다\n"
     ]
    }
   ],
   "source": [
    "print(a.get(\"과학\",\"없는과목입니다\")) # 과학의 값이 없으면 없는과목이라고 출력"
   ]
  },
  {
   "cell_type": "code",
   "execution_count": 11,
   "id": "d2beacad",
   "metadata": {},
   "outputs": [
    {
     "name": "stdout",
     "output_type": "stream",
     "text": [
      "95\n"
     ]
    }
   ],
   "source": [
    "print(a.get(\"수학\",\"없는과목입니다\")) # 수학의 값이 없으면 없는과목이라고 출력"
   ]
  },
  {
   "cell_type": "code",
   "execution_count": 12,
   "id": "049a90b1",
   "metadata": {},
   "outputs": [
    {
     "name": "stdout",
     "output_type": "stream",
     "text": [
      "{'안': 1, '녕': 1, '하': 1, '세': 1, '요': 4, '.': 2, ' ': 22, '오': 1, '늘': 1, '은': 2, '날': 1, '씨': 1, '가': 2, '매': 2, '우': 2, '화': 1, '창': 1, '합': 1, '니': 1, '다': 1, '\\n': 3, '그': 1, '래': 1, '서': 1, '기': 2, '분': 2, '이': 3, '좋': 2, '네': 2, '여': 1, '름': 1, '랄': 4, '라': 13, 'h': 1, 'a': 1, 'p': 2, 'y': 1}\n"
     ]
    }
   ],
   "source": [
    "# 딕셔너리 예제1\n",
    "# 다음 문장에서 각각이 쓰인 글자에 대한 계수를 하는 예제\n",
    "text = \"\"\"안녕하세요. 오늘은 날씨가 매우 화창합니다.\n",
    "    그래서 기분이 매우 좋네요\n",
    "    여름이네요 기분이 좋은가요\n",
    "    랄라랄랄라라라라라라라라라라라라랄 happy\"\"\"\n",
    "\n",
    "a = dict() # 하나의 딕셔너리 자료형을 정의\n",
    "\n",
    "for c in text: # 위에 정의한 텍스트를 하나씩 추출하여 처리\n",
    "    if c not in a: # 해당 추출글자가 지금까지의 딕셔너리에 없다면,\n",
    "        a[c] = 1 #그때는 최초 1값(value)으로 시작\n",
    "    else : #text문장에서 한글자씩 추출했는데, 해당 추출 글자의 딕셔너리가 있다면,\n",
    "        a[c] +=1 # 해당 딕셔너리 키에 해당되는 값을 +1 => 글자 개수 증가\n",
    "print(a) #딕셔너리 출력"
   ]
  },
  {
   "cell_type": "code",
   "execution_count": 13,
   "id": "bdfcf10b",
   "metadata": {},
   "outputs": [
    {
     "name": "stdout",
     "output_type": "stream",
     "text": [
      "{'\\n': 3, ' ': 22, '.': 2, 'a': 1, 'h': 1, 'p': 2, 'y': 1, '가': 2, '그': 1, '기': 2, '날': 1, '네': 2, '녕': 1, '늘': 1, '니': 1, '다': 1, '라': 13, '랄': 4, '래': 1, '름': 1, '매': 2, '분': 2, '서': 1, '세': 1, '씨': 1, '안': 1, '여': 1, '오': 1, '요': 4, '우': 2, '은': 2, '이': 3, '좋': 2, '창': 1, '하': 1, '합': 1, '화': 1}\n"
     ]
    }
   ],
   "source": [
    "# 딕셔너리 예제2\n",
    "# 앞에 출력된 딕셔너리를 키(key) 기준 가나다 순으로 정렬\n",
    "\n",
    "b = dict() # 딕셔너리 정의\n",
    "l = list(a.keys()) # 앞에서 생성한 딕셔너리 a의 키만 뽑아 리스트 l생성\n",
    "l.sort() # 해당 리스트 올림차순 정렬\n",
    "for c in l : # 각 리스트에 대하여 (결국 키값) 하나씩 뽑음\n",
    "    b[c] = a[c] # 새로운 딕셔너리는 키 값 순서로 다시 만듦\n",
    "print(b) #출력"
   ]
  },
  {
   "cell_type": "code",
   "execution_count": 14,
   "id": "d611bdc1",
   "metadata": {},
   "outputs": [
    {
     "data": {
      "text/plain": [
       "{1, 2, 3, 4, 5}"
      ]
     },
     "execution_count": 14,
     "metadata": {},
     "output_type": "execute_result"
    }
   ],
   "source": [
    "# 집합의 정의1\n",
    "# 대괄호{ }로 원소를 표현하며 순서에 상관없이 표시 및 사용됨(순서의 의미가 없음)\n",
    "# 원소가 중복되어도 하나로 인식\n",
    "a = {1, 2, 2, 2, 2, 3, 3, 3, 4, 5} #집합선언\n",
    "a   #출력 => 중복은 제거하고 출력"
   ]
  },
  {
   "cell_type": "code",
   "execution_count": 15,
   "id": "b9082316",
   "metadata": {},
   "outputs": [
    {
     "data": {
      "text/plain": [
       "{1, 2, 'a'}"
      ]
     },
     "execution_count": 15,
     "metadata": {},
     "output_type": "execute_result"
    }
   ],
   "source": [
    "# 다른 자료형으로부터 set()함수를 통하여 집합으로 변환\n",
    "set((\"a\",1,2))  #숫자형(1,2)와 문자형(a)를 하나의 집합으로 변환해 출력"
   ]
  },
  {
   "cell_type": "code",
   "execution_count": 16,
   "id": "50285735",
   "metadata": {},
   "outputs": [
    {
     "data": {
      "text/plain": [
       "{'a'}"
      ]
     },
     "execution_count": 16,
     "metadata": {},
     "output_type": "execute_result"
    }
   ],
   "source": [
    "set(\"a\") #문자형(a)를 집합으로 변환해 출력"
   ]
  },
  {
   "cell_type": "code",
   "execution_count": 17,
   "id": "d3492ba6",
   "metadata": {},
   "outputs": [
    {
     "data": {
      "text/plain": [
       "{'국어', '수학', '영어', '이름'}"
      ]
     },
     "execution_count": 17,
     "metadata": {},
     "output_type": "execute_result"
    }
   ],
   "source": [
    "# 키:밸류 형태인 딕셔러니형 자료 => 집합으로 변환\n",
    "set({\"이름\":\"홍길동\", \"국어\":100, \"영어\":88, \"수학\": 95})"
   ]
  },
  {
   "cell_type": "code",
   "execution_count": 18,
   "id": "af2cd0fc",
   "metadata": {},
   "outputs": [
    {
     "data": {
      "text/plain": [
       "{1, 2, 3, 4, 5}"
      ]
     },
     "execution_count": 18,
     "metadata": {},
     "output_type": "execute_result"
    }
   ],
   "source": [
    "# 집합의 정의2\n",
    "a = {1,2,3,4,5} #집합선언\n",
    "a  #출력"
   ]
  },
  {
   "cell_type": "code",
   "execution_count": 19,
   "id": "416cb066",
   "metadata": {},
   "outputs": [
    {
     "data": {
      "text/plain": [
       "{0, 1, 2, 3, 4, 5}"
      ]
     },
     "execution_count": 19,
     "metadata": {},
     "output_type": "execute_result"
    }
   ],
   "source": [
    "# add(값) : 원소 추가시 사용\n",
    "a.add(0) #위에서 선언한 집합에 숫자 0 추가\n",
    "a #가장 작은 수라서 맨 앞에 추가됨."
   ]
  },
  {
   "cell_type": "code",
   "execution_count": 20,
   "id": "13920c28",
   "metadata": {},
   "outputs": [
    {
     "data": {
      "text/plain": [
       "{0, 1, 2, 2.4, 3, 4, 5}"
      ]
     },
     "execution_count": 20,
     "metadata": {},
     "output_type": "execute_result"
    }
   ],
   "source": [
    "a.add(2.4) #집합에 실수2.4 추가\n",
    "a #정수 2다음에 출력됨"
   ]
  },
  {
   "cell_type": "code",
   "execution_count": 21,
   "id": "b4dd4b02",
   "metadata": {},
   "outputs": [
    {
     "data": {
      "text/plain": [
       "{0, 1, 2, 2.4, 4, 5}"
      ]
     },
     "execution_count": 21,
     "metadata": {},
     "output_type": "execute_result"
    }
   ],
   "source": [
    "# remove(값) : 원소 제거시 사용함\n",
    "a.remove(3) #값 3 제거\n",
    "a #출력"
   ]
  },
  {
   "cell_type": "code",
   "execution_count": 22,
   "id": "1c3668f5",
   "metadata": {},
   "outputs": [
    {
     "data": {
      "text/plain": [
       "{1, 2, 3, 4, 5, 6, 7, 8, 9, 10}"
      ]
     },
     "execution_count": 22,
     "metadata": {},
     "output_type": "execute_result"
    }
   ],
   "source": [
    "# 집합의 연산1\n",
    "# 합집합(|), 교집합(&), 차집합(-), 배타적차집합(^)\n",
    "A = {1, 2, 3, 4, 5, 6, 7} #집합선언\n",
    "B = {7, 8, 9, 10}  #집합선언\n",
    "A|B # 합집합 출력"
   ]
  },
  {
   "cell_type": "code",
   "execution_count": 23,
   "id": "a7c1bca9",
   "metadata": {},
   "outputs": [
    {
     "data": {
      "text/plain": [
       "{7}"
      ]
     },
     "execution_count": 23,
     "metadata": {},
     "output_type": "execute_result"
    }
   ],
   "source": [
    "A&B # 교집합 출력"
   ]
  },
  {
   "cell_type": "code",
   "execution_count": 24,
   "id": "5a5851e6",
   "metadata": {},
   "outputs": [
    {
     "data": {
      "text/plain": [
       "{1, 2, 3, 4, 5, 6}"
      ]
     },
     "execution_count": 24,
     "metadata": {},
     "output_type": "execute_result"
    }
   ],
   "source": [
    "A-B # 차집합 출력"
   ]
  },
  {
   "cell_type": "code",
   "execution_count": 25,
   "id": "5a331ea5",
   "metadata": {},
   "outputs": [
    {
     "data": {
      "text/plain": [
       "False"
      ]
     },
     "execution_count": 25,
     "metadata": {},
     "output_type": "execute_result"
    }
   ],
   "source": [
    "# 집합의 연산2\n",
    "# 부등식을 사용하여 비교가 가능\n",
    "{1, 2, 3} < {1, 2} #집합 비교결과 출력"
   ]
  },
  {
   "cell_type": "code",
   "execution_count": 26,
   "id": "f6cae157",
   "metadata": {},
   "outputs": [
    {
     "data": {
      "text/plain": [
       "True"
      ]
     },
     "execution_count": 26,
     "metadata": {},
     "output_type": "execute_result"
    }
   ],
   "source": [
    "{1, 2, 3} > {1, 2} #집합 비교결과 출력"
   ]
  },
  {
   "cell_type": "code",
   "execution_count": 27,
   "id": "82673ba9",
   "metadata": {},
   "outputs": [
    {
     "data": {
      "text/plain": [
       "True"
      ]
     },
     "execution_count": 27,
     "metadata": {},
     "output_type": "execute_result"
    }
   ],
   "source": [
    "{1, 2, 3} >= {1, 2} #집합 비교결과 출력"
   ]
  },
  {
   "cell_type": "code",
   "execution_count": 28,
   "id": "bbcff85f",
   "metadata": {},
   "outputs": [
    {
     "data": {
      "text/plain": [
       "False"
      ]
     },
     "execution_count": 28,
     "metadata": {},
     "output_type": "execute_result"
    }
   ],
   "source": [
    "{1, 2, 3} == {1, 2} #집합 비교결과 출력"
   ]
  },
  {
   "cell_type": "code",
   "execution_count": 29,
   "id": "3384130b",
   "metadata": {},
   "outputs": [
    {
     "data": {
      "text/plain": [
       "True"
      ]
     },
     "execution_count": 29,
     "metadata": {},
     "output_type": "execute_result"
    }
   ],
   "source": [
    "{1, 2, 3} >= {3, 1, 2} #집합 비교결과 출력"
   ]
  },
  {
   "cell_type": "code",
   "execution_count": 30,
   "id": "e7255e65",
   "metadata": {},
   "outputs": [
    {
     "data": {
      "text/plain": [
       "True"
      ]
     },
     "execution_count": 30,
     "metadata": {},
     "output_type": "execute_result"
    }
   ],
   "source": [
    "{1, 2, 3} == {3, 1, 2} #집합 비교결과 출력"
   ]
  },
  {
   "cell_type": "code",
   "execution_count": 31,
   "id": "d98855bb",
   "metadata": {},
   "outputs": [
    {
     "data": {
      "text/plain": [
       "{0: 'a', 1: 'b', 2: 'c', 3: 'd', 4: 'e'}"
      ]
     },
     "execution_count": 31,
     "metadata": {},
     "output_type": "execute_result"
    }
   ],
   "source": [
    "# 컬렉션으로 변환1\n",
    "# 리스트 a = [\"a\", \"b\", \"c\", \"d\", \"e\"]를\n",
    "#딕셔너리 b = {1:'a', 2:'b', 3:'c', 4:'d', 5:'e'}로 변환\n",
    "a = [\"a\", \"b\", \"c\", \"d\", \"e\"] #리스트 선언\n",
    "b = {}   #빈 딕셔너리 선언\n",
    "for i in range (len(a)):    #반복 범위는 리스트a의 길이만큼\n",
    "    b[i] = a[i] #리스트 a의 값 => 딕셔너리 b의 값에 대입\n",
    "b  #b출력, 딕셔너리 b의 키는 0부터 순서대로 자동 지정됨"
   ]
  },
  {
   "cell_type": "code",
   "execution_count": 32,
   "id": "00af1c53",
   "metadata": {},
   "outputs": [
    {
     "data": {
      "text/plain": [
       "<enumerate at 0x25223b55c00>"
      ]
     },
     "execution_count": 32,
     "metadata": {},
     "output_type": "execute_result"
    }
   ],
   "source": [
    "# 컬렉션으로 변환2\n",
    "# enumerate() 함수는 요소를 0부터 차례의 숫자로 대입\n",
    "#인덱스 번호와 컬렉션의 원소(리스트의 값)를 tuple형태로 반환\n",
    "\n",
    "# 보기에서 b는 딕셔너리, c는 튜플을 원소로 가진 리스트로 변환 되었음\n",
    "a = [\"a\", \"b\", \"c\", \"d\", \"e\"] #리스트 선언\n",
    "b = enumerate(a) #0부터 숫자를 차례대로 대입\n",
    "b #딕셔너리 b출력 => 형식지정 안함."
   ]
  },
  {
   "cell_type": "code",
   "execution_count": 33,
   "id": "da843903",
   "metadata": {},
   "outputs": [
    {
     "data": {
      "text/plain": [
       "{0: 'a', 1: 'b', 2: 'c', 3: 'd', 4: 'e'}"
      ]
     },
     "execution_count": 33,
     "metadata": {},
     "output_type": "execute_result"
    }
   ],
   "source": [
    "b = dict(enumerate(a)); c = list(enumerate(a)) #딕셔너리b, 리스트c 생성\n",
    "b #딕셔너리b출력 => 01234를 키로. 값으로는 리스트a값"
   ]
  },
  {
   "cell_type": "code",
   "execution_count": 34,
   "id": "0d175bae",
   "metadata": {},
   "outputs": [
    {
     "data": {
      "text/plain": [
       "[(0, 'a'), (1, 'b'), (2, 'c'), (3, 'd'), (4, 'e')]"
      ]
     },
     "execution_count": 34,
     "metadata": {},
     "output_type": "execute_result"
    }
   ],
   "source": [
    "c #리스트 c 출력 => 튜플을 원소로 가진 리스트로 변환됨."
   ]
  },
  {
   "cell_type": "code",
   "execution_count": 35,
   "id": "4021e522",
   "metadata": {},
   "outputs": [
    {
     "data": {
      "text/plain": [
       "<zip at 0x25223b51a40>"
      ]
     },
     "execution_count": 35,
     "metadata": {},
     "output_type": "execute_result"
    }
   ],
   "source": [
    "# 컬렉션으로 변환3\n",
    "# zip은 두컬렉션(리스트, 튜플, 집합등)을 하나씩 대응관계를 만들어 줌\n",
    "# 서로의 개수가 다를때 적은 개수에 맞추어 구성\n",
    "a={1,2,3,4,5,6,7,8} # 집합 선언 => 원소 8개\n",
    "b={\"a\",\"b\",\"c\",\"d\",\"e\"} # 집합 선언 => 원소 5개\n",
    "zip(a,b) #zip만으로는 단순히 object임 => 형태지정 필요"
   ]
  },
  {
   "cell_type": "code",
   "execution_count": 36,
   "id": "acf70c04",
   "metadata": {},
   "outputs": [
    {
     "data": {
      "text/plain": [
       "{1: 'd', 2: 'a', 3: 'b', 4: 'c', 5: 'e'}"
      ]
     },
     "execution_count": 36,
     "metadata": {},
     "output_type": "execute_result"
    }
   ],
   "source": [
    "c = dict(zip(a, b)); d = list(zip(a, b)) #c는 딕셔너리, d는 리스트형 지정\n",
    "c #딕셔너리 c출력"
   ]
  },
  {
   "cell_type": "code",
   "execution_count": 37,
   "id": "38c8e67e",
   "metadata": {
    "scrolled": true
   },
   "outputs": [
    {
     "data": {
      "text/plain": [
       "[(1, 'd'), (2, 'a'), (3, 'b'), (4, 'c'), (5, 'e')]"
      ]
     },
     "execution_count": 37,
     "metadata": {},
     "output_type": "execute_result"
    }
   ],
   "source": [
    "d #리스트 d출력"
   ]
  },
  {
   "cell_type": "code",
   "execution_count": 38,
   "id": "07aa38f3",
   "metadata": {},
   "outputs": [
    {
     "data": {
      "text/plain": [
       "{1: 'a', 2: 'b', 3: 'c', 4: 'd', 5: 'e'}"
      ]
     },
     "execution_count": 38,
     "metadata": {},
     "output_type": "execute_result"
    }
   ],
   "source": [
    "a = (1, 2, 3, 4, 5, 6, 7, 8) #튜플a\n",
    "b = [\"a\", \"b\", \"c\", \"d\", \"e\"] #리스트 b\n",
    "c = dict(zip(a, b)); d = list(zip(a, b))\n",
    "c #딕셔너리 c출력"
   ]
  },
  {
   "cell_type": "code",
   "execution_count": 39,
   "id": "40e9560c",
   "metadata": {},
   "outputs": [
    {
     "data": {
      "text/plain": [
       "[(1, 'a'), (2, 'b'), (3, 'c'), (4, 'd'), (5, 'e')]"
      ]
     },
     "execution_count": 39,
     "metadata": {},
     "output_type": "execute_result"
    }
   ],
   "source": [
    "d #리스트 d출력"
   ]
  },
  {
   "cell_type": "code",
   "execution_count": 60,
   "id": "ae7a4973",
   "metadata": {},
   "outputs": [
    {
     "name": "stdout",
     "output_type": "stream",
     "text": [
      "1 d\n",
      "2 a\n",
      "3 b\n",
      "4 c\n",
      "5 e\n"
     ]
    }
   ],
   "source": [
    "#zip 다른 출력형태\n",
    "testA = {1,2,3,4,5,6,7,8}\n",
    "testB = {\"a\",\"b\",\"c\",\"d\",\"e\"}\n",
    "\n",
    "for n, p in zip(testA, testB):\n",
    "    print(n, p)"
   ]
  },
  {
   "cell_type": "code",
   "execution_count": 67,
   "id": "0568cf96",
   "metadata": {},
   "outputs": [
    {
     "name": "stdout",
     "output_type": "stream",
     "text": [
      "2\n",
      "4\n",
      "6\n"
     ]
    }
   ],
   "source": [
    "# 함수 인자에 컬렉션 값을 차례로 대입1\n",
    "# filter(함수명,인자_컬렉션)은 인자 컬렉션의 값을 하나씩 대응하여 함수를 실행함\n",
    "# filter는 인자가 하나인 경우만 가능\n",
    "def func(x): # x를 매개변수로 받는 func라는 함수 선언\n",
    "    if x % 2 == 0:   #x가 짝수면\n",
    "        return x # 짝수인 x를 반환\n",
    "\n",
    "x = (1, 2, 3, 4, 5, 6) #튜플x선언\n",
    "for i in filter(func, x):  #반복문으로 함수 시행 => func에 맞는 x를 fillter\n",
    "    print(i) #출력"
   ]
  },
  {
   "cell_type": "code",
   "execution_count": 68,
   "id": "93f97f0b",
   "metadata": {},
   "outputs": [
    {
     "name": "stdout",
     "output_type": "stream",
     "text": [
      "8\n",
      "10\n",
      "12\n",
      "14\n",
      "16\n",
      "18\n"
     ]
    }
   ],
   "source": [
    "# 함수 인자에 컬렉션 값을 차례로 대입2\n",
    "# 인자를 여러개를 전달할 경우 map함수를 사용\n",
    "\n",
    "def func(x, y): # x,y를 매개변수로 받는 func라는 함수를 생성 \n",
    "    return x + y # x + y값을 반환\n",
    "\n",
    "x = (1, 2, 3, 4, 5, 6) #튜플 선언\n",
    "y = (7, 8, 9, 10 ,11, 12) #튜플 선언\n",
    "#for i in filter(func,x,y): #filter를 사용하면 에러 => 매개변수 여러개이기때문.\n",
    "\n",
    "for i in map(func, x, y): #map사용해서 출력\n",
    "    print(i)"
   ]
  },
  {
   "cell_type": "code",
   "execution_count": 69,
   "id": "c8c94ebd",
   "metadata": {},
   "outputs": [
    {
     "name": "stdout",
     "output_type": "stream",
     "text": [
      "8\n",
      "10\n",
      "12\n",
      "14\n",
      "16\n",
      "18\n"
     ]
    }
   ],
   "source": [
    "# 함수 인자에 컬렉션 값을 차례로 대입3\n",
    "# lambda는 전달한 함수가 간단한 경우 한줄 안에 기입 가능\n",
    "# lambda 인자는 함수내용으로 한 줄에 기입 가능 \n",
    "x = (1, 2, 3, 4, 5, 6) #튜플 선언\n",
    "y = (7, 8, 9, 10, 11, 12) #튜플 선언\n",
    "for i in map(lambda x,y:x+y, x,y): # lambda를 사용해서 한줄로 기입\n",
    "    print(i) #출력"
   ]
  },
  {
   "cell_type": "code",
   "execution_count": 70,
   "id": "55b2dfa8",
   "metadata": {},
   "outputs": [
    {
     "data": {
      "text/plain": [
       "[1, 2, 5]"
      ]
     },
     "execution_count": 70,
     "metadata": {},
     "output_type": "execute_result"
    }
   ],
   "source": [
    "# 컬렉션 주의사항1\n",
    "#copy!!\n",
    "a = [1, 2, 3] #리스트 선언\n",
    "b = a #b에 리스트 a copy => 서로 영향 줌.\n",
    "b[2] = 5   #b의 인덱스 2번 값을 5로 변경\n",
    "a #a의 인덱스 2번 값도 변경됨"
   ]
  },
  {
   "cell_type": "code",
   "execution_count": 44,
   "id": "708f5be2",
   "metadata": {},
   "outputs": [
    {
     "data": {
      "text/plain": [
       "[1, 2, 5]"
      ]
     },
     "execution_count": 44,
     "metadata": {},
     "output_type": "execute_result"
    }
   ],
   "source": [
    "b #리스트 b출력"
   ]
  },
  {
   "cell_type": "code",
   "execution_count": 71,
   "id": "caae6105",
   "metadata": {},
   "outputs": [
    {
     "data": {
      "text/plain": [
       "[1, 3, 5]"
      ]
     },
     "execution_count": 71,
     "metadata": {},
     "output_type": "execute_result"
    }
   ],
   "source": [
    "b[1] = 3  #b의 인덱스 1번 값을 3으로 변경\n",
    "a #a의 인덱스 값도 변경됨"
   ]
  },
  {
   "cell_type": "code",
   "execution_count": 75,
   "id": "ced1f7c9",
   "metadata": {},
   "outputs": [
    {
     "name": "stdout",
     "output_type": "stream",
     "text": [
      "[1, 2, 3]\n"
     ]
    },
    {
     "data": {
      "text/plain": [
       "[1, 2, 5]"
      ]
     },
     "execution_count": 75,
     "metadata": {},
     "output_type": "execute_result"
    }
   ],
   "source": [
    "# 컬렉션 주의사항2\n",
    "# copy : 컬렉션을 대입하면 컬렉션의 값이 복사되는 것이 아니라 주소가 복사됨\n",
    "# 대입된 컬렉션을 변경하면 원 컬렉션도 변경됨\n",
    "# 이때는 b = a[:] 또는 b = a.copy()를 사용(옅은 복사)\n",
    "a = [1, 2, 3] #리스트 선언\n",
    "b = a[:] #b에 리스트 a 옅은 복사!\n",
    "b[2] = 5 #b의 인덱스 2번 값을 5로 변경\n",
    "print(a);b #a,b출력 => 변경한 애만 변경"
   ]
  },
  {
   "cell_type": "code",
   "execution_count": 76,
   "id": "3ff3d540",
   "metadata": {},
   "outputs": [
    {
     "name": "stdout",
     "output_type": "stream",
     "text": [
      "[1, 2, 3]\n"
     ]
    },
    {
     "data": {
      "text/plain": [
       "[1, 2, 5]"
      ]
     },
     "execution_count": 76,
     "metadata": {},
     "output_type": "execute_result"
    }
   ],
   "source": [
    "a = [1, 2, 3] #리스트 선언\n",
    "b = a.copy() #b에 리스트 a 옅은 복사!\n",
    "b[2] = 5 #b의 인덱스 2번 값을 5로 변경\n",
    "print(a);b #a,b출력 => 변경한 애만 변경"
   ]
  },
  {
   "cell_type": "code",
   "execution_count": 77,
   "id": "ac889c21",
   "metadata": {},
   "outputs": [
    {
     "data": {
      "text/plain": [
       "[[1, 2], 3, 4]"
      ]
     },
     "execution_count": 77,
     "metadata": {},
     "output_type": "execute_result"
    }
   ],
   "source": [
    "# 컬렉션 주의사항3\n",
    "# deepcopy\n",
    "# 컬렉션 안에 컬렉션이 있을때 copy를 사용시 첫번째 컬렉션만 복사\n",
    "a = [[1, 2], 3, 4] #리스트 선언\n",
    "b = a.copy() #옅은 복사\n",
    "b #출력"
   ]
  },
  {
   "cell_type": "code",
   "execution_count": 78,
   "id": "73031791",
   "metadata": {},
   "outputs": [
    {
     "data": {
      "text/plain": [
       "[[1, 3], 3, 4]"
      ]
     },
     "execution_count": 78,
     "metadata": {},
     "output_type": "execute_result"
    }
   ],
   "source": [
    "b[0][1] = 3  #리스트b의 인덱스 0번 배열의 인덱스 1값을 3으로 변경\n",
    "b #출력"
   ]
  },
  {
   "cell_type": "code",
   "execution_count": 79,
   "id": "d9cf4cea",
   "metadata": {},
   "outputs": [
    {
     "data": {
      "text/plain": [
       "[[1, 3], 3, 4]"
      ]
     },
     "execution_count": 79,
     "metadata": {},
     "output_type": "execute_result"
    }
   ],
   "source": [
    "#옅은복사로 a값이 변경되면 안됨.\n",
    "#컬렉션안에 컬렉션이 있는경우 copy로는 2레벨이상의 리스트까지 복사되지 않는다\n",
    "#리스트안의 리스트는 완전히 복제하지 못해서 값 변경되버림.\n",
    "a"
   ]
  },
  {
   "cell_type": "code",
   "execution_count": 80,
   "id": "c2fcdf12",
   "metadata": {},
   "outputs": [
    {
     "data": {
      "text/plain": [
       "[[1, 2], 3, 4]"
      ]
     },
     "execution_count": 80,
     "metadata": {},
     "output_type": "execute_result"
    }
   ],
   "source": [
    "a = [[1, 2], 3, 4] #리스트 선언\n",
    "b = a[:] #옅은 복사\n",
    "b #출력"
   ]
  },
  {
   "cell_type": "code",
   "execution_count": 81,
   "id": "0125c6bf",
   "metadata": {},
   "outputs": [
    {
     "data": {
      "text/plain": [
       "[[1, 3], 3, 4]"
      ]
     },
     "execution_count": 81,
     "metadata": {},
     "output_type": "execute_result"
    }
   ],
   "source": [
    "# b = a[:]도 copy와 마찬가지로 리스트안의 리스트는 완전히 복제하지 못해서 값 변경되버림.\n",
    "b[0][1] = 3\n",
    "a"
   ]
  },
  {
   "cell_type": "code",
   "execution_count": 82,
   "id": "6a90ca22",
   "metadata": {},
   "outputs": [
    {
     "name": "stdout",
     "output_type": "stream",
     "text": [
      "[[1, 2], 3, 4] [[1, 3], 3, 4]\n"
     ]
    }
   ],
   "source": [
    "# 컬렉션 주의사항4\n",
    "# deepcopy2\n",
    "# 아래 레벨의 모든 컬렉션을 복사할 경우 deepcopy를 사용\n",
    "# import copy를 정의하여 가져다 deepcopy를 사용\n",
    "import copy as c # import copy로 라이브러리 사용\n",
    "a = [[1, 2], 3, 4] #리스트 선언\n",
    "b = c.deepcopy(a) #깊은복사!!!!!!!!!\n",
    "b[0][1] = 3  #리스트b의 인덱스 0번 배열의 인덱스 1값을 3으로 변경\n",
    "print(a, b) #출력 => b만 바뀜"
   ]
  },
  {
   "cell_type": "code",
   "execution_count": null,
   "id": "cd05216b",
   "metadata": {},
   "outputs": [],
   "source": [
    "#끝끝끝~~~~"
   ]
  }
 ],
 "metadata": {
  "kernelspec": {
   "display_name": "Python 3 (ipykernel)",
   "language": "python",
   "name": "python3"
  },
  "language_info": {
   "codemirror_mode": {
    "name": "ipython",
    "version": 3
   },
   "file_extension": ".py",
   "mimetype": "text/x-python",
   "name": "python",
   "nbconvert_exporter": "python",
   "pygments_lexer": "ipython3",
   "version": "3.8.8rc1"
  }
 },
 "nbformat": 4,
 "nbformat_minor": 5
}
