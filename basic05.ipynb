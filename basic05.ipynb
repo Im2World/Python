{
 "cells": [
  {
   "cell_type": "code",
   "execution_count": 1,
   "id": "66cc47a1",
   "metadata": {},
   "outputs": [
    {
     "name": "stdout",
     "output_type": "stream",
     "text": [
      "이름이 뭐니?정혜임\n",
      "주인님 어서오십시요~!\n"
     ]
    }
   ],
   "source": [
    "#파이썬 기초5강\n",
    "#if조건문\n",
    "name = input(\"이름이 뭐니?\") #괄호 안 메시지 출력하고, name의 값을 사용자로부터 입력받음.\n",
    "if name == \"정혜임\" : #변수 name에 입력받은 값이 \"정혜임\"이면,\n",
    "    print(\"주인님 어서오십시요~!\") #메시지 출력"
   ]
  },
  {
   "cell_type": "code",
   "execution_count": 2,
   "id": "e9f4ce95",
   "metadata": {},
   "outputs": [
    {
     "name": "stdout",
     "output_type": "stream",
     "text": [
      "성별이 어떻게 되나요?여자\n",
      "가방이 멋지네요.\n"
     ]
    }
   ],
   "source": [
    "#if-else문\n",
    "name = input(\"성별이 어떻게 되나요?\") #괄호 안 메시지 출력하고, name의 값을 사용자로부터 입력받음.\n",
    "if name == \"여자\" : #변수 name에 입력받은 값이 \"여자\"이면,\n",
    "    print(\"가방이 멋지네요.\") #메시지 출력\n",
    "else: #여자가 아니면,\n",
    "    print(\"넥타이가 잘어울립니다.\") #메시지 출력"
   ]
  },
  {
   "cell_type": "code",
   "execution_count": 3,
   "id": "845ee8ba",
   "metadata": {},
   "outputs": [
    {
     "name": "stdout",
     "output_type": "stream",
     "text": [
      "얼마를 구매하셨나요?100\n",
      "면세입니다.\n"
     ]
    }
   ],
   "source": [
    "#if문 수치비교\n",
    "price = int(input(\"얼마를 구매하셨나요?\")) #괄호 안 메시지 출력하고, prince 값을 사용자로부터 입력받음. => 정수형\n",
    "if price < 10000 : #10000 미만이면\n",
    "    print(\"면세입니다.\") #메시지 출력\n",
    "else: #10000이상이면\n",
    "    print(\"세금은 10%입니다.\") #메시지 출력"
   ]
  },
  {
   "cell_type": "code",
   "execution_count": 5,
   "id": "f52dd06f",
   "metadata": {},
   "outputs": [],
   "source": [
    "#비교, 논리 연산자\n",
    "#수치비교\n",
    "a=100 #변수 a에 값 100대입"
   ]
  },
  {
   "cell_type": "code",
   "execution_count": 6,
   "id": "28b0d368",
   "metadata": {},
   "outputs": [],
   "source": [
    "if (a==99): print(\"a는 99입니다\") #a가 99면, 메시지 출력"
   ]
  },
  {
   "cell_type": "code",
   "execution_count": 7,
   "id": "91c3d2b3",
   "metadata": {},
   "outputs": [
    {
     "name": "stdout",
     "output_type": "stream",
     "text": [
      "a는 100입니다\n"
     ]
    }
   ],
   "source": [
    "if (a==100): print(\"a는 100입니다\") #a가 100이면, 메시지 출력"
   ]
  },
  {
   "cell_type": "code",
   "execution_count": 8,
   "id": "d349b786",
   "metadata": {},
   "outputs": [
    {
     "name": "stdout",
     "output_type": "stream",
     "text": [
      "a는 100이상입니다\n"
     ]
    }
   ],
   "source": [
    "if (a>=100): print(\"a는 100이상입니다\") #a가 100이상이면, 메시지 출력"
   ]
  },
  {
   "cell_type": "code",
   "execution_count": 9,
   "id": "181723b7",
   "metadata": {},
   "outputs": [],
   "source": [
    "if (a<100): print(\"a는 100미만입니다\") #a가 100미만이면, 메시지 출력"
   ]
  },
  {
   "cell_type": "code",
   "execution_count": 11,
   "id": "9f67e9bd",
   "metadata": {},
   "outputs": [],
   "source": [
    "#비교, 논리 연산자\n",
    "#문자비교\n",
    "a=\"abc\" #변수 a에 문자 abc 대입"
   ]
  },
  {
   "cell_type": "code",
   "execution_count": 12,
   "id": "ef82dae1",
   "metadata": {},
   "outputs": [
    {
     "name": "stdout",
     "output_type": "stream",
     "text": [
      "abc이다\n"
     ]
    }
   ],
   "source": [
    "if(a == \"abc\"): print(\"abc이다\") #a가 abc면, 메시지 출력"
   ]
  },
  {
   "cell_type": "code",
   "execution_count": 13,
   "id": "406a9516",
   "metadata": {},
   "outputs": [],
   "source": [
    "if(a > \"abc\"): print(\"abc보다 큰문자이다\") #a가 abc보다 크면, 메시지 출력=>미수행"
   ]
  },
  {
   "cell_type": "code",
   "execution_count": 14,
   "id": "4e90ec9b",
   "metadata": {},
   "outputs": [],
   "source": [
    "a=\"abd\"  #변수 a에 문자 abd 대입"
   ]
  },
  {
   "cell_type": "code",
   "execution_count": 15,
   "id": "1030036f",
   "metadata": {},
   "outputs": [
    {
     "name": "stdout",
     "output_type": "stream",
     "text": [
      "abc보다 큰문자이다\n"
     ]
    }
   ],
   "source": [
    "if(a > \"abc\"): print(\"abc보다 큰문자이다\") #a가 abc보다 크면, 메시지 출력"
   ]
  },
  {
   "cell_type": "code",
   "execution_count": 16,
   "id": "1b62502c",
   "metadata": {},
   "outputs": [],
   "source": [
    "a=\"abb\" #a에 abb 입력"
   ]
  },
  {
   "cell_type": "code",
   "execution_count": 17,
   "id": "b467013c",
   "metadata": {},
   "outputs": [],
   "source": [
    "if(a > \"abc\"): print(\"abc보다 큰문자이다\") #a가 abc보다 크면, 메시지 출력=>미수행"
   ]
  },
  {
   "cell_type": "code",
   "execution_count": 18,
   "id": "9aa1cc79",
   "metadata": {},
   "outputs": [
    {
     "name": "stdout",
     "output_type": "stream",
     "text": [
      "점수를 입력하세요!95\n",
      "학점은 A입니다.\n"
     ]
    }
   ],
   "source": [
    "#논리연산자 - 학점판단\n",
    "#범위 지정할 때 0 <= x and x < 60   이렇게 사용!\n",
    "x = int(input(\"점수를 입력하세요!\")) #괄호 안 메시지 출력하고, x 값 입력받음.(정수형)\n",
    "if 0 <= x and x < 60 : print(\"학점은 F입니다.\") #x가 0이상 60미만=> 메시지 출력\n",
    "if 60 <= x and x < 70 : print(\"학점은 D입니다.\") #x가 60이상 70미만=> 메시지 출력\n",
    "if 70 <= x and x < 80 : print(\"학점은 C입니다.\") #x가 70이상 80미만=> 메시지 출력\n",
    "if 80 <= x and x < 90 : print(\"학점은 B입니다.\") #x가 80이상 90미만=> 메시지 출력\n",
    "if 90 <= x and x <= 100 : print(\"학점은 A입니다.\") #x가 90이상 100이하=> 메시지 출력"
   ]
  },
  {
   "cell_type": "code",
   "execution_count": 19,
   "id": "3c6d05a0",
   "metadata": {},
   "outputs": [
    {
     "name": "stdout",
     "output_type": "stream",
     "text": [
      "영문 알파벳 한글자를 입력하셔요?a\n",
      "소문자 입니다.\n"
     ]
    }
   ],
   "source": [
    "#논리연산자 - 문자열 비교\n",
    "x = input(\"영문 알파벳 한글자를 입력하셔요?\")  #괄호 안 메시지 출력하고, x 값 입력받음.(문자형)\n",
    "if \"a\" <= x and x <= \"z\" : print(\"소문자 입니다.\") #x가 소문자면 => 메시지 출력\n",
    "if \"A\" <= x and x <= \"Z\" : print(\"대문자 입니다.\") #x가 대문자면 => 메시지 출력"
   ]
  },
  {
   "cell_type": "code",
   "execution_count": 20,
   "id": "e4d7affa",
   "metadata": {},
   "outputs": [],
   "source": [
    "#if문의 블록구조 - 들여쓰기중요(tab)\n",
    "a=100 #변수 a에 값 100대입"
   ]
  },
  {
   "cell_type": "code",
   "execution_count": 21,
   "id": "eaa2ddf2",
   "metadata": {},
   "outputs": [
    {
     "ename": "IndentationError",
     "evalue": "unexpected indent (3559023578.py, line 3)",
     "output_type": "error",
     "traceback": [
      "\u001b[1;36m  Input \u001b[1;32mIn [21]\u001b[1;36m\u001b[0m\n\u001b[1;33m    a = a - 50 #블록이 안맞아서 오류 발생!\u001b[0m\n\u001b[1;37m    ^\u001b[0m\n\u001b[1;31mIndentationError\u001b[0m\u001b[1;31m:\u001b[0m unexpected indent\n"
     ]
    }
   ],
   "source": [
    "if a>50: #a가 50초과면\n",
    "    print(\"50보다 큰 수는 50을 빼겠습니다.\") #메시지 출력\n",
    "        a = a - 50 #블록이 안맞아서 오류 발생!"
   ]
  },
  {
   "cell_type": "code",
   "execution_count": 22,
   "id": "62c8f721",
   "metadata": {},
   "outputs": [
    {
     "name": "stdout",
     "output_type": "stream",
     "text": [
      "50보다 큰 수는 50을 빼겠습니다.\n"
     ]
    }
   ],
   "source": [
    "if a>50: #a가 50초과면\n",
    "    print(\"50보다 큰 수는 50을 빼겠습니다.\") #메시지 출력\n",
    "    a = a - 50 #a의 값 100에서 -50한 값을 변수 a에 다시 대입 <블록맞춤>"
   ]
  },
  {
   "cell_type": "code",
   "execution_count": 23,
   "id": "2a7a69b4",
   "metadata": {},
   "outputs": [
    {
     "name": "stdout",
     "output_type": "stream",
     "text": [
      "50\n"
     ]
    }
   ],
   "source": [
    "print(a) #메시지 출력"
   ]
  },
  {
   "cell_type": "code",
   "execution_count": 24,
   "id": "d25ad9b5",
   "metadata": {},
   "outputs": [
    {
     "name": "stdout",
     "output_type": "stream",
     "text": [
      "점수를 입력하세요!(0~100)88\n",
      "학점은 B입니다\n"
     ]
    }
   ],
   "source": [
    "#elif문 이용한 학점계산\n",
    "x=int(input(\"점수를 입력하세요!(0~100)\")) #괄호 안 메시지 출력하고, x 값 입력받음.(문자형)\n",
    "if x >= 90: print (\"학점은 A입니다\") #90 이상이면 => 메시지 출력\n",
    "elif x >= 80: print (\"학점은 B입니다\") #80 이상이면 => 메시지 출력\n",
    "elif x >= 70: print (\"학점은 C입니다\") #70 이상이면 => 메시지 출력\n",
    "elif x >= 60: print (\"학점은 D입니다\") #60 이상이면 => 메시지 출력\n",
    "else: print (\"학점은 F입니다\") # 위에 해당 안된다면 => 메시지 출력"
   ]
  },
  {
   "cell_type": "code",
   "execution_count": 25,
   "id": "70d39843",
   "metadata": {},
   "outputs": [
    {
     "name": "stdout",
     "output_type": "stream",
     "text": [
      "숫자를 입력하셔요?11\n",
      "3의 배수가 아닌 홀수입니다\n"
     ]
    }
   ],
   "source": [
    "#중첩 if문\n",
    "x=int(input(\"숫자를 입력하셔요?\")) #괄호 안 메시지 출력하고, x 값 입력받음.(문자형)\n",
    "if x % 2 == 0: #조건1 : x가 2로 나누어 떨어지고,\n",
    "    if x%4==0: #조건1 + 조건2 : 4 로도 나누어 떨어지면\n",
    "        print(\"4의 배수인 짝수입니다(당연히 짝수)\") #메시지 출력\n",
    "    else: #조건1 + 조건3 : 2로 나눠 떨어지지만, 4로는 나눠떨어지지 않으면\n",
    "        print(\"4의 배수가 아닌 짝수입니다\"); #메시지 출력\n",
    "elif x%3==0: #조건4 : x가 2로 나눠 떨어지지않고, 3으로 나누어 떨어지면\n",
    "    print(\"3의 배수인 홀수 입니다\") #메시지 출력\n",
    "else: #조건1, 조건4가 아니라면\n",
    "    print (\"3의 배수가 아닌 홀수입니다\") #메시지 출력"
   ]
  },
  {
   "cell_type": "code",
   "execution_count": 39,
   "id": "49828ef2",
   "metadata": {},
   "outputs": [
    {
     "name": "stdout",
     "output_type": "stream",
     "text": [
      "------------------------------------------------\n",
      "총금액: 1000000 원\n",
      "달러환율: 1010.12  $        은행수수료: 1996  원\n",
      "지급달러: 988 $             거스름돈: 5  원\n",
      "------------------------------------------------\n"
     ]
    }
   ],
   "source": [
    "#심화실습\n",
    "#조건 : 100만원을 달러로 환전, 1달러당  환율 1010,12원, 달러당 수수료 0.002%\n",
    "#100만원 환전시 받은 달러금액, 은행 수수료, 한화 거스름돈?\n",
    "\n",
    "#1단계: 변수선언\n",
    "won = 1000000 #환전할 원화 금액 : 100만원\n",
    "exRate = 1010.12 #exchange rate, 1달러 당 환율\n",
    "bankRate = 0.002 #은행수수료비율 0.002%\n",
    "usd = int(won / (exRate * (1 + bankRate))) # 지급할 달러 계산(은행 수수료 포함)\n",
    "commission = ((usd * exRate) * bankRate) #은행 수수료 계산할 변수\n",
    "\n",
    "#2단계: 은행수수료 계산\n",
    "if(commission%1 != 0): #commission이 소수점이하 값이 있으면, => 은행 수수료는 올림처리!\n",
    "    commission = int(commission) + 1   #정수형 변환 후 일의 자리 올림처리 (올림위해 +1)\n",
    "else: #소수점이하 값 없으면\n",
    "    commission = int(commission)    #정수형 처리\n",
    "\n",
    "#3단계: 환전 후 잔돈 계산\n",
    "#거스름돈은 일의자리까지만 반환해줌. => 정수형으로 형변환\n",
    "#거스름돈 : 환전할 원화금액 - {(지급할 달러 * 달러당 환율) + 은행 수수료}\n",
    "remain = int(won - ((usd * exRate) + commission)) \n",
    "\n",
    "#출력\n",
    "print(\"------------------------------------------------\")\n",
    "print(\"총금액:\",won,\"원\")\n",
    "print(\"달러환율:\", exRate,\" $\",\"       은행수수료:\",commission,\" 원\")\n",
    "print(\"지급달러:\",usd,\"$\",\"            거스름돈:\", remain,\" 원\")\n",
    "print(\"------------------------------------------------\")"
   ]
  }
 ],
 "metadata": {
  "kernelspec": {
   "display_name": "Python 3 (ipykernel)",
   "language": "python",
   "name": "python3"
  },
  "language_info": {
   "codemirror_mode": {
    "name": "ipython",
    "version": 3
   },
   "file_extension": ".py",
   "mimetype": "text/x-python",
   "name": "python",
   "nbconvert_exporter": "python",
   "pygments_lexer": "ipython3",
   "version": "3.8.8rc1"
  }
 },
 "nbformat": 4,
 "nbformat_minor": 5
}
