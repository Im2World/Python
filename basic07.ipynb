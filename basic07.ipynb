{
 "cells": [
  {
   "cell_type": "code",
   "execution_count": 1,
   "id": "ddcd162d",
   "metadata": {},
   "outputs": [
    {
     "name": "stdout",
     "output_type": "stream",
     "text": [
      "별10개 찍기\n",
      "**********\n",
      "\n",
      "별3개 찍기\n",
      "***\n",
      "\n",
      "별5개 찍기\n",
      "*****\n",
      "\n"
     ]
    }
   ],
   "source": [
    "#파이썬기초07강 - 함수\n",
    "#함수의 정의\n",
    "#함수 미사용시 반복문\n",
    "print(\"별10개 찍기\") #메시지 출력\n",
    "for i in range(10): #변수 i는 0~9까지 반복\n",
    "    print(\"*\",end=\"\") #for문으로 한 줄에 별 출력\n",
    "print(\"\\n\") #줄바꿈\n",
    "\n",
    "print(\"별3개 찍기\") #메시지 출력\n",
    "for i in range(3): #변수 i는 0~2까지 반복\n",
    "    print(\"*\",end=\"\") #for문으로 한 줄에 별 출력\n",
    "print(\"\\n\") #줄바꿈\n",
    "\n",
    "print(\"별5개 찍기\") #메시지 출력\n",
    "for i in range(5): #변수 i는 0~4까지 반복\n",
    "    print(\"*\",end=\"\") #for문으로 한 줄에 별 출력\n",
    "print(\"\\n\") #줄바꿈"
   ]
  },
  {
   "cell_type": "code",
   "execution_count": 2,
   "id": "f60b04cc",
   "metadata": {},
   "outputs": [
    {
     "name": "stdout",
     "output_type": "stream",
     "text": [
      "별10개 찍기\n",
      "**********\n",
      "\n",
      "별3개 찍기\n",
      "***\n",
      "\n",
      "별5개 찍기\n",
      "*****\n",
      "\n"
     ]
    }
   ],
   "source": [
    "#위 코드를 함수 정의 후 사용\n",
    "#함수 정의\n",
    "def starprint(n): #함수 선언=> 함수명 starprint => 매개변수(인수) n\n",
    "    for i in range(n): #변수 i는 0~(n-1)까지 반복\n",
    "        print(\"*\",end=\"\") #for문으로 한 줄에 별 출력\n",
    "    print(\"\\n\") #줄바꿈\n",
    "    \n",
    "#함수사용\n",
    "print(\"별10개 찍기\");starprint(10) #매개변수 n에 10 넣고 함수 실행\n",
    "print(\"별3개 찍기\");starprint(3) #매개변수 n에 3 넣고 함수 실행\n",
    "print(\"별5개 찍기\");starprint(5) #매개변수 n에 5 넣고 함수 실행"
   ]
  },
  {
   "cell_type": "code",
   "execution_count": 3,
   "id": "f01178d2",
   "metadata": {},
   "outputs": [
    {
     "name": "stdout",
     "output_type": "stream",
     "text": [
      "1~10까지의 합: 55\n",
      "1~1000까지의 합: 500500\n",
      "1~10000까지의 합: 50005000\n"
     ]
    }
   ],
   "source": [
    "#함수의 정의\n",
    "def intsum(n): #함수 선언=> 함수명 intsum => 매개변수(인수) n\n",
    "    sum=0; #변수 sum 에 0 대입\n",
    "    for i in range(1,n+1,1): #변수 i는 1~n까지 1씩 증가하며 반복\n",
    "        sum+=i #sum은 sum + i => (1,3,6,10 ...) \n",
    "    return sum #sum을 반환 => sum = 0에 sum+=i 의 계산 결과 값을 반환해준다. \n",
    "\n",
    "#함수사용\n",
    "print(\"1~10까지의 합:\",intsum(10)) #1부터 10까지 합 츨력\n",
    "print(\"1~1000까지의 합:\",intsum(1000)) #1부터 1000까지 합 츨력\n",
    "print(\"1~10000까지의 합:\",intsum(10000)) #1부터 10000까지 합 츨력"
   ]
  },
  {
   "cell_type": "code",
   "execution_count": 4,
   "id": "a25df1a2",
   "metadata": {},
   "outputs": [
    {
     "name": "stdout",
     "output_type": "stream",
     "text": [
      "1~10까지의 합: 55\n",
      "100~1000까지의 합: 495550\n",
      "5000~10000까지의 합: 37507500\n"
     ]
    }
   ],
   "source": [
    "#함수의 정의2 - 매개변수2개\n",
    "#함수선언\n",
    "def intsum(x,y):  #함수 선언=> 함수명 intsum => 매개변수(인수) x,y\n",
    "    sum=0;  #변수 sum 에 0 대입\n",
    "    for i in range(x,y+1,1):  #변수 i는 x~y까지 1씩 증가하며 반복\n",
    "        sum+=i #sum은 sum + i \n",
    "    return sum #sum+=i 의 계산 결과 값을 반환\n",
    "\n",
    "#함수사용\n",
    "print(\"1~10까지의 합:\",intsum(1,10)) #1부터 10까지 합 츨력\n",
    "print(\"100~1000까지의 합:\",intsum(100,1000)) #100부터 1000까지 합 츨력\n",
    "print(\"5000~10000까지의 합:\",intsum(5000,10000)) #5000부터 10000까지 합 츨력"
   ]
  },
  {
   "cell_type": "code",
   "execution_count": 5,
   "id": "9f80725a",
   "metadata": {},
   "outputs": [
    {
     "name": "stdout",
     "output_type": "stream",
     "text": [
      "1~10까지의 합에 5를 더함: 60\n",
      "100~1000까지의 합에 33을 곱함: 16353150\n"
     ]
    }
   ],
   "source": [
    "#return값\n",
    "#함수선언\n",
    "def intsum(x,y):  #함수 선언=> 함수명 intsum => 매개변수(인수) x,y\n",
    "    sum=0;  #변수 sum 에 0 대입\n",
    "    for i in range(x,y+1,1):  #변수 i는 x~y까지 1씩 증가하며 반복\n",
    "        sum+=i #sum은 sum + i \n",
    "    return sum #sum+=i 의 계산 결과 값을 반환\n",
    "\n",
    "#함수사용\n",
    "print(\"1~10까지의 합에 5를 더함:\",intsum(1,10)+5) #1부터 10까지 합에 5 더한 값 출력\n",
    "i=intsum(100,1000)*33 #100부터 1000까지의 합에 33 곱한 값 출력\n",
    "print(\"100~1000까지의 합에 33을 곱함:\",i) #위 i값 출력"
   ]
  },
  {
   "cell_type": "code",
   "execution_count": 6,
   "id": "2d3b83db",
   "metadata": {},
   "outputs": [
    {
     "name": "stdout",
     "output_type": "stream",
     "text": [
      "함수내부에서 sum값을 출력: 495550\n",
      "100~1000까지의 합: None\n",
      "100~1000까지의 합에 33을 곱함: None\n"
     ]
    }
   ],
   "source": [
    "#return값 없는 예제\n",
    "#함수선언\n",
    "def intsum(x,y):  #함수 선언=> 함수명 intsum => 매개변수(인수) x,y\n",
    "    sum=0;  #변수 sum 에 0 대입\n",
    "    for i in range(x,y+1,1):  #변수 i는 x~y까지 1씩 증가하며 반복\n",
    "        sum+=i #sum은 sum + i \n",
    "    print(\"함수내부에서 sum값을 출력:\",sum)  #sum+=i 의 계산 결과 값 출력\n",
    "\n",
    "#함수사용\n",
    "i=intsum(100,1000) #i에 리턴값이 없는 함수대입 => 리턴값 없어서 리턴값에 None들어가 있음 => None출력\n",
    "print(\"100~1000까지의 합:\",i) #i 출력 => i는 계속 None\n",
    "print(\"100~1000까지의 합에 33을 곱함:\",i) #i 출력 => i는 계속 None"
   ]
  },
  {
   "cell_type": "code",
   "execution_count": 7,
   "id": "17be66d9",
   "metadata": {},
   "outputs": [],
   "source": [
    "#pass\n",
    "#학급성적표 출력예제\n",
    "#함수들에 내용을 작성하지 않고, 우선 틀만 작성해서 pass로 내용을 채움.\n",
    "#함수 하나씩 완성해서 테스트\n",
    "def titleprint(): #함수 선언\n",
    "    pass\n",
    "\n",
    "def itemprint(name,kor,eng,mat): #함수 선언(인수4개)\n",
    "    pass\n",
    "    \n",
    "def tailprint(): #함수를 선언\n",
    "    pass\n",
    "\n",
    "#데이터 입력\n",
    "cname=[\"나연\",\"정연\",\"모모\",\"사나\",\"지효\",\"미나\",\"다현\",\"채영\",\"쯔위\"]\n",
    "ckor=[100, 90, 90, 100, 80, 80, 70, 80, 80]\n",
    "ceng=[90, 70, 100, 100, 70, 70, 60, 90, 90]\n",
    "cmat=[90, 80, 70, 100, 90, 90, 100, 90, 80]\n",
    "\n",
    "#프로그램 실행\n",
    "titleprint()\n",
    "for i in range(9):\n",
    "    itemprint(cname[i],ckor[i],ceng[i],cmat[i])\n",
    "    \n",
    "tailprint()"
   ]
  },
  {
   "cell_type": "code",
   "execution_count": 2,
   "id": "4e4cdc1e",
   "metadata": {},
   "outputs": [
    {
     "name": "stdout",
     "output_type": "stream",
     "text": [
      "==================================================\n",
      "이름\t국어\t영어\t수학\t총점\t평균\n",
      "==================================================\n",
      "나연 \t 100 \t 90 \t 90 \t 280 \t 93\n",
      "정연 \t 90 \t 70 \t 80 \t 240 \t 80\n",
      "모모 \t 90 \t 100 \t 70 \t 260 \t 86\n",
      "사나 \t 100 \t 100 \t 100 \t 300 \t 100\n",
      "지효 \t 80 \t 70 \t 90 \t 240 \t 80\n",
      "미나 \t 80 \t 70 \t 90 \t 240 \t 80\n",
      "다현 \t 70 \t 60 \t 100 \t 230 \t 76\n",
      "채영 \t 80 \t 90 \t 90 \t 260 \t 86\n",
      "쯔위 \t 80 \t 90 \t 80 \t 250 \t 83\n",
      "==================================================\n",
      "반총점\t 770 \t 740 \t 790 \t 2300 \t 85.0\n",
      "==================================================\n"
     ]
    }
   ],
   "source": [
    "#pass\n",
    "#**********학급성적표 출력예제***********\n",
    "#각 함수들 내용을 채웠다.\n",
    "def titleprint(): #함수 선언\n",
    "    print(\"=\"*50) #구분선으로 \"=\" 50개 출력\n",
    "    print(\"이름\\t국어\\t영어\\t수학\\t총점\\t평균\") #이름, 과목별 성적, 총점, 평균을 tab으로 칸 나눔\n",
    "    print(\"=\"*50) #구분선으로 \"=\" 50개 출력\n",
    "    \n",
    "#함수선언(인수4개)\n",
    "#인수로 받아온 이름 국어,영어,수학 성적과 성적 합계, 성적 평균 계산 후 출력하는 함수\n",
    "def itemprint(name,kor,eng,mat):\n",
    "    print(name,\"\\t\",kor,\"\\t\",eng,\"\\t\",mat,\"\\t\",kor+eng+mat,\"\\t\",(kor+eng+mat)//3)\n",
    "    \n",
    "#함수선언\n",
    "#각 과목별 성적 합계, 성적 총점 계산\n",
    "def tailprint():\n",
    "    totkor=0 #국어성적 합계 변수 선언 및 값 0으로 초기화 \n",
    "    for i in ckor: #국어 배열을 돌면서 성적 합계 계산\n",
    "        totkor+=i   #반복문 돌면서 불러온 국어성적(ckor)을 i에 대입해 국어성적 총합계산\n",
    "        \n",
    "    toteng=0 #영어성적 합계 변수 선언 및 값 0으로 초기화 \n",
    "    for i in ceng: #영어 배열을 돌면서 성적 합계 계산\n",
    "        toteng+=i   #반복문 돌면서 불러온 영어성적(ceng)을 i에 대입해 영어성적 총합계산\n",
    "        \n",
    "    totmat=0 #수학성적 합계 변수 선언 및 값 0으로 초기화 \n",
    "    for i in cmat: #수학 배열을 돌면서 성적 합계 계산\n",
    "        totmat+=i   #반복문 돌면서 불러온 수학성적(cmat)을 i에 대입해 수학성적 총합계산\n",
    "    print(\"=\"*50) #구분선으로 \"=\" 50개 출력\n",
    "    \n",
    "    #반 인원의 성적 총점 계산\n",
    "    print(\"반총점\\t\",totkor,\"\\t\",toteng,\"\\t\",totmat,\"\\t\" \\\n",
    "        ,(totkor+toteng+totmat),\"\\t\",(totkor+toteng+totmat)/3//9)   \n",
    "            #(totkor+toteng+totmat)/3 = 과목총점/3 = 3 과목평균=> 3 과목평균//9 => 3 과목평균을 학생수로 나눈 몫\n",
    "    print(\"=\"*50) #구분선으로 \"=\" 50개 출력\n",
    "\n",
    "#데이터 입력\n",
    "cname=[\"나연\",\"정연\",\"모모\",\"사나\",\"지효\",\"미나\",\"다현\",\"채영\",\"쯔위\"]\n",
    "ckor=[100, 90, 90, 100, 80, 80, 70, 80, 80]\n",
    "ceng=[90, 70, 100, 100, 70, 70, 60, 90, 90]\n",
    "cmat=[90, 80, 70, 100, 90, 90, 100, 90, 80]\n",
    "\n",
    "#프로그램 실행\n",
    "titleprint()\n",
    "for i in range(9):   #변수 i는 0부터 8까지 반복문 실행\n",
    "    itemprint(cname[i],ckor[i],ceng[i],cmat[i])      #함수호출\n",
    "    \n",
    "tailprint()    #함수호출\n",
    "\n",
    "#평균 열 더했을 때 총합 764 / 9 = 84.88 => 764 // 9 = 84.0\n",
    "#출력결과는 총점 770+740+790 = 2300 => 3과목의 평균 점수 : 2300 / 3  = 766,66 => 3과목 평균 점수 / 학생수 = 766.66 // 9 = 85(.185) "
   ]
  },
  {
   "cell_type": "code",
   "execution_count": 3,
   "id": "b7234c73",
   "metadata": {},
   "outputs": [
    {
     "name": "stdout",
     "output_type": "stream",
     "text": [
      "case 1: 1\n",
      "case 2: 7\n",
      "case 3: 9505\n"
     ]
    }
   ],
   "source": [
    "#변수의 범위 - 가변인수 사용\n",
    "#함수선언\n",
    "def sumsum(*num):   #함수 선언=> 함수명 sumsum => 매개변수(인수)는 num여러개를 인수로 받음\n",
    "    sum=0 #변수 sum 에 0 대입\n",
    "    for i in num: #인수로 받은 여러개의 num들을 i에 순서대로 넣어 반복\n",
    "        sum+=i #변수 sum은 i값을 누적 => num들의 값이 더해짐\n",
    "    return sum #함수 결과로 sum 반환\n",
    "\n",
    "#함수실행\n",
    "print(\"case 1:\", sumsum(1)) #1를 더한 값 출력\n",
    "print(\"case 2:\", sumsum(1,2,4)) #1,2,4를 더한 값 출력\n",
    "print(\"case 3:\", sumsum(1,2,34,567,8901)) #가변인수로 받은 값들을 더한 값 출력"
   ]
  },
  {
   "cell_type": "code",
   "execution_count": 4,
   "id": "a85a19e2",
   "metadata": {},
   "outputs": [
    {
     "name": "stdout",
     "output_type": "stream",
     "text": [
      "case 1: 1\n",
      "case 2: 7\n",
      "case 3: 9505\n"
     ]
    }
   ],
   "source": [
    "#변수의 범위 - 가변인수 미사용\n",
    "#변수의 범위 - 가변인수사용 과 같은 결과지만, 다른 방식으로 코딩 => 가변인수대신 리스트를 사용\n",
    "#함수선언\n",
    "def sumsum(num): #함수 선언=> 함수명 sumsum => 매개변수(인수)는 num리스트\n",
    "    sum=0 #변수 sum 에 0 대입\n",
    "    for i in num: #num 리스트값을 순서대로 변수 i에 대입 => 반복문 실행하면 결국, 리스트값 모두 더함\n",
    "        sum+=i #변수 sum은 i값을 누적 => num들의 값이 더해짐\n",
    "    return sum #함수 결과로 sum 반환\n",
    "\n",
    "#함수실행\n",
    "print(\"case 1:\", sumsum([1])) #리스트값 모두 더한 값 출력\n",
    "print(\"case 2:\", sumsum([1,2,4])) #리스트값 모두 더한 값 출력\n",
    "print(\"case 3:\", sumsum([1,2,34,567,8901]))#리스트값 모두 더한 값 출력"
   ]
  },
  {
   "cell_type": "code",
   "execution_count": 9,
   "id": "7b320ae3",
   "metadata": {},
   "outputs": [
    {
     "ename": "SyntaxError",
     "evalue": "invalid syntax (2184230133.py, line 5)",
     "output_type": "error",
     "traceback": [
      "\u001b[1;36m  Input \u001b[1;32mIn [9]\u001b[1;36m\u001b[0m\n\u001b[1;33m    sumsum(*num,str*) # ERROR\u001b[0m\n\u001b[1;37m                    ^\u001b[0m\n\u001b[1;31mSyntaxError\u001b[0m\u001b[1;31m:\u001b[0m invalid syntax\n"
     ]
    }
   ],
   "source": [
    "#가변인수 주의사항\n",
    "# 가변인수는 몇 개가 입력될지 모르기 때문에 다음의 경우는 에러가 발생함\n",
    "sumsum(str,*num) # OK\n",
    "sumsum(*num,str) # ERROR\n",
    "sumsum(*num,str*) # ERROR"
   ]
  },
  {
   "cell_type": "code",
   "execution_count": 5,
   "id": "25a9cf29",
   "metadata": {},
   "outputs": [
    {
     "name": "stdout",
     "output_type": "stream",
     "text": [
      "case 1: 55\n",
      "case 2: 3825\n",
      "case 3: 495550\n"
     ]
    }
   ],
   "source": [
    "#디폴트값 처리\n",
    "#디폴트값은 뒤 매개변수부터 지정\n",
    "#함수선언\n",
    "def defaultest(start,end=1000,step=1): #매개변수 3개, end는 1000, step은 1로 디폴트값 지정\n",
    "    sum=0 #변수 sum 에 0 대입\n",
    "    for i in range(start,end+1,step): #변수 i는 start부터 end까지 step씩 증가하며 반복 수행\n",
    "        sum+=i  #변수 sum은 i값을 누적\n",
    "    return sum #함수 결과로 sum 반환\n",
    "\n",
    "#함수실행\n",
    "print(\"case 1:\", defaultest(0,10,1)) #0부터 10까지 1씩 증가한 값들을 더함\n",
    "print(\"case 2:\", defaultest(50,100))  # 맨 마지막 매개변수 생략=> 디폴트값이 반영됨. => 50부터 100까지 1씩 증가하며 더하기.\n",
    "print(\"case 3:\", defaultest(100)) #매개변수로 start값만 입력=> end와 step은 디폴트값 반역=> 100부터 1000까지 1씩 증가하며 더함."
   ]
  },
  {
   "cell_type": "code",
   "execution_count": 7,
   "id": "4789344e",
   "metadata": {},
   "outputs": [
    {
     "name": "stdout",
     "output_type": "stream",
     "text": [
      "case 1: 55\n",
      "case 2: 55\n",
      "case 3: 55\n",
      "case 4: 55\n",
      "case 5: 55\n"
     ]
    }
   ],
   "source": [
    "#키워드 인수\n",
    "#키워드인수도 디폴트값처럼 뒤에서부터 사용!\n",
    "#함수선언\n",
    "def defaultest(start,end=1000,step=1): #매개변수 3개, end는 1000, step은 1로 디폴트값 지정\n",
    "    sum=0  #변수 sum 에 0 대입\n",
    "    for i in range(start,end+1,step): #변수 i는 start부터 end까지 step씩 증가하며 반복 수행\n",
    "        sum+=i  #변수 sum은 i값을 누적\n",
    "    return sum #함수 결과로 sum 반환\n",
    "\n",
    "#함수실행\n",
    "print(\"case 1:\", defaultest(0,10,1)) #0부터 10까지 1씩 증가한 값들을 더함\n",
    "print(\"case 2:\", defaultest(start=0,end=10,step=1)) #키워드 지정, 0부터 10까지 1씩 증가한 값들을 더함, 위와 결과 동일\n",
    "print(\"case 3:\", defaultest(step=1,end=10,start=0)) #키워드 지정, 키워드 인수 순서 바꿔도 위와 결과 동일\n",
    "print(\"case 4:\", defaultest(0,10,step=1)) #일반인수, 일반인수, 맨뒤만 키워드인수\n",
    "print(\"case 5:\", defaultest(0,step=1,end=10)) #일반인수, 키워드인수, 키워드인수\n",
    "#defaultest(start=1,100,10)) #키워드 인수를 중간부터 사용하면 에러 발생"
   ]
  },
  {
   "cell_type": "code",
   "execution_count": 11,
   "id": "0b980b3d",
   "metadata": {},
   "outputs": [
    {
     "name": "stdout",
     "output_type": "stream",
     "text": [
      "case 1: 55\n",
      "case 2: 5005\n"
     ]
    }
   ],
   "source": [
    "#키워드 가변인수1\n",
    "#키워드 인수를 가변개수로 전달\n",
    "#함수선언\n",
    "def testfunc(**args): #매개변수로 키워드 가변 인수 받는 함수 선언\n",
    "    start=args[\"start\"] # 키워드 가변 (start)\n",
    "    end=args[\"end\"] # 키워드가변 (end)\n",
    "    step=args[\"step\"] # 키워드가변 (step)\n",
    "    sum=0  #변수 sum 에 0 대입\n",
    "    for i in range(start,end+1,step): #변수 i는 start부터 end까지 step씩 증가하며 반복 수행\n",
    "        sum+=i  #변수 sum은 i값을 누적\n",
    "    return sum #함수 결과로 sum 반환\n",
    "\n",
    "#함수실행 - 키워드 인수는 순서 상관 없음\n",
    "print(\"case 1:\", testfunc(start=0,end=10,step=1)) #0부터 10까지 1씩 증가하며 더한 값을 출력한다.\n",
    "print(\"case 2:\", testfunc(end=100,step=1,start=10)) #10부터 100까지 1씩 증가하며 더한 "
   ]
  },
  {
   "cell_type": "code",
   "execution_count": 12,
   "id": "d41face0",
   "metadata": {},
   "outputs": [
    {
     "name": "stdout",
     "output_type": "stream",
     "text": [
      "==============================\n",
      "***********\n",
      "\n",
      "&&&&&&&&&&&\n",
      "\n",
      "===========\n",
      "\n",
      "==============================\n",
      "   ********\n",
      "\n",
      "   ????????\n",
      "\n",
      "   ========\n",
      "\n",
      "   %%%%%%%%\n",
      "\n"
     ]
    }
   ],
   "source": [
    "#키워드 가변인수2\n",
    "#위치가변인수와 키워드 가변인수 혼합사용\n",
    "#함수선언\n",
    "def testfunc(*s, **args): #매개변수로 위치가변인수 s, 키워드 가변 인수args 받는 함수 선언\n",
    "    start=args[\"start\"] #키워드 가변 인수 start 지정\n",
    "    end=args[\"end\"] #키워드 가변 인수 end 지정\n",
    "    step=args[\"step\"] #키워드 가변 인수 step 지정\n",
    "    for c in s: #반복문1: 가변인수 s를 하나씩 출력\n",
    "        print(\" \"*start,end=\"\") #공백을 start만큼 한 줄에 출력.\n",
    "        for i in range(start,end+1,step): #반복문2 : 변수 i 는 start ~ end까지 step만큼 증가하며 반복.\n",
    "            print(c,end=\"\") #c를 한 줄에 출력.\n",
    "        print(\"\\n\") #반복문2 종료되면 줄바꿈.\n",
    "        \n",
    "#함수실행\n",
    "print(\"=\"*30) # = 30개 출력해 구분선 표시\n",
    "testfunc(\"*\",\"&\",\"=\",start=0,end=10,step=1) #위치가변인수: *, &, =  # 키워드가변인수 : 0~10까지 1씩 증가하며 출력.\n",
    "print(\"=\"*30) # = 30개 출력해 구분선 표시\n",
    "testfunc(\"*\",\"?\",\"=\",\"%\",start=3,end=10,step=1) #위치가변인수: *, ?, =, %      # 키워드가변인수 : 3~10까지 1씩 증가하며 출력."
   ]
  },
  {
   "cell_type": "code",
   "execution_count": 13,
   "id": "2b51f1ac",
   "metadata": {},
   "outputs": [
    {
     "ename": "NameError",
     "evalue": "name 'a' is not defined",
     "output_type": "error",
     "traceback": [
      "\u001b[1;31m---------------------------------------------------------------------------\u001b[0m",
      "\u001b[1;31mNameError\u001b[0m                                 Traceback (most recent call last)",
      "Input \u001b[1;32mIn [13]\u001b[0m, in \u001b[0;36m<cell line: 8>\u001b[1;34m()\u001b[0m\n\u001b[0;32m      5\u001b[0m     a\u001b[38;5;241m=\u001b[39m\u001b[38;5;241m1\u001b[39m \u001b[38;5;66;03m#지역변수\u001b[39;00m\n\u001b[0;32m      7\u001b[0m test()\n\u001b[1;32m----> 8\u001b[0m \u001b[38;5;28mprint\u001b[39m(\u001b[43ma\u001b[49m)\n",
      "\u001b[1;31mNameError\u001b[0m: name 'a' is not defined"
     ]
    }
   ],
   "source": [
    "#함수 특이사항\n",
    "#지역변수, 전역변수1\n",
    "#함수 지역변수는 다른 함수, 메인에서 사용불가\n",
    "def test():\n",
    "    a=1 #지역변수\n",
    "    \n",
    "test()\n",
    "print(a) #전역변수인 a가 없어서 에러"
   ]
  },
  {
   "cell_type": "code",
   "execution_count": 14,
   "id": "5dded06c",
   "metadata": {},
   "outputs": [
    {
     "name": "stdout",
     "output_type": "stream",
     "text": [
      "testf1: 1\n",
      "testf2: 즐거운실습\n",
      "testf3: 3.141592\n",
      "랄랄라\n"
     ]
    }
   ],
   "source": [
    "#지역변수, 전역변수2\n",
    "#각 함수들에 변수명 a 사용하지만, 함수 내에서 사용되는 지역변수라 다른 함수 a와 관계없다.\n",
    "\n",
    "#함수선언\n",
    "def testf1():\n",
    "    a=1 #지역변수 a에 1 대입 => 정수형\n",
    "    print(\"testf1:\",a)\n",
    "    \n",
    "def testf2():\n",
    "    a=\"즐거운실습\"  #지역변수 a에 문자 대입 => 문자형\n",
    "    print(\"testf2:\",a)\n",
    "    \n",
    "def testf3():\n",
    "    a=3.141592  #지역변수 a에 실수 대입 => 실수형\n",
    "    print(\"testf3:\",a)\n",
    "    \n",
    "#함수실행    \n",
    "testf1() \n",
    "testf2() \n",
    "testf3() \n",
    "\n",
    "a=\"랄랄라\" #전역변수 a에 랄랄라 대입\n",
    "print(a) #출력 => 랄랄라 출력"
   ]
  },
  {
   "cell_type": "code",
   "execution_count": 15,
   "id": "cd08a49c",
   "metadata": {},
   "outputs": [
    {
     "name": "stdout",
     "output_type": "stream",
     "text": [
      "testf1: 현재달러환율은1달러당 1021 원이며\n",
      "testf1: 미화100달러는 102100 원입니다\n",
      "testf1: 현재달러환율은1달러당 1120 원이며\n",
      "testf1: 미화100달러는 112000 원입니다\n",
      "testf2: 현재달러환율은1달러당 1011 원이며\n",
      "testf2: 미화100달러는 101100 원입니다\n",
      "testf1: 현재달러환율은1달러당 1120 원이며\n",
      "testf1: 미화100달러는 112000 원입니다\n"
     ]
    }
   ],
   "source": [
    "#지역변수, 전역변수3\n",
    "#지역변수, 전역변수 구분하기\n",
    "#함수선언\n",
    "def testf1(): #함수에 매개변수가 따로 없어, 전역변수 exrate영향받음.\n",
    "    print(\"testf1: 현재달러환율은1달러당\",exrate,\"원이며\") #메시지 출력\n",
    "    print(\"testf1: 미화100달러는\",100*exrate,\"원입니다\") #전역변수 exrate에 *100 후 메시지 출력\n",
    "\n",
    "def testf2(): \n",
    "    exrate=1011 #지역변수로 exrate 선언 후 값 1011 대입 => 정수형 변수\n",
    "    print(\"testf2: 현재달러환율은1달러당\",exrate,\"원이며\") #메시지 출력 \n",
    "    print(\"testf2: 미화100달러는\",100*exrate,\"원입니다\") #메시지 출력\n",
    "\n",
    "#함수실행    \n",
    "exrate=1021 # 전역변수 선언 및 값 1021 대입\n",
    "testf1() #함수 실행\n",
    "exrate=1120 #선언했던 전역 변수 값 변경\n",
    "testf1() #함수실행\n",
    "\n",
    "testf2() #함수 실행\n",
    "testf1() #함수 실행"
   ]
  },
  {
   "cell_type": "code",
   "execution_count": 16,
   "id": "d8093130",
   "metadata": {},
   "outputs": [
    {
     "name": "stdout",
     "output_type": "stream",
     "text": [
      "Help on function testf1 in module __main__:\n",
      "\n",
      "testf1()\n",
      "    파이썬 실습 이제 절반했다. 계속 gogogogogo\n",
      "    이 함수는 인수 값에 숫자만큼 1부터 해당 값을 더한 값을 출력해 준다.\n",
      "\n"
     ]
    }
   ],
   "source": [
    "#docstring\n",
    "#코드 문서화에 도움되는 문자열 => \"\"\" 쌍따옴표 세개로 감싼다\"\"\"\n",
    "#help(함수명)으로 docstring 조회\n",
    "#함수선언\n",
    "def testf1():\n",
    "    \"\"\"\n",
    "    파이썬 실습 이제 절반했다. 계속 gogogogogo\n",
    "    이 함수는 인수 값에 숫자만큼 1부터 해당 값을 더한 값을 출력해 준다.\n",
    "    \"\"\"\n",
    "    sum=0   #변수 sum 에 0 대입\n",
    "    for i in range(n+1): # 반복문으로 변수 i에는 값으로 0 ~ n까지 대입 \n",
    "        sum+=i #변수 sum에 i값 누적\n",
    "    print(\"합:\",sum)  #sum 출력\n",
    "    \n",
    "# docstring 내용 확인\n",
    "help(testf1)"
   ]
  }
 ],
 "metadata": {
  "kernelspec": {
   "display_name": "Python 3 (ipykernel)",
   "language": "python",
   "name": "python3"
  },
  "language_info": {
   "codemirror_mode": {
    "name": "ipython",
    "version": 3
   },
   "file_extension": ".py",
   "mimetype": "text/x-python",
   "name": "python",
   "nbconvert_exporter": "python",
   "pygments_lexer": "ipython3",
   "version": "3.8.8rc1"
  }
 },
 "nbformat": 4,
 "nbformat_minor": 5
}
